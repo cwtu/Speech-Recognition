{
  "cells": [
    {
      "cell_type": "markdown",
      "metadata": {
        "id": "Ooh3KTatYqgl"
      },
      "source": [
        "# Instructions\n",
        "In Problem Set 7 you had to implement neural networks from scratch. Now that you have a sense of what deep learning libraries do under the hood, you will implement convolutional neural networks (CNNs) using Keras. There might be some code provided for you here, and you will be required to write your implementations in places marked with __```#TODO: your code here```__. You may add helper functions if you feel you need to.  \n",
        "__Note:__ you are expected to use the publicly available documentation of the python packages we'll be using.\n",
        "\n",
        "__Analysis Questions:__ In addition to Python programming, each problem may contain some analysis questions. These are meant to ensure you understand your results, and will be manually graded on Gradescope.\n",
        "\n",
        "__Submission:__ download this notebook as a `.ipynb` file and submit it to Gradescope. This assignment will be completely manually graded, but still, make sure to follow instructions closely.  \n",
        "\n",
        "- Make sure your plots are visible when downloading the notebook, otherwise they won't appear on Gradescope. \n",
        "- Make sure your code cells are not throwing exceptions.\n",
        "- Please do not import any packages other than what has already been imported here. You may be penalized for doing so. However, feel free to import specific sub-modules from packages already loaded for your convenience.\n",
        "\n",
        "__THROUGHOUT THE NOTEBOOK: WHEN APPROPRIATE MAKE SURE TO PRINT / PLOT YOUR RESULTS AND THAT THEY ARE VISIBLE ON GRADESCOPE OR YOU WILL LOSE CREDIT (WE WILL NOT RUN YOUR CODE).__"
      ]
    },
    {
      "cell_type": "markdown",
      "metadata": {
        "id": "-KBU60MFa84o"
      },
      "source": [
        "# __Part 1: Computer Audition__\n",
        "\n",
        "\"Computer audition (CA) or machine listening is general field of study of algorithms and systems for audio understanding by [a] machine\" (from Wikipedia).\n",
        "In this part of the assignmnet you will implement a CNN in Keras to tackle a supervised classification task. Specifically, you will build a speech recognition network. A high-level diagram is displayed below.\n",
        "<center>\n",
        "<img src=\"https://drive.google.com/thumbnail?id=19RSc579LA7jefQmSw1qpdMJkDSywHAm6&sz=w1000\" alt=\"block_cnn\"/>\n",
        "<i>Figure 1: High-level block diagram for part 1.</i>\n",
        "</center>"
      ]
    },
    {
      "cell_type": "markdown",
      "metadata": {
        "id": "Ty4jZ23sPvVA"
      },
      "source": [
        "## Getting Started with Audio\n",
        "\n",
        "You might be wondering what the heck these orange/purplish heat maps are and what they have to do with audio. The answer is spectrograms and proven representation. When audio is recorded, physical sound waves (e.g. air being compressed and decompressed in a fraction of a second) are first converted into analog information, which in turn gets converted into digital sound waves, a.k.a. raw audio data which looks like this -  \n",
        "<center>\n",
        "<img src=\"https://drive.google.com/thumbnail?id=1erxL8OMi2pzYblMafPc2lgG_0JP5NeMi&sz=w300\" alt=\"wave\"/>\n",
        "<br>\n",
        "<i>Figure 2: An audio wave.</i>\n",
        "</center>\n",
        "\n",
        "This is just a long sequence of amplitude values, e.g. $[-0.67, -0.15, 0, 0.53, 0.86, ...]$. The number of amplitude values captured per second is called the ___sample rate___. The number of bits used to describe each sample (each value) is called the ___bit depth___. The higher the sample rate, the more frequencies we can capture; the higher the bit depth, the more volume levels we can capture.  \n",
        "  \n",
        "However, there are other ways to represent sound.\n",
        "While raw audio is a time-domain representation, __spectrograms__ are a time-frequency representation, with the x-axis representing time and the y-axis representing frequency. The color represents the magnitude. Usually, the brighter the color, the louder the frequency. Note: they are presented with color, but this is simply to make for a more intelligible image, spectrograms are usually analyzed as a 2D array, which is essentially a grayscale image. \n",
        "\n",
        "\n",
        "\n",
        "<center>\n",
        "<img src=\"https://drive.google.com/thumbnail?id=122TlTGZ04PcNCwggGcwfcMSt8Z7x_jLP&sz=w600\" alt=\"wave\"/>\n",
        "<br>\n",
        "<i>Figure 3: Spectrograms of the words \"hot\", \"hat\", \"hit\" & \"head\" spoken once with a high-pitched voice (top), and then again with a lower pitched voice (bottom). Taken from <a href=\"https://auditoryneuroscience.com/vocalizations-speech/formants-harmonics\">auditoryneuroscience.com</a>.</i>\n",
        "</center>\n",
        "\n",
        "Spectrograms are often used for computer audition tasks as they generally offer a more effective representation. They make it easier for the model by essentially performing feature extraction, pulling out high level information. This information can then be used by CNNs, which perform well on image data.\n",
        "\n",
        "Spectrograms are commonly generated by applying a transformation called \"Discrete Fourier Transform\" (DFT) to fixed-sized portions of the audio data. From Wikipedia: \"Digitally sampled data, in the time domain, is broken up into chunks, which usually overlap, and Fourier transformed to calculate the magnitude of the frequency spectrum for each chunk. Each chunk then corresponds to a vertical line in the image; a measurement of magnitude versus frequency for a specific moment in time (the midpoint of the chunk). These spectrums or time plots are then 'laid side by side' to form the image.\" \n",
        "\n",
        "A __Short-time Fourier Transform__ (STFT) does just that, it applies a DFT to a fixed-size segment/window of the audio data, and slides that window along the data, such that we can see how the frequncy information changes over time. The entries of the 2D array generated by the STFT are actually complex numbers. The magnitude (or absolute value) of the STFT is called ___spectrogram___. You can play with [_this cool interactive visualization_](https://musiclab.chromeexperiments.com/Spectrogram/) to better understand spectrograms of different sounds."
      ]
    },
    {
      "cell_type": "markdown",
      "metadata": {
        "id": "uuV9cWH5II48"
      },
      "source": [
        "## Import Needed Packages\n",
        "\n",
        "We'll be using Colab's GPU for this one, so navigate to `Runtime>Change runtime type` and make sure you have GPU selected. Then, run the cell below to import the packages we'll be using."
      ]
    },
    {
      "cell_type": "code",
      "execution_count": 1,
      "metadata": {
        "id": "nbn0hQp9IQlY"
      },
      "outputs": [],
      "source": [
        "###########################\n",
        "# DO NOT MODIFY THIS CELL #\n",
        "###########################\n",
        "\n",
        "!pip -q install librosa  # installing librosa\n",
        "!pip3 -q install pydub\n",
        "\n",
        "import numpy as np\n",
        "import tensorflow as tf\n",
        "import tensorflow_datasets as tfds\n",
        "import librosa, librosa.display  # python package for audio/music analysis\n",
        "import matplotlib.pyplot as plt\n",
        "import sklearn\n",
        "import sys, os\n",
        "from IPython.display import Audio\n",
        "from IPython import display"
      ]
    },
    {
      "cell_type": "markdown",
      "metadata": {
        "id": "9ahz-INdVkKN"
      },
      "source": [
        "## Obtaining the Dataset\n",
        "\n",
        "We will use one of TensorFlow's publicly available datasets for audio processing: \"Speech Commands: A Dataset for Limited-Vocabulary Speech Recognition.\" It contains one-second (or less) audio clips with the following contents: silence, an unknown word, \"yes\", \"no\", \"up\", \"down\", \"left\", \"right\", \"on\", \"off\", \"stop\", or \"go\". Thanks to the `tensorflow_datasets` package, we can download it with a single line of code. This dataset is over 8 GB so it'll take a while (took me around 15 minutes).\n",
        "\n",
        "__Note:__ `tfds.load()` returns a `tf.data.Dataset` object, which is an abstraction over a dataset, and allows iteration to happen in a streaming fashion, so the full dataset does not need to fit into memory.\n",
        "\n",
        "__Another Note__: once you've downloaded the data, re-running this cell won't re-download the dataset, it will simply use the downloaded data to re-populate the variables, which may come in handy. "
      ]
    },
    {
      "cell_type": "code",
      "execution_count": 2,
      "metadata": {
        "colab": {
          "base_uri": "https://localhost:8080/",
          "height": 1000,
          "referenced_widgets": [
            "6828d973a5694a53a6a3c0b17eacd324",
            "5cc01491322c43a69e279b116e5058d7",
            "af1ebf3bd9184ef7b096acc05fab2ed9",
            "31327cda48c346a8bcba576c70377841",
            "7ba6dbec42024376a72e87cb3d159c43",
            "eadb9a1c92e3435083f03e974b601cbd",
            "41d3d3975dba4e50b0711372fe7e0edd",
            "0dbb53cc04774074b2312c7008596272",
            "b355fc1f776a43b7a050fe143c8fd6fb",
            "829c7913db3e4a319740e0f5f68037c5",
            "0beb03eb1c024e3ebf268528bf010817",
            "1d508c532f074e8f827154f62642842d",
            "b2009413d1724de686c05dddddb46fc4",
            "db1cea8b51614f4cb52f684305907d6c",
            "adfbc13a11514040884fc4ba622c2416",
            "6e8ac95f050f4a32922f61cb13a297ca",
            "3868b8727ade481b8eaafdc0ec58ff31",
            "1739ccc1bad541bda4fa82845f6ae59d",
            "9c62790793a449bf9ac9a78224863d03",
            "c7f3b1534c04448db97fc3e7e7eb46cf",
            "e76939afb0384539a7ccf00e6116a706",
            "8c21ce6fc433430c8690df81235d245d",
            "663a74508562499cbdf007d8c3c039e3",
            "e93077a7b38343e8ad9d649094aab8fa",
            "cc4dd14728df4f358500bead8dbd90d9",
            "8187fd653fd545a1a6001766fb7f6899",
            "762ee4c554c64a5eab9bcb23bcd0942a",
            "7418f17c761a440e9294c2d5268e24da",
            "39b9e001ce98402a87f66e7af7bf4735",
            "493b0af289954412afb6ec73e68838b7",
            "8fe99b930baf4622a0f743b79934dc73",
            "6a16d3c1e4304764bfd0575dfebc9ff7",
            "b79010206bfb41e98439d718e51172f3",
            "790d0c69f84b4baebad2f6f644bf67d8",
            "1c0dbe95758f44dabe515d1bd1eb1455",
            "9fd1f97ffe774002aefd3fd6f79747fc",
            "7cb5ff5d4d0847c7bb07c697505f3524",
            "bcb3c6f364224ff0901f01a0e1d852b6",
            "6b1b1c9adcf3431993c18260edb33a6f",
            "9f57c6ca4eab468790b2e359058a7aa5",
            "8acd7d16037b4cc28e13b40c5346c6a5",
            "9ed5f02ff03548db83d554bedd170379",
            "e669290ee13a4c83a09dbb2f4ff22259",
            "abaa176c894d4505aced78f41ce3895b",
            "0c55f3f4923842b7926ed2cc3af72235",
            "af78d825916247829720734100d7725c",
            "9d2c76d02a484026b384be01f11e7995",
            "85809d2a49ee45b295af39df1b5151be",
            "86072bc9485742af8d9312b70ded6dfa",
            "b2a76e2aa42b46f09ff00165df3afb75",
            "c2cbd1aa0b5047b4a611791e127483fe",
            "662c3f18ed6745aa985f846ed075cf29",
            "b5dca379daa242a88336735662faf521",
            "c52b3a8964c34107bb693692f82fd0e9",
            "81f9840b12a044e784bb67ed8ea348f9",
            "0d378615715a4dbbbdb51a469ab793dd",
            "6ab6204202c64d6a9838285f31f71a0a",
            "f9a4282b44444462a37f8518e5e243a1",
            "b37b92085f164f3aa4814b2a9ff552fe",
            "d0e7a89fedf84e26b78c0c2cc205bb4f",
            "cd1ef18a37fe4114ad3fca225858b998",
            "e24755becc894c5da703d3b3e2ec2ab9",
            "3ffa6890bdfc49f7b27f6ef6b652e032",
            "12c309c1d5e746cbba9b73b186fa4709",
            "c8d62017f43348849b20c61edd6f152e",
            "4317cc8b9da4411381302c0879109bf6",
            "6bb74e77551a4e648e2b0445bff1dd53",
            "135e14e00f554858a7ec343b811d171f",
            "9ac9839b0acc464a82468496f2c8f81c",
            "b017748607814aef81814d41d5b7b3ac",
            "465c18d465b44cd6a1b8a04fce09ddaa",
            "62b38efbd3104d8c8c2dc3f875bb9282",
            "4e83f532541e442abeca55342e57ffe5",
            "d8477ef06ef34c6ab20f2650b8c84447",
            "e947778cc51448ba852248e4e2565259",
            "48857cb650d541458448b0b833e75173",
            "6748e3a866c145cab68d0a54af74786c",
            "c3cb5b0a32474434ab12677e795ed9d2",
            "d04479ee155649c6be447033ccf831b0",
            "5284eb3e52a34cdabf47fa33ddccc5a6",
            "d315e00dd3ca46c3b19976152d32aecb",
            "38b0f6a86a0f4f5c8978d16d4bb10ac3",
            "567b7c12019942daadd3e72315dc0262",
            "260617d733f7475fb6cc0beacb3de2c6",
            "f05d9fcc79d44e7588fdb2c44c0bba7a",
            "4f21db695259403c8bed92d0cbdee841",
            "33e9e26c9a7149888b812c7a7f759884",
            "5de943c1668b4e1db490943ed0afb3f1"
          ]
        },
        "id": "HoIl0kh6NYS_",
        "outputId": "e428680f-01f7-4e58-83a2-3f4bcc1bbaa6"
      },
      "outputs": [
        {
          "name": "stdout",
          "output_type": "stream",
          "text": [
            "\u001b[1mDownloading and preparing dataset speech_commands/0.0.2 (download: 2.37 GiB, generated: 8.17 GiB, total: 10.53 GiB) to /root/tensorflow_datasets/speech_commands/0.0.2...\u001b[0m\n"
          ]
        },
        {
          "data": {
            "application/vnd.jupyter.widget-view+json": {
              "model_id": "6828d973a5694a53a6a3c0b17eacd324",
              "version_major": 2,
              "version_minor": 0
            },
            "text/plain": [
              "Dl Completed...: 0 url [00:00, ? url/s]"
            ]
          },
          "metadata": {},
          "output_type": "display_data"
        },
        {
          "data": {
            "application/vnd.jupyter.widget-view+json": {
              "model_id": "1d508c532f074e8f827154f62642842d",
              "version_major": 2,
              "version_minor": 0
            },
            "text/plain": [
              "Dl Size...: 0 MiB [00:00, ? MiB/s]"
            ]
          },
          "metadata": {},
          "output_type": "display_data"
        },
        {
          "name": "stdout",
          "output_type": "stream",
          "text": [
            "\n",
            "\n"
          ]
        },
        {
          "data": {
            "application/vnd.jupyter.widget-view+json": {
              "model_id": "663a74508562499cbdf007d8c3c039e3",
              "version_major": 2,
              "version_minor": 0
            },
            "text/plain": [
              "0 examples [00:00, ? examples/s]"
            ]
          },
          "metadata": {},
          "output_type": "display_data"
        },
        {
          "name": "stdout",
          "output_type": "stream",
          "text": [
            "Shuffling and writing examples to /root/tensorflow_datasets/speech_commands/0.0.2.incompleteJMCHAQ/speech_commands-train.tfrecord\n"
          ]
        },
        {
          "data": {
            "application/vnd.jupyter.widget-view+json": {
              "model_id": "790d0c69f84b4baebad2f6f644bf67d8",
              "version_major": 2,
              "version_minor": 0
            },
            "text/plain": [
              "  0%|          | 0/85511 [00:00<?, ? examples/s]"
            ]
          },
          "metadata": {},
          "output_type": "display_data"
        },
        {
          "data": {
            "application/vnd.jupyter.widget-view+json": {
              "model_id": "0c55f3f4923842b7926ed2cc3af72235",
              "version_major": 2,
              "version_minor": 0
            },
            "text/plain": [
              "0 examples [00:00, ? examples/s]"
            ]
          },
          "metadata": {},
          "output_type": "display_data"
        },
        {
          "name": "stdout",
          "output_type": "stream",
          "text": [
            "Shuffling and writing examples to /root/tensorflow_datasets/speech_commands/0.0.2.incompleteJMCHAQ/speech_commands-validation.tfrecord\n"
          ]
        },
        {
          "data": {
            "application/vnd.jupyter.widget-view+json": {
              "model_id": "0d378615715a4dbbbdb51a469ab793dd",
              "version_major": 2,
              "version_minor": 0
            },
            "text/plain": [
              "  0%|          | 0/10102 [00:00<?, ? examples/s]"
            ]
          },
          "metadata": {},
          "output_type": "display_data"
        },
        {
          "data": {
            "application/vnd.jupyter.widget-view+json": {
              "model_id": "6bb74e77551a4e648e2b0445bff1dd53",
              "version_major": 2,
              "version_minor": 0
            },
            "text/plain": [
              "0 examples [00:00, ? examples/s]"
            ]
          },
          "metadata": {},
          "output_type": "display_data"
        },
        {
          "name": "stdout",
          "output_type": "stream",
          "text": [
            "Shuffling and writing examples to /root/tensorflow_datasets/speech_commands/0.0.2.incompleteJMCHAQ/speech_commands-test.tfrecord\n"
          ]
        },
        {
          "data": {
            "application/vnd.jupyter.widget-view+json": {
              "model_id": "c3cb5b0a32474434ab12677e795ed9d2",
              "version_major": 2,
              "version_minor": 0
            },
            "text/plain": [
              "  0%|          | 0/4890 [00:00<?, ? examples/s]"
            ]
          },
          "metadata": {},
          "output_type": "display_data"
        },
        {
          "name": "stdout",
          "output_type": "stream",
          "text": [
            "\u001b[1mDataset speech_commands downloaded and prepared to /root/tensorflow_datasets/speech_commands/0.0.2. Subsequent calls will reuse this data.\u001b[0m\n"
          ]
        },
        {
          "data": {
            "text/plain": [
              "tfds.core.DatasetInfo(\n",
              "    name='speech_commands',\n",
              "    version=0.0.2,\n",
              "    description='An audio dataset of spoken words designed to help train and evaluate keyword\n",
              "spotting systems. Its primary goal is to provide a way to build and test small\n",
              "models that detect when a single word is spoken, from a set of ten target words,\n",
              "with as few false positives as possible from background noise or unrelated\n",
              "speech. Note that in the train and validation set, the label \"unknown\" is much\n",
              "more prevalent than the labels of the target words or background noise.\n",
              "One difference from the release version is the handling of silent segments.\n",
              "While in the test set the silence segments are regular 1 second files, in the\n",
              "training they are provided as long segments under \"background_noise\" folder.\n",
              "Here we split these background noise into 1 second clips, and also keep one of\n",
              "the files for the validation set.',\n",
              "    homepage='https://arxiv.org/abs/1804.03209',\n",
              "    features=FeaturesDict({\n",
              "        'audio': Audio(shape=(None,), dtype=tf.int64),\n",
              "        'label': ClassLabel(shape=(), dtype=tf.int64, num_classes=12),\n",
              "    }),\n",
              "    total_num_examples=100503,\n",
              "    splits={\n",
              "        'test': 4890,\n",
              "        'train': 85511,\n",
              "        'validation': 10102,\n",
              "    },\n",
              "    supervised_keys=('audio', 'label'),\n",
              "    citation=\"\"\"@article{speechcommandsv2,\n",
              "       author = {{Warden}, P.},\n",
              "        title = \"{Speech Commands: A Dataset for Limited-Vocabulary Speech Recognition}\",\n",
              "      journal = {ArXiv e-prints},\n",
              "      archivePrefix = \"arXiv\",\n",
              "      eprint = {1804.03209},\n",
              "      primaryClass = \"cs.CL\",\n",
              "      keywords = {Computer Science - Computation and Language, Computer Science - Human-Computer Interaction},\n",
              "        year = 2018,\n",
              "        month = apr,\n",
              "        url = {https://arxiv.org/abs/1804.03209},\n",
              "    }\"\"\",\n",
              "    redistribution_info=,\n",
              ")"
            ]
          },
          "execution_count": 2,
          "metadata": {},
          "output_type": "execute_result"
        }
      ],
      "source": [
        "###########################\n",
        "# DO NOT MODIFY THIS CELL #\n",
        "###########################\n",
        "\n",
        "ds, ds_info = tfds.load('speech_commands', split=['train', 'validation', 'test'],\n",
        "                        as_supervised=True, with_info=True)  # download the data\n",
        "train_set, valid_set, test_set = ds  # get train-validation-test split\n",
        "ds_info  # display dataset info"
      ]
    },
    {
      "cell_type": "markdown",
      "metadata": {
        "id": "7C5TWmCzRWqc"
      },
      "source": [
        "Let's listen to a few files from the dataset. Using the **Audio(filename)** function from IPython notebook, you can listen to an audio file directly in Colab. Bear in mind that the sample rate of the audio recordings is 16 kHz."
      ]
    },
    {
      "cell_type": "code",
      "execution_count": 3,
      "metadata": {
        "colab": {
          "base_uri": "https://localhost:8080/",
          "height": 208
        },
        "id": "caAt-mBVXGOG",
        "outputId": "aa9239f3-1088-4beb-e951-8c44ff122e25"
      },
      "outputs": [
        {
          "name": "stdout",
          "output_type": "stream",
          "text": [
            "signal =  [-15 -18 -12 ...  16  21  25] ; label = 4\n"
          ]
        },
        {
          "data": {
            "text/html": [
              "\n",
              "                <audio controls=\"controls\" >\n",
              "                    <source src=\"data:audio/wav;base64,UklGRiR9AABXQVZFZm10IBAAAAABAAEAgD4AAAB9AAACABAAZGF0YQB9AADo/+P/7f/f/93/6//f/93/6//8/wkA9P/b/9X/5f/6/+P/2P/r/9v/3//9//j/8P/g/9//6//t////AAABAAsAAAABAAsAFQAhAAwABgAYAA4AFgAdABUAGAAVABUAHQAeABsAGwATABkAEwAEABgAFQAWABkAAwAIAAYABgAWAAwAGAAIAAAAEADy////AAD8/xkAAQAAAAMA7f/9//z/8v8VAAsA+P8BANX/9//v/73/SAATAPL/KACh/xsAKgDV/0AA0v/l//f/sP9FADYAFQAlANj/CAARAAgAKwD8/xsAFgDf/yEAEQAEACAA5/8TABAA6v8YAOD/+v8bANX/CADv/9L/EwDt////AwDd/xgA9f/g/xUA3f/w//j/wf8bAAMA4P8JANX/CQAMAOD/KAAGAPX/EAD0/xMAFgD4//r/8v8RABAA7f8BAAEAEQAdAOr//P8JAAAADADr/wEAHgAAAAwADgAGAAkA5f/o//T/7f8OAP//8v////D/AwAJAP//EwAYABYAEAD6/wsADAABABEAAwAAAAQA/P8IAAsABAD9//r/AQABAP//AwAEAAkAHQAQAPz/DgAQABAAFQD8/xAADAD3/w4AAwATAAwA9/8QAA4AKwAgAPz/EAADAPj/BgD9/wgAAADv/xUACQDy/+f/u//b//X/7f/1/9v/9f8QAAMABADy//L/AQADABUAHgAIAOD/AAAhACYAJQDl/+r////9/zUAEAAJABkAyP/8/z8AHQAhAO3/1v8lACgAPQAjAMv/9P8EACAASgAQAAEACAAVACMACQAtACMACQAjAB0ADADG/9j/TQCJAHkA1f9k/8j/MwB+AGoA4/+o/4//0/+BAJYAMgCO/xD/l/9QAIQAUAC1/3L/uf/3/0oAQwDN/5H/av+1/1AAQgD//7P/hv/t/ysALgD9/6H/u//n/x4AOAD1//D/1v/i/yEA8v/i/7j/l////wwAAADo/6b/0//4/wgAEwDb/8r/2v/r/x0AFgDg/9P/1v/8/wwA6P/f/+j/7/8WABYA7f/w/9P/2/8GAP3/CwDg/7j/6/8LACgALgDw/9j/6v/6/xYAFQAEAPL/3f/6/xYAIwAOAOL/7f/0//T/AQD6/wwACADv/wMA+P/r/+X/1f/6/+r/1f////L/AwAJAO//FgD8/93/9//8/yEAKgATADgAGwD1/xgAHQAtADMAAAAGADAAPwBHAC4AKAArAAYAGwBFADMAMAAZABYARwBAAC0AIwALABUAIwAtAEgAMwAWABMAKwA/ACgAHgAEAAwAKwAVADMAQwAVAPr//P8zADIA8P8QAPL/AQBXAO//9P8yAPX/+P/r/yoATQDW/+3/FQAZAFcABgDr/xUA6/8GAA4AHQAwAOj/AAAmAAwAJgABANj/9f/y/wgADAABAA4A7//4/xgA9P/y//3/4v/j/+v/9//8//3/EAD///r/9f/a/+//9P/r//T/2//n//f/6//w/+D/3//3//z//P/y/+X/7//y//j/9f/y/xAA+P/y/xsAAwDr//z/+v8LAAsA8v8DAPz/7//9//T/EwAOAMX/4/8OAO//6P/t//T/6//V/wEA/P/Q/+X/0v/i/wYA9P/v/9v/5f///93/6//o/8r/4v/g/+3//f/t/+P/yP/Y////9P/g/9L/1v/0/+P/1f/i/+L/4v/Q/+L/9//a/9X/5f/t//z/7f/V//z/BADr/+r/4v8EAAAA1f/y/+r/5//t/8P/6//3/9D/6v/j/+3/6v/D/+f/9f/w//r/6/8DAAkA4P/l/wAA9P/1//r/9f8EAAAAAAD9/wEAAADb/+v/6v/T/wwALQAmAPL/qf8IAC4AEAAAAMj/VQAmAJT/JgBaADoAzf+R/zgAbQAeANv/sP8qAFcAsP8ZAIEACADd/7v/LQByAAsADADw/wQAXAAVAAwAOgD///3/AwAdAEUA/f/3/////P8dAAsAEwAhAPD/8v8hACgALQD9/+X///8LADAAFQAWACAA9/8MAC0ALgAQAAAABgARACUAIAD4/wEAPwATAPr/MgAoAPr/6/8gADgAJQAIAOD/GABQAAkAxf8OAEsABADf//j/JQAmAPD/5f8gAFUADgC5/wAAUAAqAPL/9P8mABsA3//y/zgAQgD//9b/EABDAB4A+P/3/xgAJgD4/wQAMgAyAAMA6v8lADUAEwATACsAKwAIAPr/DgAlACMA///o//z/CwD1/+P/9//1/93/6/////j/8v8DAAwA9P/w//3/EwAYAPj/8P/9/wYA9P/n//D/9//3/93/0//i/+//7f/a/9D/xf/I/9r/y//a/wQA/P/V/9v/9f/0/+j/4P/9/wkA6v/i/+v////9/9L/4P/1/+//6//Y//j/DADj/+r/9//8/wwA/f/8//L/9P8LAAQADgALAPD/9P/8//D/9P8EAPz/7f/j//X/+v/j//T/5f/g//L/5f/r/+P/3f/4/wMA7f/i/+v/+P8AAP//DAD4/+j/AwD//w4AEwADABEAEwAgACMAFQAYAA4AEwAVAAMACQAGAPz/8P/8/yEAGAD//wsAKwAuABEACAARABAACAAbACYAHgAVAAsAJQAoAB0AIwAQAAAAAwAWAC0AGwAGAP3/BAAoABkACAAmACAAGwAqAC0AQgAwABgAJgAyADsAMgAgACEAGwAQABgAGQAVABUADgAWAAYAAQAIAPT//f/8////EAAAAPT/4P8BACUAEAAMAAgABAAMAA4AGAATAAgAAQD3/wMA///t//j/AwAAAPr/AQAEAPj/8v/6/wgA/f////T/7/8DAPz/+P/8////BAD0//L/EQAgAAgA8v8JACMAHgAJAAEAGAAjAA4ABgARAA4A///v/wAADAD3/+X/2//q//r/4//Y/+v/8v/r/9//4v/0//3/CAABAAMAEAADAAYACQAJAAsA+v8AAAkABgALABAAFgATABgAIAAYABYAEQAQAAsAAwAAAPz///8DAP3/AQAGAPr/6v/o/+j/5//w/9b/yv/j/wQAEADq/+j/9P///wQA/f8GAPf/2//Q/9v/8v/y/+D/0//j/+v/5//g/+D/8P/o/+r/8v/r/+3/7f/3/wEA9f/y//f/9/8LAAAAAAAIAOD/0P/a/+v/6P/i/9v/1f/g/9v/2v/T/+L/9//o/9//5f/v/+f/7f8GAAwA///0/+v/9/8DAPf/8v/r//T/AAD///3/9//1//j/CwARAAMACQAEAPj/AQD8//f////8//f/7//9/wsA+v/g//f/DgATAAwA9f8bADMAHgAmADIAMwAeAAkAGAAzAEMAKAAEACgAPwAgABkAIwAqAB4ACwAQABgACQAEAAkAAwAWAAkA9f///wsAGwALAAkACwAIABgAHQAdABMAEAAZACEADgAMACgAJgAIAPz/CwAWAAkA8P/y/wAABgD1/93/+P8WABUAAQAGAA4A+v/y//r/GAAYAO//6v8BABMAFgAOAAgAEQAbAA4ABAAMAAwA+v/9/w4A/P/w//X/CQATAAsAEwAJAP3/BAALABUAEwDy/+f/AQAQAA4ADgARAB0AGAAGABMAGQAMAP//9//8////9P/i/+3/AAADAPr/8P/1//j/9f/w//3/BADr/9//7/8LACAABADb/+L/DAAdAPr/0P/b//3/9f/I/6z/1v8TABUA7//f/+v/5//T/9D/2v/Y/73/uf/f//f/9f/i/9j/9P8BAOv/yP/T//z/AADr/+L/9P/8//L/4v/w/xAA/P/a/+r/EwAjAAsAAQD8//L/9P/t/+D/4P/v//T/+P/4/wMAJQAeAAAA9/8AAAYA7f/f/+X//f8RAAMA7/8DAC0AIwAAAPf/BAAQAPf/9f8AAP3/BgD///j/AAD9//j/9////wgAAwD///L/9P/8/+X/y//I/9//9P/6//j/+v8IAPj/4//r//T/8v/q/+P/5//t//L/AwAOABAAEAARAB4AFQAEAAEAAAD9//r/AAALAAgAAwATACAAJgAdABAAIQAqABkAAAD9/wMAAAAJAAAABAAYACEAMAAeABgADAD1/+//6v/8/wEA/P8AAAgACAAIAAEA/f8GABMACwD9//L/+v8TAAsAAAD6/wkAHQAZACMAJQAlACMAEAALAAQA///6//f//f8AAP3/8v8JACEAGQAZABAAFgAbAAMA6//g/+L/9P/3//X/AwAYACsAGwAWABsAFgAZAAYA+P/8////BgAQABgAIQAyAC0AJQAqACAACwD9////AAAEAAgA9////xkAGwATAAQA/f8TAB0ADAD8/+//6v/q/+j/4P/f/+r/8P/v//f/AAD0//T/CAAMAAMA7//n//r//P/y/+f/6P/0//r/+P/1/wYABgAAAAEA8P/t////BAD4//D/+P8GABAAIAArABsACQATAAsA///r/+X/AQAGAPr/9f/9/wgACwAAAPz/+v/v//T//P/4//T/6v/g//L//P/3//z//P8BAPr/9f/3/+f/7/8AAPz/8v/v//T/+v8BAAAABgAQAAgAAwAIAAsAEQAVAAgAAAADAAgADAADAPr//f8AAPj/+v///wQACAABAAgADAADAP//+P/3/wMA+v/y/wAA///9/+//4P/y//D/5f/i/+D/7//v//D/8P/1/wQAFQAWAA4AAAD4//L/6v/q/+j/4v/f/+f/6P/w//z/+P/4//f/7f/t//T/7//r//D///8LABUAGAAQABgAFgAEAPX/7f/v/+3/7f/r//L///8MABkAIQAwADYALQAhACAAGwAVAA4ACQARAAwACAAJABMAJQAgACUAJQAtADoAKgAjAC4ALgAjACoAKAAmACgAJgAhAAwAEwAdABAA/f/9/wwABAD8//z///8DAAYA9//w/wEAAQD//wMABAAIAAgAAwD///3/+P/w/+D/2v/f/+L/2//T/+v/BAAIAP//AAAWAB4AAwDw/wEA+P/n/+X/1v/S/9j/2P/Y/9j/0P/Y/+f/6P/w//f/AwD8//L/9//y/+f/5//n/+3/+P/o//X/CwAGAAEA8P/v//r/7//d/+f/9P8BAA4ACQAMABkAJgArACUAIAAYABMA/f/g/93/2v/O/9b/5f/r//j/CwAgACgAKwAmACUAHgAOAAEA9f/w//T/8P/t//3/AAD6/wQABAD9//j/5//f/+D/4v/t/+j/7f///wQAFQAbABUAEAAJAPz/9//w/+j/6P/j/+P/7f/y//X/AwAOABUAIAAmACoAKgAdABMADAAEAPz/5//f/93/0//a/+P/9P8DAAAADAAbABYAFQAQAPz/7f/i/9r/3f/n////CwAQABgAJgA2ACoAHgAVAAEA6v/W/83/yv/S/+D/+v8QACAALgA4ADUAJgAhABEA8v/f/9b/zv/K/9X/5f/w/wEAHgAyAEAAQwAlABYAEQD6/+v/2P/L/9r/3//t/xUAOgBPAEsASgBCAD0AKAD9/+X/1f/G/7j/uP/N//D/GwA4AEgAWABYAE0AQgAmAAkA6//F/77/y//F/8r/4P/y/wYAGQAuAD8ANQA1ACoAFQALAPT/8v/y/+j/5/8AAAgA//8TABUADAD3/9//1v+4/7D/u//G/9b/6/8IACEAPQBSAFAAQgAtAAwA4//I/7X/o/+x/8v/1v/v/xAAKgBDAFIAVwBkAF8ATwAzAAMA6P/Y/8D/tf+4/8D/xv/S/+P//f8lAEAATQBXAF0AWABAACgAEAD6/+r/zf/B/8j/zf/N/87/6P///w4AGQAhADAANgAyACYALgA1AB0AEAAJAP3/4v/D/7n/vf+1/6z/sf+z/9X/9f/6/xEALQBDAE8ARwA/AC0ADAD6/+j/0P+9/6P/n/+k/6v/tf/B/9r/9/8jADgAQgBQAFIAUABHADMAIAAIAOv/0v/K/8H/tv+x/6j/s//N/+L/9/8VAEAAWgBlAGwAbABYABsA5f/B/6j/lP+P/5//tf/f//f/CAArADYAPQA1AB0AEwADAPz/7//T/9v/3f/T/9P/xv/B/8D/vv+2/7b/zv/n/wEAIwBAAE8AUgBNADAAFgD//83/rv+e/4z/mf+j/8H///8hAEoAZQBtAHoAagBLACYA/f/Y/6v/kf+C/3f/mf/D/+X/DgA7AGoAfgCCAGQAQAAtAAEA2P++/8D/y//V/+v//P8QACEAIQAqAB0AAQD3/+3/5f/o/wwAOABAAE8AZwBnAEsAEwDl/9D/n/9y/3X/hv+e/9D/GQBYAIYAqwCeAH4AcgA4AOL/of9t/03/QP9N/3n/tf/6/zgAagCXALAAsACOAF0AKwDg/6n/k/+B/4f/l/+r/9X/AQAwAFwAZwByAHEAWABIACoAAwD0/+r/3//o/+//9/8EAAEACwATABsAFQD8/wgAEAAMABEADgAuAEcAOAAyADAALQAdAAgA+P/1//r/4//i//r/EAAgACUAOwBIAE0ASAArABUA/f/y/+//4v/V/9r/3//V/+P/7//w//r//f/4//j//P/6//3/8v/j//L/CQAJAAYAAQAJABkACwAVAP3/y/+5/6P/s/+5/7P/uf/G/+j/9f/l/+D/8P/8/wgACwAjADgAKAAwADAAMABAACMABADt/6T/av9P/1f/Z/9x/6n/2v8bAFAAaQCmALYAoQB+AHwAYQAMAMv/jv9n/0r/Q/9d/4b/sf/B//X/NgBIAEcAQwA1ABUA7f/v/wsAJgBAAFcAhgCbAIEAQwDy/5P/Ov/u/qD+gP57/rj+Pf/n/6QAKwGMAcwB4QGyAS4BlwDo/zr/q/5H/kL+X/5z/tn+gv87ANUAEgFIAWsBMwHYAIYASwD9/3L/M/9g/3f/ev9+/67/EQAuACMAGAAeADAADADt/yAATQBFAFIAWACLALEAiQCBAHoAVwAjAOP/sP91/0//Qv9I/6b/BgBFAKkABQEzAS8BJgECAZEABACe/z7/3/6w/on+nv4b/4r/8P+HACsBjAGMAW8BJwGxAAQAMP+o/kT+CP4V/j/+2v6P/z0A8gB4AeMB8wHJAU0BlgDO/8T+E/65/VP9Yf3W/ZP+if9VADEBAgJpAqICiAIAAksBPwAz/4H+zP1G/Tn9gP0O/t/+9f/3AK8BbgILA08DDgNXAqEBzgC1/9r+Qv7E/W79TP3e/Yj+B//K/2oAFwGmAeABEgIiAtsBfwEjAc0AbADV/0P/1/6I/nj+af5R/mb+nv4g/5P/9f+HANsAGgFDAVUBpgGVASQBqAAwAAAAef+N/gD+6P3p/dj9/v1x/gb/jP8VAMIAXgHgARcC+gHbAacB9QAAAFL/5v6V/jX+9f0a/n7++f6H/xMAiQDDAO8AGQEaARIB7wDCAMMA9wAfAfcArgBLAMj/O/+4/lb+8/3G/QX+1/74/wUBIgIqA+cDIwToA0AD9gEtAGz+Pv2H/Bv8HPy9/Ar+o/9gAfYC0AMhBP8DbQOwAnIBzf9u/or9L/1Z/br9Wv4L/5z/egBWAXcB4AALAIL/Kf+e/kL+R/6D/iD/2v/CAJcBqQFGAagAJgC5/6/+Uf07/Lv7FPx6/MX8mP2w/vT/KQEoAv4CQwPHAjwC+AEXAaz/JP6s/OL7kfub++X7U/w5/Yn+QAD1AdoCOAOgAwQE6gMAA9AB4gAgAGn/3f7f/gv/1f6b/vf+4P90AFwAOAC9ALEBVwK1AhADhgPoAxIE/wOcA9cCTgHN/yP/kf4G/qL9rf21/vf/hAEhA+wDQwRTBIgEVQS9AuwAfv8v/jf9rvyZ/Lb88vyq/er+HgDwAOAASAAAAIT/5P4C/s38Nvww/Er8lPz4/En9Lv0P/Qr9hvy6+5L6jPmM+RH6wfqw+//8g/6f/7YAlwF3AZkAEf99/Wf82fpI+ar4wPhk+Sr6q/vY/V//iwC0AbICcQMZA+0BjAEFAfL/h/81/3n/SwAvAWgCbQPTBOkFBAYmBgEGtAUSBTEE7wPwA20ELAVPBiQILwnsCeMK+gpYCukIIQeTBecDlQIIAq8CPAS1BfIHLwshDacNiQ0BDOcJuAb+AR/+Z/uK+YH4vfiL+1f+HQDKAjcFvgZ8BvADrwF5//v7LfhW9Sn0TvOV8qfzCfaL+DP6x/rA+338vfvn+b/3JvZ49KHyzvHR8Uzy8fK585P1wvfp+IT58/mL+uT6iPpZ+rn59vj8+O74MPmm+b35cPpn+7j8dP5V/1AAWgHOAfECwgOeA54D/QMNBUMGswYKB9YHogj4CMkIogh7COUHrAdUCMMJNAuCC9cL6AxJDnEP/g5YDRoM7wvfC3wK2QjMCEoJjAmvCiIMYA0ADqINHw0UDSkNfQvmB5wE4ANpBYgEyABA/98AxwJqAa39Pv1B/l776vbP9Tj4E/gP87jw9vSs+c/4wvS/9KD4rvjm84vvwe1260TlVt8m3uHeVd2B2mnctuOE6uLtC/DE9CD7qP6W/pf97fwN+3X3yfSZ8xry9u/97aLuBvJa9SX4PPpN/DIACgQQBj8G6AQOBF0DcwJQAz4Fbwb9BrcIxA2eEwYW2hXqFdMWCBcyFe8SWxGbD/sNhA35DmURDBMxExwTohQrFhYVdRHbDlQPbw++DOwJ5Ql1C2sLBApICiELgwlGBzEH2QhUCTYHkwWjBaIEaQI/AJL9APp19m/1sfZQ9iL16PbA+3cAwwFTAdEB1wCQ+xHzaOqR4BLTDcbdvjS9eb1rv0XHTtUT5l32zwM/DxgYxRt6GosUigoF/tLv4eKo2QjTNs6kzOfQONof5JLtQ/e9/38Gjgu8DjoPbguQBeYBXwD2/Wr6LPhv+IL6G/57AkoGdgmtC9sNCBH4E6UVEBX4EwEVJhYkFpgVUBQHEyERew8zEDkRJxGmEEQSaxcQGyIdGiAVIZogByD2HqQcPxcSEXsM+QjxBsEEnAO8BfYHyAoTEGQVcRjdGGwYkxeoFZoR5wmTAi7/1/vI9ojyn/BJ8jX2dPgB+Qr7N/1t+pr0V/B16pnecc2nwGHBbcgOy1jL0tTB68oD1RLiG24hkSLpHRUUywlh/ZLqCNd4zJ/OGdVe1ubWzt407uf82QIyA0wCWv+s+mH0oO5T6oTkvuCC5HXuXfk7AMYDOQgOD1QUmBFcCNL/dvpb9rXxS+5C7wvzNPeU/W0H+RHzFwAYOxdGGasbfxm2Eo4MGQqRCj4L3go+C18MWA6OEkMXiBrrGnoZUBraHO8e9x6OG6IYbBjkGIUZdBhFFc0SjxGrD9oMdQtOClAHCgd3ClIN2g+6EUYRjxHQE+YTxQ8oCVkCUP8CAm8Dhv5Q+Vv3nPYB9dvtX9ygw7OxrK+XtlG69bbNuPHNk/GbEfwiximGLmk0YDh+NBIjhgUd6OfW+NIH0cHG8LkkuhHMuuLW8AL0/PLY9jMAyQhRC+YFhvz3+FQAywo0DdUGfP4P+ef1QPCw6Irh3dcX0N7R391Y7vb4BABPDAUbFya2KQYnBiF0FfQFJ/pl9Ibvb+dy4brlQvPsAuANcRSOHOIljCyULqArgyTeGhASogvnBVgAqvuU+tD/lwd4DtoV/h0/Je4pfyyPLCMpYyRmHrUXdxMDDxYK0gg7CtcORhZ4HnAmvSdXJF0i5B3jFkgMZ/uJ7JDmMegy7Drv1PJ7+NkCiw4CEyIOIfky05uyQaeeqFmkgpWAj66lStQMBFIhSy/4ODZCp0uQTmM+3BfC6TXL8MOcxcS9Oqzrppm7U96l+r8EiAJTAbMHihMEF/QJFfe67Af0kgdoE6cOiARqA9ILvxFmCMDssNGeymvQFNek22fg8esL/m8ToyolPMA92y7iHnEcOB50EAT0DN2t2YTk0u7a8wX6oQNNDJYWUSfaNFMz9SV9Gnoafh4oGH8Hjvll9hT6Ov9xBX8KSA3hEcQaNCeXL8EseSRgH64fjSC9G1wSdglCCE4Q8haDGG0Z7xtdI5IqJikFI5QceBSyDNgEQfpF763l/OBX5RXvBvbl9v732P+gCY8H1O4GyFut76nCrhmqnpxtmyq0Id0NBdwg8C4FNAI43j/yQzU00gyh4HLIO8gxy5DAD7HWsK/GaeYb/vEFzAWFB7oMWRT7FocM3Poq71LzLwIRCt8FP/6r+2UA6wLM+qjpnNWEyrfMXtNL2HzdX+mg+8UOTyGYLrIwQSmRHgcXGhKABYfwtuBm3n3nzvEa+I7/iQqTF6QjSS3jMhkv9SM5Gt0WrRWUDGr9P/Sq9dH9LQWdCN0KhA8TGZIk+S1sMZ8tJCmXKLUqoSkEIiEaWBYrFUsTnhBwDa4JqAi7B4UIig3oEAIT1BTNFgEZbRdDEQ0JZAMmAaj/c/60/XL8pPnn+FT7P/hg5ezBW6AeloWeVaPImkeTYaRy0WcDgSSiMgY4Uz9PSoFPDkMRIuv249XOy8nOmMlTtuWmcK66zbnu8vla9Vn0qv5bDroXmhSwBob5hfoRCeYXlRonDzUCLwFIBkYBz+zp0pHBK78AxrjOU9vG6lj60g5cKM89mEPgOHsq4SCbGLoI+/Cp3lnZ4dwe5PXtA/y2CbwTCyIgNLM+8Dt3Lr4jTyH8HF0QL/4E8RruePGA+BwBrAfRCt8Rnh8PLAAxyCuRIi0f4SAoIhYfMRZ8DfYLcxGgGPwYZxOKEZEThxRDFMQUQRTWDVQDCf/8A7gGWP+M9qj49gGuBB/30ujx8rIC4AE49Sjjx9Xpxv21orBDsv+v2KY8qtjKcvRoC3QPZRbIKxJAXD8nLc4WnQIe77XdA9ey0sLHwb2QvkzSgut29YrzffTo/ysNPhCHCZkAWfvp+/UAIQfKC08JsAP6AdkBGgGY9cXgX868xZLMaNR612rgmfBBBzUbRiagLZMwdys5IGEVTQw4AE/v6uBQ4CjqifLy9of9IgvWGrgk+ibbJdMiuBwAGGoVQRFPCE/8aPem++kB4QXyB3sMkhR3HLYi3id6KQkmqiFdH1kdURiuD4QHhwR8BvQI4wpADAMOrRFUFGQWsxYMFlQVJhDcDNcJRQS8ATH9h/qH/Fn98f2B//YCygbPCMQHsgUYA4H8+e8E4VXbn9Lit2igyJ0Aruy+X8FgxZfdQ/9pFBYf5ikoMXor6xr6EHsOMAMF6dDNJMiJ1CzbSdbL1GPfKu+5+TX8jP2e/nf8XPt7/SgCtATRATwBewgFEsoVVRDXBX7+NfuH9j/rVtve0RTRltQR3Q/nffPDA70PhRq4J94vJi5vIl8WIRD2CIf91O8W5qHm2+3c9Cn9FgnXERQXyB9ZKrQvjylsHPQU3BQRE9AJPf/l+3L9vf/tA+oKnhJaFt8XEh6IJlgoqiFuGocXfBU8EUsK3wUJBgQG6whHD5ETJRWsFpEZiRtlHEUbSxkFGOgQMgaRAPr/dP4598Dw2PMD/HP+6vtg/RMD0wZwBawEDwcZBAn8v/RQ7XPcHrhylI2PnKAcrLipO6wFyuL48hxDL1k6R0AlOkMswiGWFj79qNYuufy32MeJzmXIe8oB4Pb74QuGDPwJeQiZA+T+Uf4f/nj4NvDI8N/+3Q9HFOYKJQDO/Zv+1vTy487XItLq0xLbIedW+PkGMhHeGUQjAiy8Kjsd/gyHAcz6oPVO7jjnj+cn76D7UgogFswbmRunHbokwCinI5IWXwwLDOYOtQxNBu4CFgS/BWMIFg0BEkEU9hI8FXsdhiSEJTkgHBxvHMkZ4BJbCxIFEQFj/uv9AgJ5CLsNYhCaE8AbKCLOIL0cnBnNFWMQWglcAFj5H/d995X3fPl2/r4BvwRNCUMNOA/eDSUINQBo/Dz4GOn1y0KsBp1onmik6aUtpnu0rdIY9dIRSSYtMT8xqixbKWckXxOk9DLXrsplzn3SFM7XyVPRcuO49Zz/PAEVABn9+Pmw+zL/LP5J+Mr03fzsDPkX7RUHCxkEhgJa+5LuXOLa1wvTBNXa3RDvif+HCUAS6xziKEIt2CMGFa0JDAMK/Zj06uyb6Ybr+vKF/qQKhRMUF1AZsx+5JmwnMB/aEnQMygzPDG4IlQJ8AD8ChwYLDBwRdBPzES4RiRXiHJ4hhx/lGVEXJBdMF7EUGw3CBSoCHgOkByMM3w/5ER0RqRNMG5YfSB+xGikTBxBzD2ELyQWVAUT+Ff1I/2IEXAlLCKsF0AYkCqsNIgnl/2X6m/IM3sS8RqM4nWSfvJ5oncios8V6540BXRehLCE5SDdHLt4mZBu+A4jk/cxix9/JkcfxwyjKRNs17YT5NgGIBUcGIQOA/gr9n/yU+dL10PVd/44MTxL0EWAOkgrRCAQBmfDD4NfWf9Jn07jaaOhJ+JEGRhPJH+8rmDDpJ1MabBBpCKf92PA+6O/ld+le8Xb7Uge/EYgY2R26JEcqwidfHnYV3hFbEJILhgWqAUYBAwM0BRsKFBCJEicSchMUF54ZBBppFwgV7xaZGEMXvRUyFOIScxTPFekU4BPbEecOIgyEDEAPZRCODyQNTQx4DoIQIg4JCU4H2Qi9C5oO+w7UC6kHjAeiC2EOtwsCBIL9FPw7+VHomMROo92WL5npntmeg6K1uBLc0P/eHBIzOT9GPxc5yzHJJ0QReu3izQDBqsOixmbDRcRC0arlMfevAakGsQa9AgP+UP3h/qH8lvYK9BT8Egp7FGEYwRYAFAgRjAle/uTurtu7zSDK68551mPfM+0A/loPzh9KK4Yt+yYeHQwUaQxoAcryJOhZ5j3sefPD+VoApwcTEFoYnh9MIwIh7hq4FvEXQBhREbQHegEtAJ8B3AKLAz4FXggKDVwVmB4JIz0hch2MHAIejh8JHG8TOA3RCmgKPQraCXkJFgnOCrgPORYxGiEaPRYnEiETMhQ0ERsMBweKBJ4DRwLaAKgA2AHMAgADigFz/ur7WvmT8bbayrg0oiOfwqXwqUapwLI3z/zyIhG3Jn4zlTaOMB0nUB9VEvn4Odl1w0DCncoizQzL7s/F347yGQAiBksH4QV7AncAmQEzASv8SfdC+UMDrQyhDQYJ7AMWAab8T/Js5bPWK8tyy0zVi+L37x3+nw2cHQcsrDJzL8slMRc6CDX+GPaR7Pnj3+Am54Xz4P8UCswRVxh8Hk4j0iXmI40bfBBtCpgJtwejAlb9G/waAVAJPA/HEcoSQhVhGyUhBCMMIEIZ1xWDGCIb0hhsE1gQnxArEs8S1RBFDToJ/QeaCiQNDgyRBj0DvAXSCR0MmwvACcQIJAr6DRkT6RWDFCkRbg4zDfUJGgJV9urk4MdAplCToZG7lmiaBqBttbbbfgI8HtcxXj9zQzA9ADEfIw4P3fAw0SS/ksAOyL3HBMaJzs7hYPSX/SYA9P5w/d/8Lf4LA1YFgAJqAEwFXxBzGNcYJBOYCWkA3/iL7+3hodHpxA/DZM5T3zLuqfyJDLgcGiyRNX8ySCWQFaIHAP0284DoOuAE3v3j8vDL/2oMORTgGa8hqSjdK64oah/6FvkSRBEWDHEDaPzM+IP69QCDCO4NaBDWEZkVtB3mI/8htBy2GUgZ6xkMGUoVLBEKEWQSDBGpD28NqQfJAdH+yPxe+4v6V/jD+ewC2Q4IGPEdCiNlKI0qKCd/IBkXwgySAoD3iOvJ2Lm5nZkni2yN55OvmOWfnrXv2UUAwB98NX9BDkOlPSQ4CS7IFrj2mtnUyRTIvcdWwijBmMkh19Tlx/Kp+tr7hvlk+Wn+8QXECPsFFQYpDW0WYRr0Fb8LLf6x8A7m9drPzQXE7cFmysjda/UyDL4gBi6CMwM3zDZzLH0XlP8x7mDkP99F3Q3f6uY98xgCghPIIT0nEic1J58pJyrpI5gYdw9PDH0KsAadAqb/xP0f/uABNgdZDMgP5BFmFzwgqSb7J3UlUCIlH3IaSRQhDUsIJwVzAaMCTAjoDUASbBMoExUUahOgDjAHRQFyAd0DFQWOBskIVg0TEgYWoxkWGcgSbQp8AEXvo8uxmgGA7oh6nair9re+0uP/oyuuRGZP4U+JQE8ijgbV+Anqg80GsvmtQcPX3H3n/+pb9tUCqgcpCMgGAwAn8kvnJ+t0+YcD/AO3ApkHrg0yDOUD8/bV5mPZmdRy2P7f0+Z07aP5ZgvsGgAkbif3ImcVzgf2ARv/W/fE6+vlm+yD+lEEzQh4DX4RSxPBFqccCB6YFzMPEg4oFT0Z3BIICZ8FmwYeBzkIeQsNDxoRQRSNG4YlZio9JYgdFhvZGp0XGBLlDaEJSQR5AqYDNQWsB9kIEgogDwQUghMPENEN2wqZB4wHugU6ArEE5wgBDOkRpxPiD6gPFRHzDmsKGwP9+oT2E/P5663dQsrevCy6P72RwkXIzdA332rvLQB+EVAdyB7cF3UQ4wvIBCH3yObL22PZM9s83lDjiOjl7HPxHfeJ/Bz9s/ls9hX0k/L68CfujuzI7PjthPLj93365ftT/Vr/JQNHBoMGiAfpCOgH+gYSBz0GsAL3++L18fXO+XP7//up/9gGiw6XFOQY3RvkG/MXJxWLFf0TVA6aCFMHqQlpCxULEww3D78RhxNuFc8XTRl/GeMXzhQ5E3gREA79ClkIHgYNBksIdwmoCJUIVgofDaoODQ/PDrcNrg23CqYGegaqBd0D3gE8ArcEVwMHASsBvwLgA/oBbPyS+TL7a/jR88Hw6Oej2XLPoM3T0X3VbdRu24XtOvsPAfsF7QzND44JbQDV+8n2beqS3OvXZtzO3cjaZ91u5ijvx/Iu9Nf4pfuS91fzrPOq9VT0WO5b69zv9/Mm9K71zPjM+v/7H/5wAu8F8ARFAev/FgPdBMoC9gE5AVr/YP/KAMQCFARwAfL/aAVECzoOwxC7EvYUfhXdE+gTYRRhEWQMxwlyCj0MCAy3CtoMuhESFW0XTRtMHrYd2hucGjwYwRQ/EWUNQAnUBBkAUvwe/En9f/1XABwFXghADLwRxBSyFcwUdBCeDZgMeQnEBP7+Bfqc9zX2x/Wi94b41faU98r7n//1AVsC3QCm/4X+EPxV+o74mPRh8RnwffDX8dzxre9Q7VHs3+kq5lLkI+M14Dvest/W4nzm3OlR7I3u4/CT8gT0WPYu9mry3+9/76Pv0O9e7zXv0fCw8vLzxvae+Zr6Svup/Lf+vgASAq8CJwSYBocHPgezBygJGQnMB14I8whjCAYJXgq8C80MwAwMDeYOMRHrEVMRIRGfELAPRhD0Eb8S8RF8EJMPJw/SDrUMuAjqBqUGmgWmBscIbwlvCggMOQ3nDnoQZw/dDU4OTg2sCjcJLgd6BF4CRQA7/5P/Dv85/Tf9Uv+2/37/xgFIBOAELASbApgCgAQKBLUARP5M/SX8e/o9+YH5ivkC92L1ovdD+k76jvjg9gj3W/dK9Zfz+PPd8qDviu357tnxi/Ls8e7xqfOL9av1pfVN9hn2YfQj8+LzR/Uh9C7xYPCs8S3zefPA84j1tPae9oj37vp2/hD/xv3O/V//UP+l/SH98P0//hf9lPw6/zwC5gG9AI8BbQOZBG8EJQXkBloHvQZLBwkKxQtiCsEIQAkcC0wMRQyjDAcNMgx7C8kLXwxuCzgJcAihCXcKagmaB60GcQaWBZ8F1wbTBpgFUQS/BPcGSQhDB1AGsAauBhIHrgcACFkIPAcyBqwH0An+CEoFxAHi/2r/EP/p/eD8pPzx+7D7gv2m/xgA4f4//tr/WQLuAjYBTf/B/TD8Yfr++A74Z/aA9Gv0tvbn+Kz52Pl1+nP70vsW/LT8tPxH+235qvhv+Qf6C/nw94/3bvcK91P3hvj8+Mf4SvmD+2b+NgCrACgAef+X/wMAHgBiABsAUv/U/gH/4P/l//L+X/4v/jr+jv7M/mX/3QAIAuABGAKrA6IEkQQ0BDcDHwJOAjADrwImAfX/vv+RAEECZQQtBjUGOQTcAqADtgRvBMQC1AGOA/oEygPWAaEAvf9k/qD+MwHrAvcCpQLSAtoDJgRFAxYDeASfBdEErgRbBSoDUADA/2n/2P3k++D64fuI/an9DP2U/bX/fQFiATkCVgROBF8DqQSJBpMFwgOtAssASv8I/uH7EvvM+2H7dfri+yX/cf81/L76cfvu+g75hPg7+rX7yf1y//L++P+9/9j8+PxI/7/+Svz//Af/r/3d+5f9Wf7q+8T6IPyx/8ICVgJy/0z9Vf0B/x4BhwFn/wv8xvxhAGn/c/q0+eb++QArAMQBdAPHArEAEABeAU4E2QWqApP/UwElAlf+YP3//+b+1/tQAC4HVwaTBREG9QPkAn0BBACcAEcC0gIdALD7yf1uAlf/cfzN+7T6cP6LA2oDRgI5BAAC9fxW/YQAFQJyAPr/fANwBPUBjwHmAicBMwBFA/4ECAaxBMH8pvZV+YX+Pf83/en9OQFCAx0DpQL5AD8AJQJtAG//lAH5/qj7cP33ACQBvQC9BTcI/QMsAdX/C/56/Z8BYAVqAKH8nf0O/hD/i/7B+uX2NfszBCoFXQBc+9L41PvQAfcFMgbwA2YCmwPlBH4C8fo79gT9WgSDA/f+w/wH/cj7x/74BJ0FbQO8BLsDmfxO+r/+IwAk/voBKgNB/gIB4QKoAEMBj/9g/O77Pv/HAqgAvv3m/S/7H/toBS0MbwQ3/iQCDgG5/FgAjwF/+Q/zD/oBB/QFAv7i/Gv75/wnAb3+D/0GADkEZQOB/ysB8vys9kn+AwUoArkB7wDa+zr++wTa/iP1Xvt8BJb//vooAIcBbv3S/McCXAYWAYQAmQEA+6H5QPx//cMAtv9s/HD+OwEL/879x/49ABYGEgfQAQ3+2Py8/eb9Hf/V/4D96f1fAuUE5gWtA4/9fP4ZAwMC6/9wARwCKQFcAhMChAGZ/w78//6mAH7+pgHlA5wA2Px6/CP/q/80/jj/YwF6ASgCNgEH/bj/1gezBiL+Iv7d/+/7U/2yAZgGnAew/Gb14PxvBJQBPfjS+OAExgaeA4YGggQR/P73RfxcAsIC9/zg99r42v9GBR4Dw//HAUoFLwJVAa8HRgV4/bP8RQBXBeEF7/6S+Qn9lQJ2AnsCLQJQ///82f3nApgD0QGWAGb9gf4lA2wDBABT/zAA7f+m/gIB/QMDAEP8c/vn/ogFkwUE/Qj3MPtdARYG5AMR/aP8cfyB/B8CiAWAASL6E/iJ/MoA0gIFAWf+5fzk96v1OP+LCdwCtPrW/VcAf/+1AOABpPpl+sgEeQVhA8IDC/+d/cAAKwEaAW3/zP74/1//YwIIAyD8o/utAloB0//XA1X/5fnM/UgDnQRnA64A9v2I+9X75f+EANP/zQM3BTsAFf0q/msBEgTJASkBoAKk/Gj6DwH7BAgCB/wA/XIAJf9X/h4BFAVhAoj9D/1t/4YDkgE7/BL7f/18/4L9PP5EAkwD/QFdADT9oPsHAU8FHgPS/OD5Pfwz/I39WAArAaoBtgF0AE79iP6vAdH+M/zC/c0AagMgAkf+Cf1a+3H5wf/NBjIGfP7o+ikB/QEkAiYGzAHB+az3yPwwBFQGf/8w9Wf4NAglDJQEyPyE+Ff8s/5LAGgEnQKy/Ur7ef+GBkQFEP9a+3L8YgC+ANr/fQFRBdYFV/+J+yj/0wHLAHsCsgVuAgr9Df16A7gFQv67+XH/zgdJAsb6SQEBBuoDqP8L/Kb7IPzS/xYH8wfS/i75lf2FAYUC9APbA9UAUf78/9X+pf2p/cL7uv6lAioDbAIjAJn80fru+mX9KP/1/1UD9QA6/vsBIwHP/bP/XgFhAGv+Iv1bAuQGgf6H8yr4lgZ2CFoA/fz4+tb80APEBCT9Yfr2AiYEl/0H/x0A/PzU/QgArQPiBTL/nvtPA3gEcf5K/yj+Tfz8ArUCi/qd/tcFogLD/z8C+wJ2AMH/E/49/9QEMgN2+2D3Qf7lBEcCdPxl+ZkAKQSPAFwA+P1F/oUEygXp/lT71/5lAHQAN/0w++P/cgOUA+//Jv2b/lL/4v76/Mz74P2MBP4F6vv/+B3/HwJsAzQEJv8h+c7/3AW5/878FgBq/4T7uf9aBroC4fqV+qACsAVIAH36lf77B3EIrwRn/4T7EfyF/iMBIQDLARwEgv3L/GoBl/wT/D8DKQUsAVn+7f8WAQIBDAFnANP9F/67/uj9Gf///87/Xfxy/x4EjACZATgApf2Y/jv8E/9lA7EAFPyQ+y4BjQVJBF4C9f22+gr+pgCeAOsB+wKhAA/9lP0SAm4FFgP//L79sQBo/T4BIQQ5/lwACwOJ/tgAXwaBAjn9Y/6+/2X8MAA5B/4E3gEB/If6JAHpAkgAOfpT+vcCDgbKAA7+LQDW/5H+A/7F/8AA//x7/usBOv8p/Tj8Efqq+/cC+QMu/7gAogKW/mz7iP1WAdABXQBLAYYC9ACqAYwDv/3++k8DSQV4ArEANf4+AlQC1v2l/R/+TQC9A1QFjAPlAOD96P0VACEBmgSIATT+7P6M/bn/awLYAz0DQ/yj+dsAUQWDAtf+Qv74/Bf7Zv7fAisGdwad/Z72y/xYBAsFqwBC+GX54AOxBDkBxgFE/l/5wv0zB2AFxvyI+p39ogGkA3wE0gAH+gH8tgPhBMr/Lv1QAG0BC/8IAJsCTgGR/w4BNf8V+qT9vQP8AIj9rP/B/7gAMQQT/x37T/4aAisEOf7p+wEBdgBZ/fL8GAJ/A8L7sfzRBCADTfyz+5v+rP90/zMAogK4Aj8DrAHG/BT8qPyk/yAC0gDQ/2MBxgPJAYIB1/5y+cz7CQNfBmMBVfy3/ZMC1QNqAPb7R/yR/wAAAgHQ/Bj7NP5r+9gA0QfrBPgBKABlAHP+Rv39/aD6V/s8AUIDkwDp/gwB3wAR/Kn9RgHi/uv/5P5d/S8CMwMY/iL9TwNYAzYBDwE3/q/9YP88AhIBdgARAfH90v5YAKoCLgEg/rr+Df1aAwQGS/0T/LAA7v5W/ckC8QJR/qP+8f7//s7/Xf/+/eMAqQMx/Yf8fQLEAhUAYP+//rb9tgGRAFL+uAIdBXf/MPmd/er/JQLMBFQAafvh+4cGyQf+/l77Lvq4/poBYgDEAqEDNAFk/Mn8MP8qAAIFvALq+37/CgEe/EMBvAX+Adz7oPovARUDOgLp/jD8o/8FAQ8BIQHgAPj9KPv9/GIB5wOw/0//bwNUBWgBYfsgAwMFJvnv+XMFPQYG+6/6ywEDBdAE1P4E/Z7/+gG2AWUAnwGp/0T+4f3CAGoEBwHa/GT+awJyAKT8QgCjBlYCcvr7/kcDoQAa/k79/f2l/RoCIAU1/h/6MgAFBRQB4f4g/nkAwQTeAY7/y/2w/o4FvwJx+1385fwD/1UDAgIZAEP9yfwqAqoClv9vAWID0gC9/wcBsQB8/5X+m/+e/5H+EQFxAPAAHgM5/vz7//uT/qoEGwC4+Kj8gQKKBKgDyv77/UX/h/xAAGgCw/9c/+T73/8TA2n7MPx7AqEBXf8xAhUD4v7Z+zn+WgE5AWgCVwD9/db/SP35+2z/uf/+/a4B+QNS/i38QwAkBNECUv7Z/uX/vwHUArj8xfsZAQcCcAGHAK0AWAQWARH93f+W/3kA1v9y/7cCWAC+//YCbf8W/IQAJwGI/YD9fQHUAtT90PxJAYYCM/8m/1/+Cv4vBe0DdPxm/X//ef9IAM4BJgEk/b3+FAGR//z/NAFTAV0AcAHS/50BQATO/wb+yP7J/Mv92wNOApv8MP8dA04B7/4p/47/cgGPANr+LQNQA/D/4v7h/k3/rP9LAaQAuP5K/qsAFwET/3MCRQEZ/H8A+QJiABP+lP33AGUAKf+9//L+2gBHAwkBf/19/M/+dwNeAcn9ov6u/2gBbf/9AMkCeAEgBXIAkP0RAXX/K/+pAFkC2v6o/N0DFQap/0z6x/oX/mkA9QNlA9/+8f5LALkAIgI1/478xwH1A8b9DvkQ/2YEdwFiAWAB6wH6AAD6SPpCAhUFTQAc/cMAoABM/ef/DAPVAz7/APuQ/V0BDwHI/NP/TgL+/of/8AB8/3T+MwEtA3cATv6NASAA4fuB/soAggFKAOT96/9GAm0Asv6zAK4BK//9/Y7/LgAD/6j+wADZAjQBv/6v/ln+ov7A/lf+KQEnARYAfP7i/HECkQS5AbP+4f7DAfX/EgGdAaP8MfwGAIkDdwSxAPP9JfwB/LcB/APsAB4AswA6/2QABwJQAHP96P16AYkAq//v/rj+tv8h/40BdQGMAEAB7f3b/D0A8AGnAbX/T//n/+r+qf8BAWkCAgGF/mH+t/7DAcX/mvv//20DJAJVAPz/GAD2/sX+QADRAeAAkf52/kv/DACrADECvgE+/yn/0v5bAWABWf2w/tsAjAGjADv/GP+E/83/Hf+B/t/+bQCMAc7/uv5+AFD/YQAEAdL+yv50/loAhACPAUAEsf+R/JX+s/8RAU8ABQF9Ah4ANf6D/TUALQJhAIr/XP/9ANABtv/H/kr/lADQAGr/sv49AP4By//P/SMACALoAGwAGQBE/a/9NgGaAVoATwAMAZwAu/5H/msBBAP3/tf+QQJeAb7/Xv7q/pwAxQBIASgAV//d/ob+fAAnAhcCrf5V/Q4AngCRABIBJgGbAMX/5/+5/4z/XAB0ACMAuQDd/lr+LQIvAm//YP8EAK/+2f2xAPMBk/9v/wkAif+LAFP/H/5+AGABuQBT//f+HgBS/+j/HwGb/73+HgAdAwcBsv2kAHIBSwDh/pT/JwGD/nL/FwKFAbn/rv8jAXQACQAd/zv/6P+2/9sAuQDd/2b+R/5aAEgAXf9P/7UAUAGeAFUBOgAn/qX+lAAyAhcB7P4W/00ABwGUAEL/7P61/74AIwGw/7P+hv96ADMBXP/A/h4Ajv+RAMsAPf+4/mX/6AAjAU//T/5+AI4AIQBqAPf+Yv90/7gAtwGT/+/+/v7YAJ0B6v9i/47/OQGx/yj+6v+T/77/2gB6AVgAH/4l/9r/6///AH8Asf/u/jX/JAGWAEz+Sf5T/1gA4wBdAAsA7P5A/yQBGABr/uL+/wCpAV3/xv1V/48BsQHd/4f9mv4OAVsB9AD4/7/+Iv65/3ABpAA2/xP/bAC1ABAAuP+B/0UA4v9T/2UA9P/V/9j/vv/NAKn/U/93AIsAjgDO/2f/n//K/7X/OgCrAAQA8v81ADIAtf+k/3z/0P9VAXIBAf+j/v0AwgCxACsA4v7Y/wQANgD8ANsANQDi/2QA9/8j/6v/EQFdAff/uP+G/47/YwEzAQ4AI/8G/2oA4wBsAL3/nP9KAAoBBgAJ/5P/GQCtAO//q/+kAE0A1v+4/4f/4P87AJQAzf+J/8AA6/9t/0UAcgBAAAYA5f+f/yEAfgBhAKAAMABT/wsApgCG/6P/bwD8AC0Axf7G/67/qP96ABMAsAAJACD/KADNAEIA3f+cAHwAUv8T/xsALAHjAFIAb/8l/1gA2wBxAGD/6v4mAPoAjwDV/0P/Yv8QADYANQB8ANP/mf+5/x3/7f9qAEcA1f+//n7/MwCPACYA//71//UAoACZ/zL/yv+Z/xEA2gDF/+b+2/+MAPX/IABaAIL/E//6//UAuf84/8D/f/+XAFAA5/4E/zP/dACGADv/ZP/I//cAUgDX/lr/lP9hANsAZwAY/zX/UwHVANv/nv9P/2L/BgASAUIAXwBDANT+ZP+K/wgArgBKAFL/cf/NADD/S/8MAT0Acv9F/ygA6P8TADEBBACX/wgAGAA7ANP/ev9VAOMARwAqAO//4P+r/3T/MgB3AC4Ay/+2/2f/5f+GAGoA7f/+/n4A7wCB/+T+EP8PAeoAyv8wAKz/l/+kAMsA///8/9P///8WAOL+SgB7AYwAJgAH//T/hgB0/00AGwD1/zsAAQCEAOL/U//4/8MACwBV/7AA/wByAKj/0/8PAZwANf/F/owAYAGJAE8AXwBfAJn/T/87AGkAwf8eAL4ArQDK/zD/NQDGANb/QP9DAAIB0ABq/7D+lAB+ACX/gf8wAO0AdwDt/48AMwCj/6H/MAByAIr/9/+jAFoA+P/I/wYAZACoAEv/uv5/ADwBKwBs/xEAPwAqAM0AaQBd/5//2/8dAM0ACACH//L/3wCgAFL/Kf/r/90AagAoAD3/j//YAMIAUQEJ/1H+EAB0AGQAxv+JAM3/lv8EAWIALf/A/nEADAGk/5z/egDSAG//Pf8OAU0BnP9n/vT/3wDW/ysA+gCR/4n+OADv/yH/XADKAHcADP+4/rv/NgBmATUAMv6m/5sANQAuABP/jf64/8IAZgEgAB7/FgAr/1D/OAG+ANr/Sv8u/3z/KwCMAcb/If8xAZP/r/7vAPAApP8lAF//K/+wAEUA//8hAEcAOwA1AEgAMv+r/8sA2/+7/4IAbf9X/zQBWP/5/UABZgEu/9H+4v9UAGr/cv+M/5kA0gA9/2L/yP9LAPr/LQCjAAv/gv+2AAMAYP9YAEAArv8rAff/2/2B/xACXgGi/kv/8v9y/wwBxgC7/2D/bf+cAE0BPQCR/hv/OwCzAI//0v+qATP/r/6u/3n/DwI4AfP9T/7vAJsA2v5S/+r/egAGAPX/6/9DANsAjv/f/3f/E/9QAPz/qQDgAAYAHQAQAHkAMwCY/r3+XQAIAF0AYgGjAJf/gP65AC4B8P2G/xUCqQHF/rb91wC6ApkANP69AFYBAP5T/4sCggCt/sYAuwBl/xP/Ov/gAHkCXwDj/A3+7gG4Auv/Xf/OAGL/Mv9VAWkAo/6u/20BbwBf/ikBsgK+/5X+f/+FAZ0B5v4y/2gBqf/0/ngBNAJxAKv+q//dAJ7/8v7W/5f/MABCAjwB9/5w/iMAtQLQAP79V/9QAEr/MgBlARUAtQAEARf++f6CAcr/KP+BAE3/Jv+7AdgBv/7g/cIA6AA4/0UAEgH6/4L/XADLAFoAgP5r/XQA7gFC/+P/NAH//rP+EgGBAmwAB/yf/YkDvgGA/TD/ZgHnALj+wv6PAT8Ay/3Q/5YAgQCaAU7+tPzMAakBjf5qAIH/sv4OAYQAKP8m/1D/tgDFAOb+U/9i/x3/of+z/3IANgH0/5L9kP4YAFD/xv9pAED/t/58/4EAswAOANn+aP1hAOsCTv56/AUBSQIz/4H+5/6T/5QAWP+R/5wBoAD+/Y7+eAHTASX/KP7s/tL/kgHLAJ7+df9KACMAQAGBAM79xP6AAcYAfv7t/x8Cs/8k/uX/TgHSAPv+ZP44/yoAoADY/13/u/8w/w4BiwOkAHX97/xm/koCYAGv/XT/RQFLAA8BXwOZAbH6XvpPAugDh/+Q/UL/1wJBAkH+t/1VAI4AbQDlAS0AFf7h/v0ARwLVADv/if9l/xAAzAE1ANb/ogHg/9L+JAGnAd//V//y/2oA0AAaAVcAswDbAYL/kf6kALgAu/5J/mECwAK1/uL/xwHoAFwAgf/3/7X/6P2a/kYB+AT1A8v9ffx8ALoC+gBX/pv+9P+tAAMCJAH7/kf+KAAXAiYAuP/8/+H+9wB+AsP/bP78/9MAfQFpANT+s/+zAIL/7/4EAX8BQwAIANoABwHn/nv9jgBxAg4BnwEWAIz9KgADAkIAZf/o/V39+AG0BDYAV/5NAVwAs/9BAbYA9P6c/KT9pgPzAk/8Wv/LAz4BV/9x/in/OwDE/jj/ZgHnADb/9/9oAoQBZv5c/qkA7QBb/fv93wK9Ag7/QPzF/ugDEANZ/qf9ywHYAGv78f45BN8AEP5TAdUCev+t/Yn8UP2uAbQBif8DALkAcwFlARP/A/w+/E//OQKIBLoCa/33/DUCYQNS/qz89P4p/xn/ZwCAAZ8BwwCJ/0n+lP0Y/tP/Pf+9/q0CcgAl/KIBFwSv/kH+ZQFYAJn/dQFqAWz/Lf87AI//F/4L/9gBgQID/0b9GwMMA6r7ev3GAxoCxfxk/tcC8wLA/B/3tPzyAZwBHwVdA0H+3wA8AXT/dwElAFL8Ff5CAwgDLv9t/Nz7a/46/+/+EgHrAWIA3/7D/8cChwGD/UsA2gPf/iX7mv6fAR8B8f6N/Vb+AQBhAA4A3wA2AYT/Rf5lAcUC3f7P/hwBXwCG/zb/Wv/5AGUBuP9x/wb/o/5sAIUBVQCq/bn9vwGRA9MAt/2a/SoAagFLAA7/hP/RAZMCqAAfAUcF2/2l8e/5JAedBa8BDAHl+675hf6tAPgBHwSbAED97gEsBMgA7/4F/k791/6CAQ4Bkf+bAG0BbP8T/8YBkgGPACwCuQEH/1D/GgGz/zz9u/wP/YH/iwK3AdL/HAHzAQ7/oP5dAT4BFQAuAVkCZgJQAc/+Rf51/6L+lP1i/xgCNwIaAcYAVwCE/7j/LAGPAWUAn/9p/5n/MQGcAQgAXP+e/2kA0ADDAEgBTgFsAA4AHgEAAqEAR/8OAPkAAABc/vv+GwB//8j+h/+kADAAhP9SAIYAXf+Z/zMA6v8TAAQAuf8DAFAACQBL/4D+Tv4h/6kANgGjAKQAoAD0/xv/pf4Y/4H/Nf9d//X/+v98//L+8v6O/6gAsQEAApUByACEAD8AOv+9/qL+Gv5k/qv/5f9S/7v/KAAYAFoAAQGxAbYBBQFKAAgAjP/X/pH+4P2S/br9r/32/oQAxQAPAbIBzAGUAYgB4gBp/zz+Av5O/g7//f/Y/7X/GQAY/yX+af/FAJMAWgAzAfsBmgHaALsArgDf/x3/Qv9+/0f/gP6D/uD/rgCOAAMAyP+p/0D/YP8qABkBAQH8////pgDS/1f+Mv7N/kX+av3+/XX/nAD1AO0AWwHUAVEB3wAxAVoBUgAU/xH//v5f/kr+1/6f/y4AGwDo/zoAEQHJARACdALcAWUAVQD/AL0A3/8r/6L+fv6C/6gA1QDtAAIBygBOAS8CSgLLARIBGwBD/y3/R/8h/4//agCpAFgA+P8uANMAqADv/9r/sAAfAasAtQBBAYoB7QC9/4T/jv+I/uT9c/4d/8X/lgBgAV4BOABN/9/+tf7h/on+Dv5n/lf/DACpAGsBWwEmABP/K/9//3L/b//Q/5YA2ADXAA4BbQEeAY7/cP6a/lf/tv+C/6v/nAD3ANX/Cf95/3T/iP6D/qP/tQBNAVsBbwEzAVwAzf9x/1P/m/9v/yv/Pv9x/8D/pv9v/3X/O//i/vL+lv9sAMYA4ADnADoAlv+R/7X/nP8J/8j+Mv/B/0sAmQDQAOgAfwDW/8X/YgDQAKMAQABKAHIAYgATAOP/GwDw/8j/SAC+ABoBYwFNAT4BOAH/AKYAQgDy/3n/5/69/rD+tf75/kj/if+h/yYAtgDnAE0BeAFYAQkBagAEAKn/C////lz/Tf/n/rr+Vf/o/zYAFwH1AQUCgAHTAFQA3f91/zv/Ef8u/xv/7/5y/0MAuQCkAG8AnADdAOcAQQHBAeYBRQEVAJz/kf/7/mf+Y/6L/mH+X/4r/y4A/QBIAQkBIQH9ACMAsf+4/6b/d/8m/0X//f9/AEIADAA4AKP/2f4J/6P/GABPAF0AhgB2APT/Yv/2/r/+qP6g/sr+fP9KAG0ALQAzADgA2P9T/1L/4/8rABMARwCzALkAegBaABsA8P/n/7X/s/9VAEYBmgGxAdABHgEVAC3/ZP5E/tX+Vf/N/6gAYgG+AdYBewGrANr/QP8H/zv/s/95AAwB+QA1AAn/J/7W/fP9ef4u//f/0ACXAQoCMgIdAkgBm/8d/p/9zP1O/kP/WAAOARwBrgCMANIAEgHsAGoAQgCBAK4A1QDfAIIA9P8d/y/+3P1Z/iX/0/+HAC4BigGZAWoBBwGbABgAav8J/yH/WP+K/4r/R/8t/zv/DP/5/oL/iQBoAd4BEgISAtMBFwEAAEf/Af+l/m7+ov49/wkAdwC4AAQBHAHtAIYASABAABEAsP9T/xb/4f7u/lj/uf/r/0cAjgB5AEsAKgD//83/1f8JADsAjwC5AJQANgCW/y7/7v6o/tf+WP+b/7v/KACjAJYAVQBPAEMA5/9I/wf/j/9kANcAMwGVAYwB5QD9/0D/s/5M/vP9Df4G/4cAnQHEAZIBPAFQAAP/P/6G/ij/tv9CAMYAJwEKAWQAh//U/jT+x/0f/nH/DwFHAroCZgKhAS0AmP71/R3+dP78/uX/4AA5ARQBmQABAHr/nf4v/hH/egB4AfABCgKmAYsAI/8l/tz9Iv6A/gP////0AIcBrwFeAZwAf/+z/sX+dP8qALgA+QC1APz/MP/X/vH+Mv9+//j/lAAxAZQBjwE+AZsApP/U/s3+jv9qAPoAMwEBAVgAev/E/rj+R//A/0cAxQAFAS8BHgHOACoANv90/j3+lf5t/3oAUAGiAWoBLwHaAE0ABgD8//X/0v+m/7n/6P/q/+X/5f+9/6v/4P9HAMoAEgH1AKEAKwC5/5b/tf/W/8r/zf/v/+r/4P/a/9X/rP8w/9f+WP8qALAA7AAEAQIBZQBt/9f+7P4h/x7/XP/1/6gADwESAf0AzgBFAHf/IP9n/8j/BgAwAGcAjwByAAgAzv/W/7X/fv+j/xMAVwCGAOIASAFYAeAARQDa/23/GP/3/jD/d/+K/7j/IACHAL0AywDSALYARwDS/6b/nv+B/1L/T/+G/7H/1f/4/wsA5f+K/2X/k/8IAKAA9QAXARoBuQAEAFj/E//y/rv+2f5k//D/FgAYAF8AmQAlAGL/Tf/j/yEAIwD0AOEBnwFPACn/zP6a/jf+Mv78/vz/egC4AFsBCALpAfIAu/8L/+H+uv7d/nf/AAATAOX/6v8zAEUA3/95/2D/dP+U//T/bwCBAC0A4//Q/8X/w//L/8X/w/+s/5H/2v84AC0A6v/S/93/tv+O/8H/KABVAFwAdwDSAAcBvgBYAAkAvf9P//v+Cf9T/4H/nP/b/00A4AA2ARYB4wDGAIcAIwAEAB0A4v9t/zj/gf/O/9X/2v8IACEAFQAdAE8AdgBLADUAVwBfAEsAKAAEANX/f/9T/2z/pv/o/yAAMAAuAFUAegBaADAAPQBHAD8ANgBLAGwAUAADANP/2v/q/+3/DgBUAGQAMAAIAAMA8P/q/yEASgBXAE0ANgA9ADAACwAuAIEAkwBkAEMAagBXANP/ef9s/3n/gf+u/zsAuQDoAOoAyACPADgAuf9Q/zj/XP+h/9v/GQBkAHYAFgCb/6v//P8BAOL/6P8IANb/hv+Z/93/8v/1/yUAcQCXAHQAXQBcADYA+P+x/6b/qf+W/4f/lv+x/6z/n//O/zYAagCEAL4ABwErAcIALgDO/13/3P6g/uH+Zf/0/0UAVwBkAFwAJgDn/9b/7/8RABkAPwCEAHoAHgDD/7n/zv/S/+P/DABCAE8ALQAGAPL/2//F/87/4P/0/xgANQAuAAwAy/9//3f/sf/1/zsAlgDAAJcAPQDI/0j/8f7d/vz+ZP/q/2EAwwDtAMAAZwADAI//Mv8m/3T/wP/3/y4AWgByAFgAFgDb/9b/6P/Y/9v/HQBfAFIA8v+m/57/of+K/4f/3/9DAF8AZACCAIkAMgC+/5v/0/8AAAkALQBkAHYAIwDG/5v/ev9+/3r/f/+s/+r/LQBHAEcAPwAWAPX/7/8DACUAHgAMAAEA3f+w/1z/MP9c/4T/qP/n/0UAiwB3ACgA5f+2/5T/hv+2/wwANQBHAGkAYQA2AOr/sP/F/+f/DgA9AGQAZQA6ABAA4P++/8r/3//4/zAAcQCXAIEAVQBAAP//rv/G/xsAbQCpAL4AsQBlAM7/WP87/zb/Qv+X/ygAkQCrAKQAoQB5ACUA2//a/wEACwALAB0AJQDn/4L/U/9//7v/4/8yAKEAygCLACAA6//T/5z/gv+w//L/EAALAP//7//G/4z/Zf+b/xUAXwB6AI8AhgA6AMr/lv+9//3/KgBDAHYAhgA9AN3/lP9X/yv/U//r/6sALAFWAScBvQAeAHX/Ov9L/3f/vv8YAHkArQCUAFUA/f+M/0j/Yv/j/3QAoQChAHcACwCb/1D/Z/+e/9D/CQA7AG8AYQAbAMv/gv9N/0//s/9fANUAzQCBAAkAb////tT+B/+O//z/UACTAKgAeQD9/2T/Af/5/jL/pv9fAPUAEgHIAE8A1f8z/6X+nf4W/+X/ggD3AGABJgGHAN//Xf8u/yX/d/8mAL4A9wDqAJcANQDS/3n/bP+e//X/ZQDYABIB7QCWAB4Ayv/V//T/IABaAHwAiQBKAN//n/9x/1P/b//r/48A4gD0AOcAlwATAH7/G/8g/1z/pv8DAF0AjABhAP//w/+u/5z/f/+B/9D/MwBAABgA7f/G/5P/SP9C/37/pv+4/9P/FgBLAC4A/f/n/8v/rv+U/5n/w//L/8X/4/8qAGcASwAjABAA4P+k/3//iv+1/+f/JgBfAHQASAD6/83/rP+P/5f/2/9IAKMAxgDCAKMAVADY/3H/Zf+f/8b/AQBvAKsAgQAyAP//7//V/6j/xv8OACoAJQBAAG8ATwD0/6n/qP/V/9D/zf/3/xMA+v/f/wQANgA/ACMAMABqAHEANQDv/87/yP+o/6b/4v8gAEsAWABdAF0AOwD8/7v/qP+W/4n/sP/w/x0AKgAzAAkA0/+4/6v/zf/r/x0AagCZAKQApgCRAD0A2/+C/0j/ZP+5/xgAcgC9ANcAqwBfABMAvv9s/2T/s/8bAHwAwwDSAMAAhwAQAKn/jP+X/8H/HQCTAOMAzQBkAAQAw/93/0r/cf/B/yYAeQCPAIQARQDY/4r/f/+O/7H/6/8yAHEAaQAqAOv/vf+w/8P/AABPAHcAXQAhAOD/if84/xP/Nv+m/ysAoQDYAMgAagDW/2f/Hf8L/0D/k/8DAIIAuwCRADAAxv9x/1f/f//V/08ArQDKAKQAQgC9/zr/8v4G/0j/k/8QAJ4A0wCpAF8ABgCr/2f/Yv+4/yEAVQB0AHoAbwAzAMP/hP+H/7n/6/8mAHoAkQBYAAEA0P+z/4f/jP/f/2EArQCcAGkAMADr/4L/Q/9+/+r/OwCLANMA2wCCAPj/iv9c/1f/d//F/0AApgCwAG0AIADw/7H/df93/87/OgBiAGoAbQBPAAYApv91/4//y/8BADsAfgCHAEUA8P+4/5//j/+u//T/KgBKADAABgDi/7j/h/9t/6H/+v9CAHIAggBcAAAAuf+Z/5f/uP/4/1IAoQDFAJkAPQDo/4z/Tf9g/6z/CwBsAKkAtgCHACMArv9i/1//l//6/0gAkQC7AI4ATwAbAMP/df9n/5H/+P9HAGEAbwBXACUA6/++/8D/0//i//X/JgBHAC0ACAABAA4AHQArADYAPQBCADIAGAAIAO3/2v/f//r/KgBAAFQAVAA1ABYA3/+z/7X/y//0/yUAZwCUAIYAXwA1ABMA6P/D/9r/BAAdACUAMgBHAEMAKwAEAOX/2v/Y/9r/4P///wYA9f/y//j////q/93///8DAO//4//g/+D/0//D/9X/AwAZACsAJQAJAPL/wP+T/4H/if+z/+f/GQBLAEoAGQDg/73/qf+T/57/1f8VADAAKgAVAAwA9P+7/7D/0v/y/wMADgAbAA4A8P/Q/77/0P/i//L/CwAtAEUAJgD8/+X/4P/r//T/IQBPAE8AOAAZAAYA7//N/8P/9P8tADUAIAARABkADADr/9r/0P/N//D/HgBCAEUAHgD8/+j/4P/Q/9L/9P8JACgASABXAEoAHQD3/+P/5f/d/87/zf/l/wEA9f/q/+j/2//S/9X/9P8JAA4ACwAQAAQA6v/I/73/3//6/xUAMwBDAE0AKwDw/+P/2//B/8r/BAA7ADsAHQAOAP//0v+f/5v/zf8MADAAOgA/ADMABADB/7P/w//N/+X/AwA6AFcANgARAPX/zv+u/7X/6v8VACYAKAARAAEA6v/D/6j/qf/W//z/CQAgAC0AKgAQAPr/AQAEAP3/CAAZACsAOwA2ACoAKgAjACEAJQAYAAwAFQAVAB4AKAAmAC4AIwAWAB4ALQA2ADAALgA2ACAADgAMAAgADgAZACoAKgAjABYAAwAGAAsA8P/a/+j/BgAdADYAQAA7ACUA+P/l/93/6/8DAAMAHQA2ADMAEwDw//D/+v/y/+X/9P8IAAkAAADv/9b/1v/q//D/6//w//j/6//f/8b/pv+x/9j/+P8TACYALQAZAPX/yP+s/7v/2P/1/wkAIwA/ACEA3/+f/5H/rv/K/+L//P8mAE0AMgAAANX/uP/D/+D/BAAoAEsAYQBQABYA4P/N/87/4P8AADsAeQB+AEgAAADb/9X/yP/Y/wQAOAB2AIQAYgA4AB4ABADo//L/CwBFAIYAlgB0ADoAHQD1/9P/xv/j/yEAOgA1ACMABgDq/87/rP+W/6T/0P/9/wsABgD3/+//7//I/57/n//D/+3/9//y//z/AwDg/7H/rv+1/6b/of+2/8v/6P/6/9//0//I/7D/vf/L/9b/6//0//r/CwAOAPf/4v/l/+D/8P8GABgAMgA1ACEA+v/Q/8P/yv/V/+j/DAAuAC0ACQD1/+v/3//T/+D/CQAuAC4AHgAgACAAEwAGAAsADgAdAC4AKwAqACgAFgAEABYAJgAqACEACwARACYAIAAVABgAKABDAFgATQBCAEIAJQALAAAAAQARACEAPQBdAFoAMAATAP//9/8IABYALgBIAFIAQAAjAAwA///o/9//7f/6/xMALQAtACEAAQDT/77/u//B/+f/BgALAA4AAADn/83/pv+M/6H/0v/q/wYAIQAYAAgA/f/l/8b/1v/1/wwANQA6ACsAMAAuAAQA5//t/+j/2//o/xkATwBSACAA9//T/87/3f/a/+v/EAA1AD0AGwD8/+f/0v/I/8v/4v8WAEUASAArAB0AAQDS/7H/o//B//D/FQAYAAAA/P/l/7n/mf+b/8X/9f8JABgAFgD8/+v/yP+r/7v/3/8JACUAMgA2AC0ADADr/93/2//y/xAAGQAQACYAQgAqABEA8P/y/wQAAAAAAAAAGwAmACoAIAAAAAQACwADAAsAEAAWACYAGwAMAAwACAAIAP//+v/8//T/4//l/+L/0//o/wQAAQD0//T/BgAVAAMAAAAQABMAFgAMAAwACQD///T/3f/Q/87/2//y/wQAFQARAP//7f/d/87/1v/w//r/BAATAB4AJQAlAA4A+P/t/+X/7/8DABsAKAArACAACQD0/+L/2v/q/wYAEAATAB0AGwAVABEAEwAjADIAPwBFADMAMwA2ACgAJQAhABEAEwAeAB4AIAAMAAYAAwD1//z/9/8GABYADgAWAAEA6//n/9v/3//j//f/EAATAAYA+P/0/9j/wf/B/9b/EAAtAB0AGQAMAPj/4v/N/8D/uP/a////FQAgABkAAwDr/+//6//b/+j/+v8GACgAQAAgABAA/P/y/wEAAwAbACoAIAAdAAsA+v/9/wQAEwAlADsAMAATABEAEQAIAPz/8P///wwAEwAgACYAGwARAA4ABADy//D/BgALABkAJQAbAAwA/P/t/+P/2v/n/+v/6v///wYAFQAEAOD/3//S/9b/2v/S/+P/6v/3/wMA9P/b/8b/wP/D/8j/zf/g////CQADAPz/8P/t/9//1f/f/9v/1f/a/+X/6v/n/9//2v/l/+//8v8JABEA+P/0////+v/v//j/EAAYACUAOgAmAAkA+P/v//r/DAAQABgAMABAADsAGQD///X/5//j/+r//P8LABsALQArAB4A9//Q/8r/w//f/wEAFgAwAB4ACQAAANj/uP+9/93///8WADgANQAOAAkA///o/93/2v/4/w4AEwAhAB4ACwD4//T/8P/4//3/BAALABUAEwD8//j/6P/a/+X/9f8GABAAFgAgABYABAD0/+3//P/9//3//////+v/zv/S/9D/zv/i//T//P/9//r/6//j//f/BgD///z/CQAQAAwAEwATAAkA/P/n/+P//P8VACUAIwAwADIAGAD///r/EwAWABYAKgArACYAMAAhAAgAAADo/+X//f8GABYAJQArACMAGwAMAPj/9P///xkAOAA7ACoAIwAJAPT/5//V/93/9/8EAAYAGAAhAAkA6//q/93/yv/T/+f//P8YACAA/f/t/+//6P/f/87/0//4/xgAHQAZABUAAQD3//X//P///wMAGQAuADIAKAARAAAABgALABYAIAAwAD0AKAAjABsAGQAZAAkAFQArAEcATQA7ADMAGQAEAPD/2v/l/wEAHgA7ADsAIAAIAPr/7//r/+P/9P8VAB0AKAArACEA///L/7b/tv/L/9//BgA6ADMAKAAbAOr/uf+e/6n/vv/V/wwAMgAuABsAAQDg/8b/zv/f/+v/BgAYACYAKwAWAPT/0P/K/9X/3f/r/wAABgAIAA4ABgDt/9v/0//j///////6/wMABADt/9P/vv+r/7X/1f/w/wAA6//l/+//7f/Y/8v/3//0/wYAGwAjACEADAD3/+j/2//T/83/6P8ZADYANQAwACMABgABAAYADAAYACEAKgAzADAADADq/9b/zv+9/8b/4////xsAJQAoABEA9P/j/8b/0P/g/+v/CwAMAAwABgD1/+P/uf+z/77/1v8DABYAIwAbABMADAD4/+X/4//1/wwAEAAMABkAGQAdABEAAAAAAP3/CAATAB0AIQATABsAJQAYABAAGQAdABkAGAABAAMADAALABUAJQAmAA4A9P/0//3/BAALAAwAEwAeABkAHQAZAAwA+P/v/wEAAAD//wgAFgAtADoAOAAoAAsA9//8/wgAEAAbABsAEAAGAOr/2P/g/+j/9/8GACsAMgAWABUADgAAAAAA/P8AAA4AEwAgACMAFQADAPX/8P/q/+D/7f/0//f/CQAAAPD/9P/q/9r/4//3/wAADgAlADoALgAOAAMA///v/9L/0v///xMAHQAtACsADADv//z/DgALABYAIQAzADoAKAAWAPX/2v/G/83/2v/d////CwAdAB4A/P/6/+D/5//4/+///P8YAC4AJQAZABEACAD6/wAA///w/wQAGAAlACAA/f/1//f/2//O/9D/3f/y//r/CAAEAO3/1v/G/73/vv/G/8r/0v/T/8r/0//b/9P/1v/i/+f/6P/o/+X/5//j/9b/4P/q/+X/6P/w/wMA+v/n/+j/AQAIAAsADAD8/wMA///w//L/4P/S/+P/AAARAA4AEwAdABAA+P/6//3/+v/6/wAAEwAYABMACAD///X/6//o/+//AwD6//T/BAAMAAMA8v/q/93/3f/r/+X/4P/8/wMA+v8AAAAAAAAQABgAEQAZABMAHgAmACMAMAArACgAMAAwACEAEQAGABMAHgAbABUAEQAVABUAEAABAAQAAAAAABsAJgAQAAgAEwAQAAwA/f/9/wkACAATAB0AGQAZABMAEwAVAA4AEQAbAC4AMAAWAAkAGwAWAAgADAAdABgACwARAA4ACwABAPX/AwAOAAQACAAGAPL/+P8EABAA///n/+3/5f/l/+3//P8EAAAADAAJAAQAAAD1//T/AwAIAPj//f/9//r/6P/F/9P/6v/n//D/9/8BAPj/7f/v//3/BAAGACMAIwAOAAkABAADAAgACAAGAAYAEwArADAAIQAjACoAFgAIAP//9f8AABAAFgALAAkAEQD6/+v/9P/9/wgACQAMAAkADgAGAPr/EwAMAOL/6v8GAAYACQAZABYAEQAOAAMA/P8AAAsACQAGABAACADw/wYAGAD9//r/AQALACMAKwAbABMAHQAVAAAA//8IAAkAAAD8/wEA+P/o/93/4//3//D/4v/l//z/+v/o/+f/2//f/+L/2P/b/9v/4//w//f/7//r//T/8v/w/+f/6/8EAAgA+P8AABAACwAAAPj/CQAWABMAFQAAAOf/5//w/+//5//j/+P/7f/0/+r/6v/o/+v////9//z//P8OABAABAAOABEA+v/r//3////w/xAAKgAMAPz/8P/6/wAA7/8BAAwACQABAPj/8P/n/+v/7f/a/9v/7f/4//z///8AAP//+v/y//T/8P/t//r/DgAVABgAGQAGAP3/EQAQAAEACQAZADIALQAZACAALQAYAAwAGQAVAA4ADAAZAB4AIwAjABsAGwAVABYACwAIABgAFgAYABgADAAIAAYACQAOAAQABAAMAA4ADAAEAP////8BAAAA+v/i/+L/7//r//T/9f///wMA+P8BAAEAAAAWABsAEAARABAAEAAhABgA8v/r//T/6v/o/+X/4P/y/wsABgDv/+L/6v/v//L/+P8IAB0AHQARAAkAFgAdAA4AEAAgACEADAAQABYAIwAhAPz/9f/4//L/9/8GABAADgAQAAEA8P/q/+3/9P/3/wAAAwD6/+//8v/3/+3/4//j/+r/6//t//r/+P/w/+j/5f/1//r/+P////j/+P8BAPL/5//q//D/7f/o//X/9P/w//f/6v/n//X/8P/3//r/2v/S/+3/8P/n/+D/2P/g/+v/6P/g/93/7f/0/+//9f/3/+//9/8BAOv/6//o/9b/4v/o/+D/5f/6/wMAAAD6//r/9f/3/wQACwALABMADgD6//T/7f/l/+//+v8RABYAFQAZAAsADAAEAAQAEwAJABUAFgAVABMACAARAAwAAAAJABgAEwAWABgABgD//wAAAwD6/+v/6P/w//D/6//q//D/+v/q/9r/2P/a/+//BAD///3//P/w//r/AwD8//z/AwAOABgAGAAYAAkACQAeABsAJQAjABsAIwAdABUAIwAwACEAGwAlABYABgAIAAkAAAD9/wQADAARAAwAEQAJAPf/8P/v//f//f8EAAMA9f/4/wAA/f/y/+3///8RAAsACwAQAA4AEwATAAAA5//w/wYABgAEABMAEwAMABEAEAAOAAwACAAGAAgABgAJABMAEQAOABEADAADAAEAEwAWABYAIAAZAA4AEAAQAAMACQAMAAsAEAAEAAAAAwD9//D/+P8IAAYAAAABABAADAAJAAsABgAIAPz//P8QABUAEQALAA4ADAAMAAsAFQAhABsAIAAbABEAAwD4/wMAEQAWAAkABgAJAAYADAAMAAQAAQD9//X//f/9//f/7//j/9b/0v/d/+P/6v/w/+j/5f/w//j/9//n/+L/2//V/9v/1f/V/+f/7f/o/+X/6P/v/+r/5//q/+r/7//q/+3/9f/1//X/8P/v/+//7f/0//r/+P/0//L/9P/9/wEA///y/+///f/6//z/9//v////BAADAPr/9//8//X/9f8BAPr/9/8AAAYADgAAAPT//P/8/wgACwADAAwAFgAlABkAEQAVAA4AEQAGABAAHgATABsAIAAVAAgAAwAGAAMAEAAgAAwAAAD8/+r/5//q//X/9P/l/+D/4P/g/93/yP/K/9//1f/W/9r/2v/o/+f/7f/1/+//5//f/+j/9f/r/+//AwAGAAgA/f8BABYACwAAAAsACADy//r///8AAAEA9f/w//j//f8EAA4AGQAZABUAHQAhABUAFQAbAAsACQATABEAFQARAAQABAAJAAkACwATACAAIwAmACsAHgAVABAAFgAbABEADgAGAAsAFQAbACMAIwAVABEAHQAYAAkACwATAAsAAwALAAAA8v/w//D/AQAOABAACAAJABEAAADj/+P/6v/n//D/9P/1/+v/5f/v/+P/5f/w//j/9f/y//r/9P/w/+v/4//w//j/9f/6/wAACwAWACYAKgAgACgAJgAmADUAMAAjAB4AGQAbABYAEQAJABEAHgAhAB0ACAADAAEA9//8//j/9f/6//L/6P/t/+v/5//v/+3/8v/4//r/AAABAAMA+P/0//T/5f/n//X/BgAGAPz/AwAAAP3////8/wAA/f8DAAYA/f8BAP3/7f/r/+v/5//o//f/AAADABAABgD3//r/+P/0//L/7//o/9//3f/r//L/+P/8/+3/6v/6/wEA9f/1//3/+v/w/+X/4v/b/+v/7f/V/9X/4P/g/+P/6//r/+D/3//f/+f/AAD9//r/+v/l/93/3f/a/9v/3//0/wYA/P/w/+v/AQAIAP3/AADw/+v/8P/3/wAABAAQABEADAAEAPr///8AAAQA/P/0//X/+P////T/9P/3/+v/4//n//z/DgAJAP3/9f/6/wYABgAGAAQAAwAIAP//8v/l//f/CwAAAP//CwALAA4AFgAWABEAAwAJAAwACQAbAB0AHQAbABAAEwAZABgAEwAQABsAJQAgABUACwAMAAwAHgA1AB4AEwArADMAMwAjAP///P8JABUAJQAtACAAEAAIAAwACQALABMACQAGABMAFgAMAAMA//8BAPX/7////wYACQALABAACwAJAAYA/f8OACAAFQALAAgACwATAA4AFQAbAAgA+P/3////AQD1/+//6//r/+X/9P8LAAMACQAZAB4AGwATABYAIQAhACAAHQAqAC4AGAAWACMAKAAhAB4AGQAVABkAGwAbACEAHgAZABEADAARABUADgATAAwAAAABAAEABgAOABMA///i/+L/4v/j/+f/5//o/+//9//4/wsAGAAIAAQAAAD8/wEAAwAEAAAA8v/l/+D/5//r/+3/6P/v//X/4//d/+f/6//r//D/6v/l/+3/6v/w//z/+P/v/+D/2P/j/+f/4//t/+v/2//O/8X/zv/o/+///f8IAP3/BAAAAPr/AwAIAAYACAAOAAkABgD//wEAAwD6//X//P8EAAgAEwAAAAEABgDw//f/BAALAAsADAARAAwACAAGAP//9//1////AADw/+//6v/n/+3/4v/i//f/+v/1//z/BgAJAAEA7f/v/+X/6P8BAPj/9P/r/+j/8v/3/wYAEQAIAAAAAQD//+v/6//9//X/9f/4//X/CwAQAAQA9//4/wYA9P/3/wkAAwALABAA+P/o/+r/4v/a/+r/+P8AAAgABgAIAAwACwD4//j/BgADAPD/8P8EAAsAFQALAAMADAADAAwAFQATABUAFQAOAAsAHgAeAAkAEwAgABsAIQAoACgAKAAlACMAIQAbACMAIQAOAAwAFgAWABgAGAAZABsADAAeACYAGAAmACMAIQAdABMAEQAEAAQACAARAAkA//8JAP//AAAOABMAGQAOAAwACwD//wQACwAIAPz/AAAQAAkABAD//wMAAQDl/+f/8P/3////AQABAPf/+v8EAAEA7//n/+3/6v/q/+j/6v8AAAYAAAAGAPX/7f/r/9b/5f/r/+f//f/1/+D/9/8AAOf/6/8DAPT/2P/g/+j/4v/n//f/8P/o//f/AwAMAAwADAALAAYAAwD8/////f////X/6P/4//z/+P/8/wMABgD///z/7//o/+3/6//y/wEAAQD3//T/9f/t/+3/+v/n/+v/BAAMAAYA9f/6//3/AAADAPr/9P/q//f/9P/1//z/AAAOAPj/9/8QABYAFQARAAgABAAEAAQA/f///wgABAD9/+3/4//r/+f/6P/4//T/8P/9/wMAAQD0/+//AAD8/+v/8v8AAP3//f8AAPr/9//v//L/AwAYACAAGAAZABUABAD8/wAAAQD4//T/+v8DAPr///8RAAEA+v8AAP//BgD0//z/AADt//z/9P/3/wkAEQARAAYACQAEAAQAAAADACEAEwALABgADgAOAP3/BAAZAAkAAwAEAP///P8OAA4AAAAQAAMA8P/8/wgA/P/n/+r/7//o/+P/6v/w//X//P/v/+v/AQALAAYA///8//f/8P/y//j/BAALABAAFQAZAB0AIQAdAAwACAAOABEACAD8//z///8IAAwAFQAgABMAGwATAP3//f8DAAwACAD///j/AQAEAP//CwAIAAMAAQABAAYA/P8EABAACQD8//L//f////X/9f/3/+r/6P/3/+//7f/y//D/+v/9//f/+P8EAAsABgAAAAMAAADw/+//+v8GAAYADAAJAPz/CAAJABAAEwAAAAEABgD/////AQADAAsADAAAAAEAFgAWAAMAAQADAP3/AAD6/wQADgAEAAQAAQAGAAgAEAAMAP//AQAAAAMABgADAAQAEQAdACgALQAVAAgACwADAPr/9P/t//f/9P/1/wQAEQARAPz/9f/1//X/8P/q/+v/8v/w//L/9f/g/+r//P/v//T/7//t//T/8v////z/9/////j//f/v/+f/+v///+//4//3/wAA8P/w//r/6v/d/+3/8P/q//L/9f/v/+X/5f/o/+f/4v/n//L/9f/6//r/9f/4//r/CAD0/+L/8P/t/+//9P/1/wkADgAEAAkABAALABMABgABAPr//P///wYACAAIAAwACAADAAMAAQD9//r/9f/8/wsAGQAoACgAFQAQABsAEAADAAgAAQAEAAgABgAdACgAKwAuACEAGQARAA4AGAAjAC0AGQAZACoAMAAyACMAHQAQAAMACAAMABAA///6/wkAEQARAAkAEAARAP//+v8JABUAEwAIAAMA/f/6/wMACQAIAPr/AAARAAgAAAAOAA4AAAD4//T//f/6//D//P8GAPj/5//w////CAAEAAAAAQDw/+j/7f/w//X/8P/4//z/9P/y/+X/4//t/+//6//n//T/+v/j/9j/6v/0/93/2//t/+f/4P/w/wYAEAARAA4AGQAWAAQAAAD6//z/7//9/xUACwATABAADgATAAEABAABAPT/9f/v/+v/6v/t//L//P8AAAkAGQAOAAwAAADl/+f/5f/j/+r/8v/3//j//f8BAAQA/P/1//f/5f/r/wMACAD8/+j/4v/n/+v/7//0/wMABgDr/9b/4P/r/+//+P///wsADAD6//z/AQD9/wAACQATAPz/4//w//j/9P/w/xUAJgATAA4ACwADAAMAFgAtACgAEQAVACUAGAAAAPz/FQAZAAAA9//w//f////y//T//f/4/+3/6//3/+r/9/8AAPT//P/v//D////9//j//P8DAPj/4v/V/+D/6//g/+f/7f8BAA4ACQAYABUAEAAOAAMABgD///D/9f/0/+3/+v8JABEAFQADAAkAEwAJAAsAAAAAAAYAAQALAAYAGAArACYAMAAgABgAHgAjABYAAwAEAPj/9f8DABEAEwAEAPz/BgAOAA4AEQAOAAsACQAJABMACAABAAgACwAVAB0AEwAEAAsAEQARAP///f8hACgAEQD//wkAFgAMAAMADAAEAO//6//0//X/7f/0//3/7//l/+r/4//b/9b/3//0//X/9f8BAAkABgADAAkACQALAAwA///6//z///8OAAwA+v8AAAEAAAATABYAFgAWAAkACwAQABEAAwAJAB0AEQAOAAkACQAOAAQABgAMAAMAAAAAAPL/7f/8/wYACwAVABsAGQAEAPf/+v/9/wEA/f8DAAQA+v8IABEADgAIAAgADgAMABAACQAJAAEA9P/1/+v/9P8BAAkABgABABAAEAAMAAsA+P/3/wYAAQD6//j//P/4//z//P/q/+v/9//8/+v/2//T/83/1v/d/+L/6P/l/+D/4v/g/+j/5//Y/9j/3//j/+P/5f/v//T/8P/v/+//5f/l//D/7f/v//f/AwAVABEACQARAAkACAAEAPf/+P/9//z//f8OAAgA/f8BAPf/6v/q/+3/+v8QAAwABgD9//X/BAAAAAEABAD0/wQAEQADAAkAFgAMAAYACAADAAgAEwAZABMABgAQABgAEAAVAAQA/P8GAP3/BAD9//D//P/4//j///////3/9f///xMAEAAMAAwAAwAVACYAIAAYABEAGQAVAAgAFQALAP//CQAGAAQADgAVABYAHQAeACMAIQATABYAGAALAPz/6v/4/w4ABgD6//X/+P8MAAkA9f8AABMAEwAWABAAAwAEAAwADAAGAAMAAwAIAA4ACQAJABEACQD8////AwABAAgABgAJAP3/7//3//L/8v/9//3/6//v//f/9//6//X/8P/l/+//AwD3//f//f/6/wwAIAAdABEAEwAhACAADgAMABMAEAAJAAMACAAJAPz/AAD6//f////w//L////6//j/CAABAOj/6v/t//f/+P/v//T/5//g/+D/3//q//3/AAD8//L/8P////3///8BAO//6/8BABAADAD///f/9P/t/+//6//d/9r/4//n/+j/8v/v/+X/6P/w//X/6//v//j/AQAOABMAAwD6/wYAAQD9/wMA/f/0//D/AQAJAAQA//8AAPz/9f/8/wQAEwAdABkAIAAqABsACAALABMAEQAOAAwADAAMAA4ABgALABAAGAATAA4AGAD8//j//P/r//f/+v/4//D/2P/f/+//5//w//j/9P/9//3//P/6/+f/5//y//D/+P/4//L/5//d/+j/5//W/93/4P/f/+r/5f/o//L/6v/d/+D/6v/r/+r/8P/6//T/9f/8//X/8P/4/wkACwAIAAkACAAEAPz/+P///w4AEQADAPj/BgAVABgAIwAhACEALQAtAB0AIAAwACgAKwAyADgAMwArAC4AKwArADIAHQAOACAAEQAYACUAFgATAAkAFQAjACUAIwAVABEAJgAmABUAHQAhABEADgARAAYA8P/j/+3/+P/0//X/9//4//j/6v/q//3//f/w/+3/7//w/+r/4P/Y/+D/5f/f/+D/4//n/+X/4//g/+X/8P/v//X/+v/r/+f/6v/r//T/6//1/wgAAQD1//T/9f/3//z/AAD4//z/EQAZAAQABgATAAYADAAbABsADAAGAAsA///6/wAA+P/4/wYABAALAAkA9//0//D/6//1//z//f8DAPz/CQAJAP3////o//j/BgDw/+v/5//6/wwA/f/9/wYAAQD/////CQAJAPX/4//y/wEA/f/1/+//9//1//f//f/v//T/9P/g/+3/8P/4/xEAEQAVAAsA8P/i/+X/6v/w//3/AAD1/+3/8v/v/+f/7f/8/wMABAD6//X/AwABAPz/+v/t//T/+P/w/wEAAAD0//D/8v///wkAEAARABUAEQAIAAwADAABAPX/9P8BAAAA8v/y////CAD//xMAIAAQABsAGAAQABgADAAEAAsAEwATAAgACQAIAP3/+v////3/7//1/wMABgD6//j/AQD9/wYABADt//D/+P/3//X/8v/8/wQA/P/3//z/9f/d/9P/7//6//D/6//r/+r/6//y//D/9f/t/+X/6//n/+f/+P/8//X/CQARAAkACAADAAkABAAGAB4AJQAeABsAIAAjABkAEwAVAB4AHQAWABUAGwAjABgAGAATABAAJgAoACEAIQAeACoAKAAgACUAEwAbACYAFQAbABsACAARABMABAAAAPr/+v/y/+r/4v/Y/+L/6P/w/wgA///g/+f/6//v/wAA8v/1/wQA6v/f/+r/4v/n//D/9f/8/+3/8P/4//T///8EAAEA+v/8////8P/q//D/+P/4/wwADgD8/wkAAwD9/wgA//8BAAgACAAVAAsAAAARABUAEAAYAA4AAAAIAAMAAwAGAAsAEQAGAA4AEAAMAAwA9/8IABsA/f/1/wAAAwAQAAYA/P8MAAMA9//9////AAD6//X/+v/1/+r/8P/3////BgDy//D////6////CQALAAkA+v/4/wEA/f/8//z/+v8EAAwA///1//j//f/8////EwAOAA4AGQALAAYABgD4/wAACAAJAAAA7//3//r///8QABMAFgAbABAAEwARAAMAEAAbAAwACAAMAAAAAQABAOv/8P/n/93/5//r//z/+v/1//D/6v/q/+v/8P/6//X/6P/w/+3/0//V/+X/8P/y/+v/9P8DAPz/AQAVAAMA/f8MABMADgATABAACAATAA4ACQAAAP//FQAYAAsACAAGAAEACAAOAAMA+v8BAAkAAQAGAAgA9f/8//r/+v8OABAACwAEAAEACwALABEAFQALAAMABgAJAAEAAAABAAAA+P/1//r/BgARABAADgALAAwADAAAAAMAGAAWAAwAEwARAAwAEQAJAAsAHgAdAAQA/P8DABAAEAAQABkAFgAIAP3/9P/6/wMA8P/v/wQAAADy//z/AQAGAAYABAAIAAQACwAMAAkAEwAVABUAIQAbABYAFQAAAAEACAD6//z//P/w/+3/9P/t/+D/3//b/+//9//d/+X/6P/Y/87/zv/Y/+D/6P/f/9r/2v/a/+j/3//b/+3/7//q/9v/3f/g/83/yv/O/9L/4P/b/9D/3//q/+v/9f/r/+r/9f/o/+D/7//r/+D/5//q/+//9//v//f//P/1/wAAAQD0/+j/5f/r/+f/0v/V/9r/3//3//z/7f/4/wwA/P///xAA/f/1//3/+P/8/wYACwAVAA4AAwAEAAMADAAZAAgA9//1//r/DAARAAQA9//t////CwAOAB0AHQATAB0AKAAmACAAHgAgAC4ANQAwACsAIwAzADIAFgAOABAABAD6/wsAEwAEAAEAFgAQAPz//f/w//z/EAAQABYACwAGAAYAAQAMABEADgAJAAsAEQAIAAQABAAOABsADgADAPz/AQAIAAgACQAJAAwAEAAOABMABgABAAMA7f/y//3/9//6/xAAIQAZAA4ACAAJABAABAD//wEA9//q/+v/+P///wAA/P/4/wMABAD//////P///wEA9f/n/+r/5//3/w4AAQD1/+r/6P/t/+3/6v/r//L/6//6/wwAAQD//wAACAAdABkAGQAZABUAGAALAPj/BAAVABYADgAMAAkAAQALABAAHgAYAAQABgD4/wEAEQAJABAAFQAQABAAEwAOAAYA+v/3/wkACAAEAAgAAAAMABMAGQAbABUACwAEABUAIAAgABkAIQAoAA==\" type=\"audio/wav\" />\n",
              "                    Your browser does not support the audio element.\n",
              "                </audio>\n",
              "              "
            ],
            "text/plain": [
              "<IPython.lib.display.Audio object>"
            ]
          },
          "metadata": {},
          "output_type": "display_data"
        },
        {
          "name": "stdout",
          "output_type": "stream",
          "text": [
            "signal =  [  75   29  -85 ... -343  304  879] ; label = 5\n"
          ]
        },
        {
          "data": {
            "text/html": [
              "\n",
              "                <audio controls=\"controls\" >\n",
              "                    <source src=\"data:audio/wav;base64,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\" type=\"audio/wav\" />\n",
              "                    Your browser does not support the audio element.\n",
              "                </audio>\n",
              "              "
            ],
            "text/plain": [
              "<IPython.lib.display.Audio object>"
            ]
          },
          "metadata": {},
          "output_type": "display_data"
        },
        {
          "name": "stdout",
          "output_type": "stream",
          "text": [
            "signal =  [0 0 2 ... 2 1 1] ; label = 7\n"
          ]
        },
        {
          "data": {
            "text/html": [
              "\n",
              "                <audio controls=\"controls\" >\n",
              "                    <source src=\"data:audio/wav;base64,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\" type=\"audio/wav\" />\n",
              "                    Your browser does not support the audio element.\n",
              "                </audio>\n",
              "              "
            ],
            "text/plain": [
              "<IPython.lib.display.Audio object>"
            ]
          },
          "metadata": {},
          "output_type": "display_data"
        }
      ],
      "source": [
        "sr = 16000  # sample rate\n",
        "example = train_set.take(3)  # example is (audio, label)\n",
        "\n",
        "for signal, label in tfds.as_numpy(example):\n",
        "  print('signal = ', signal, '; label =', label)\n",
        "  display.display(Audio(signal, rate=sr))"
      ]
    },
    {
      "cell_type": "markdown",
      "metadata": {
        "id": "t90PkuVFeDpq"
      },
      "source": [
        "## Problem 1: Visualization (10 Points)\n",
        "\n",
        "Now that we have our data, let's visualize and listen to one of the recordings."
      ]
    },
    {
      "cell_type": "markdown",
      "metadata": {
        "id": "Xpn7RzNUwlNw"
      },
      "source": [
        "### 1.1 Waveform (4 Points)\n",
        "Plot one of the recordings' waveform with the title \"Waveform\" using the `librosa` package. Label the x-axis \"Time (s)\" and the y-axis \"Amplitude\". Display audio controls below so you could listen to the recording. Here is a link to the [official `librosa` documentation](https://librosa.org/doc/latest/index.html)."
      ]
    },
    {
      "cell_type": "code",
      "execution_count": 4,
      "metadata": {
        "colab": {
          "base_uri": "https://localhost:8080/",
          "height": 313
        },
        "id": "DofFJvuBeC37",
        "outputId": "2a5c3f53-7b80-4c46-8326-2507ea442a92"
      },
      "outputs": [
        {
          "data": {
            "text/plain": [
              "Text(0, 0.5, 'Amplitude')"
            ]
          },
          "execution_count": 4,
          "metadata": {},
          "output_type": "execute_result"
        },
        {
          "data": {
            "image/png": "[encoded data removed]",
            "text/plain": [
              "<Figure size 432x288 with 1 Axes>"
            ]
          },
          "metadata": {
            "needs_background": "light"
          },
          "output_type": "display_data"
        }
      ],
      "source": [
        "# TODO: your code here\n",
        "\n",
        "librosa.display.waveplot(np.array(signal, dtype=\"float\"), sr=sr)\n",
        "plt.title(\"Waveform\")\n",
        "plt.xlabel(\"Time (s)\")\n",
        "plt.ylabel(\"Amplitude\")"
      ]
    },
    {
      "cell_type": "markdown",
      "metadata": {
        "id": "6PCt7w3lkN4R"
      },
      "source": [
        "### 1.2 Spectrogram (3 Points)\n",
        "Next, Let's plot the spectrogram of the same signal by applying the STFT using the librosa package and taking the absolute value of the result. Use matplotlib's `pcolormesh` function, you don't need to add labels here."
      ]
    },
    {
      "cell_type": "code",
      "execution_count": 5,
      "metadata": {
        "colab": {
          "base_uri": "https://localhost:8080/",
          "height": 283
        },
        "id": "VWB1K8lnesxv",
        "outputId": "057b6403-f944-466a-82c1-07b0f5730d3c"
      },
      "outputs": [
        {
          "data": {
            "text/plain": [
              "<matplotlib.collections.QuadMesh at 0x7f4b7f750550>"
            ]
          },
          "execution_count": 5,
          "metadata": {},
          "output_type": "execute_result"
        },
        {
          "data": {
            "image/png": "[encoded data removed]",
            "text/plain": [
              "<Figure size 432x288 with 1 Axes>"
            ]
          },
          "metadata": {
            "needs_background": "light"
          },
          "output_type": "display_data"
        }
      ],
      "source": [
        "# TODO: your code here\n",
        "\n",
        "D = librosa.stft(np.array(signal, dtype=\"float\"))\n",
        "plt.pcolormesh(np.abs(D))"
      ]
    },
    {
      "cell_type": "markdown",
      "metadata": {
        "id": "zdEhkik9nI5f"
      },
      "source": [
        "### 1.3 Better Spectrogram (3 Points)\n",
        "A little hard to notice the data right? let's scale the data and make the visualization more intelligible. Use librosa's amplitude to dB convertion function. Then, use Librosa's `specshow` function to display the spectrogram, label the x-axis \"Time\" and the y-axis \"Hz\". Lastly, add a dB colorbar and give the plot the title \"Spectrogram\"."
      ]
    },
    {
      "cell_type": "code",
      "execution_count": 6,
      "metadata": {
        "colab": {
          "base_uri": "https://localhost:8080/",
          "height": 296
        },
        "id": "fsMQN4eroHE6",
        "outputId": "7f1baf63-82a9-4d02-f77e-30b4f4b6105a"
      },
      "outputs": [
        {
          "data": {
            "text/plain": [
              "Text(0.5, 1.0, 'Spectrogram')"
            ]
          },
          "execution_count": 6,
          "metadata": {},
          "output_type": "execute_result"
        },
        {
          "data": {
            "image/png": "[encoded data removed]",
            "text/plain": [
              "<Figure size 432x288 with 2 Axes>"
            ]
          },
          "metadata": {
            "needs_background": "light"
          },
          "output_type": "display_data"
        }
      ],
      "source": [
        "# TODO: your code here\n",
        "\n",
        "S_db = librosa.amplitude_to_db(np.abs(D))\n",
        "plt.figure()\n",
        "librosa.display.specshow(S_db)\n",
        "plt.xlabel(\"Time\")\n",
        "plt.ylabel(\"Hz\")\n",
        "plt.colorbar()\n",
        "plt.title(\"Spectrogram\")"
      ]
    },
    {
      "cell_type": "markdown",
      "metadata": {
        "id": "iGlH4_vyT_u5"
      },
      "source": [
        "## Problem 2: Preprocessing (10 Points)\n",
        "\n",
        "Before we build our network, we need to perform some preprocessing to create a spectrogram dataset. An alternative you might see in practice is to make the input transformation a part of the network (either as a trainable or non-trainable layer), which would allow you to modify the transformation without having to process the dataset every time."
      ]
    },
    {
      "cell_type": "markdown",
      "metadata": {
        "id": "Z1U0a1cQUWce"
      },
      "source": [
        "### 2.1 Filtering (3 Points)\n",
        "\n",
        "Our model will be receiving fixed-sized inputs, so to keep things simple, we will simply filter out any recording which is not exactly 16,000 samples (equivalent to 1-second with a 16-kHz sample rate). Use TensorFlow's Dataset API. Do this to all sets (train, valid, and test)."
      ]
    },
    {
      "cell_type": "code",
      "execution_count": 7,
      "metadata": {
        "id": "GeeEVU5QVQiL"
      },
      "outputs": [],
      "source": [
        "# filter the data to ensure consistent shape (removes ~8,000 samples)\n",
        "# TODO: your code here\n",
        "\n",
        "train_set = train_set.filter(lambda signal, label : len(signal) == 16000)\n",
        "valid_set = valid_set.filter(lambda signal, label : len(signal) == 16000)\n",
        "test_set = test_set.filter(lambda signal, label : len(signal) == 16000)\n"
      ]
    },
    {
      "cell_type": "markdown",
      "metadata": {
        "id": "mZdDEKPaVjjQ"
      },
      "source": [
        "### 2.2 Transformation (4 Points)\n",
        "\n",
        "Our model will be receiving spectrograms. Use TensorFlow's Dataset API, signal module, and other TensorFlow functions to transform the data into magnitue spectrograms. In particular, use a decibel-scaled spectrogram with 512 for your number of fast-fourier transforms (frame length) and a hop length (frame step) of 160. Implement `get_db_spec()` which receives a signal as input and returns the decibel-scaled spectrogram as output. Then, outside the function, transform the data using the function.  Do this to all sets (train, valid, and test). Use the power_to_db helper function (notice its docstring)."
      ]
    },
    {
      "cell_type": "code",
      "execution_count": 8,
      "metadata": {
        "colab": {
          "base_uri": "https://localhost:8080/"
        },
        "id": "PzZQ_0W8YGmM",
        "outputId": "eccdd19b-7758-431e-bcc8-57985841c057"
      },
      "outputs": [
        {
          "name": "stdout",
          "output_type": "stream",
          "text": [
            "(257, 97)\n"
          ]
        }
      ],
      "source": [
        "def power_to_db(S, amin=1e-16, top_db=80.0):\n",
        "    \"\"\"Convert a power-spectrogram (magnitude squared) to decibel (dB) units.\n",
        "    Computes the scaling ``10 * log10(S / max(S))`` in a numerically\n",
        "    stable way. Based on:\n",
        "    https://librosa.org/doc/latest/generated/librosa.power_to_db.html\n",
        "    \"\"\"\n",
        "    def _tf_log10(x):\n",
        "        numerator = tf.math.log(x)\n",
        "        denominator = tf.math.log(tf.constant(10, dtype=numerator.dtype))\n",
        "        return numerator / denominator\n",
        "    \n",
        "    # Scale magnitude relative to maximum value in S. Zeros in the output \n",
        "    # correspond to positions where S == ref.\n",
        "    ref = tf.reduce_max(S)\n",
        "\n",
        "    log_spec = 10.0 * _tf_log10(tf.maximum(amin, S))\n",
        "    log_spec -= 10.0 * _tf_log10(tf.maximum(amin, ref))\n",
        "    log_spec = tf.maximum(log_spec, tf.reduce_max(log_spec) - top_db)\n",
        "\n",
        "    return log_spec\n",
        "\n",
        "def get_db_spec(sig):\n",
        "  # TODO: your code here\n",
        "  S = tf.signal.stft(tf.cast(sig, tf.float32),frame_length=512,frame_step=160)\n",
        "  S_db = power_to_db(tf.math.square(tf.math.abs(S)))\n",
        "  return tf.transpose(S_db)\n",
        "\n",
        "# TODO: your code here\n",
        "# tf.compat.v1.enable_eager_execution()\n",
        "tf_train_set = train_set.map(lambda signal, label : (get_db_spec(signal), label))\n",
        "tf_valid_set = valid_set.map(lambda signal, label : (get_db_spec(signal), label))\n",
        "tf_test_set = test_set.map(lambda signal, label : (get_db_spec(signal), label))\n",
        "\n",
        "\n",
        "example = tf_train_set.take(1)  # example is (audio, label)\n",
        "\n",
        "for signal, label in tfds.as_numpy(example):\n",
        "  print(signal.shape)"
      ]
    },
    {
      "cell_type": "markdown",
      "metadata": {
        "id": "7ns6rlrB5zUt"
      },
      "source": [
        "### 2.3 Normalization (3 Points)\n",
        "\n",
        "There are different ways to normalize data. For simplicity, let's perform per-sample standardization. Implement the `normalize()` function which recieves a `tf.Tensor` tensor and returns a standardized value by subtracting the mean of the tensor and divinding by the standard deviation plus some tiny value to avoid dividing by zero (use `TensorFlow` functions here). Then, apply it to the 3 subsets of the dataset (train, valid, and test).\n"
      ]
    },
    {
      "cell_type": "code",
      "execution_count": 9,
      "metadata": {
        "id": "a2cQVFbX6r4W"
      },
      "outputs": [],
      "source": [
        "def normalize(x, epsilon=1e-10):\n",
        "  # TODO: your code here\n",
        "  mean = tf.math.reduce_mean(x)\n",
        "  std = tf.math.reduce_std(x) + epsilon\n",
        "  return tf.math.divide(tf.math.subtract(x, mean), std)\n",
        "\n",
        "# TODO: your code here\n",
        "\n",
        "nm_train_set = tf_train_set.map(lambda signal, label: (normalize(signal), label))\n",
        "nm_valid_set = tf_valid_set.map(lambda signal, label: (normalize(signal), label))\n",
        "nm_test_set = tf_test_set.map(lambda signal, label: (normalize(signal), label))\n"
      ]
    },
    {
      "cell_type": "markdown",
      "metadata": {
        "id": "Wk71bbTleP-3"
      },
      "source": [
        "## Problem 3: Architecture (15 Points)\n",
        "\n",
        "Now we're ready to build our CNN model. You'll be implementing the model shown below. Use `tensorflow.keras` (either the sequential API or functional API) to implement and return the model inside the `my_cnn` function. \n",
        "\n",
        "Notice that the leftmost block is the reshaped input of shape 257x97x1 (CNN implementations usually require a 3rd dimension because of potential color channels). The convolutional layers are followed by batch normalization layers, which are followed by ReLU activations. Padding is always used such that all pixels are considered during the convolution _and_ pooling processes. Lastly, the output layer is a dense layer with a softmax activation. \n",
        "\n",
        "Don't forget to compile the model before returning it. Use the `adam` optimizer and for the loss function use sparse categorical crossentropy, the sparse part is to tell the model that our targets are __not__ one-hot encoded. Be sure to run the cell to see the model summary.\n",
        "\n",
        "<center>\n",
        "<img src=\"https://drive.google.com/thumbnail?id=1bAtVD-ffxyVi91kzfghXk3P0_rTDlCxf&sz=w3800\" alt=\"cnn_diagram\"/>\n",
        "<i>Figure 4: Diagram of a deep convolutional neural network for you to implement.</i>\n",
        "</center>"
      ]
    },
    {
      "cell_type": "code",
      "execution_count": 10,
      "metadata": {
        "colab": {
          "base_uri": "https://localhost:8080/"
        },
        "id": "xDe_0UEX6lPQ",
        "outputId": "bd706c18-3592-470c-c84b-51f1af8b4d58"
      },
      "outputs": [
        {
          "name": "stdout",
          "output_type": "stream",
          "text": [
            "Model: \"sequential\"\n",
            "_________________________________________________________________\n",
            " Layer (type)                Output Shape              Param #   \n",
            "=================================================================\n",
            " conv2d (Conv2D)             (None, 257, 97, 12)       120       \n",
            "                                                                 \n",
            " batch_normalization (BatchN  (None, 257, 97, 12)      48        \n",
            " ormalization)                                                   \n",
            "                                                                 \n",
            " re_lu (ReLU)                (None, 257, 97, 12)       0         \n",
            "                                                                 \n",
            " max_pooling2d (MaxPooling2D  (None, 129, 49, 12)      0         \n",
            " )                                                               \n",
            "                                                                 \n",
            " conv2d_1 (Conv2D)           (None, 129, 49, 24)       2616      \n",
            "                                                                 \n",
            " batch_normalization_1 (Batc  (None, 129, 49, 24)      96        \n",
            " hNormalization)                                                 \n",
            "                                                                 \n",
            " re_lu_1 (ReLU)              (None, 129, 49, 24)       0         \n",
            "                                                                 \n",
            " max_pooling2d_1 (MaxPooling  (None, 65, 25, 24)       0         \n",
            " 2D)                                                             \n",
            "                                                                 \n",
            " conv2d_2 (Conv2D)           (None, 65, 25, 48)        10416     \n",
            "                                                                 \n",
            " batch_normalization_2 (Batc  (None, 65, 25, 48)       192       \n",
            " hNormalization)                                                 \n",
            "                                                                 \n",
            " re_lu_2 (ReLU)              (None, 65, 25, 48)        0         \n",
            "                                                                 \n",
            " max_pooling2d_2 (MaxPooling  (None, 33, 13, 48)       0         \n",
            " 2D)                                                             \n",
            "                                                                 \n",
            " conv2d_3 (Conv2D)           (None, 33, 13, 48)        20784     \n",
            "                                                                 \n",
            " batch_normalization_3 (Batc  (None, 33, 13, 48)       192       \n",
            " hNormalization)                                                 \n",
            "                                                                 \n",
            " re_lu_3 (ReLU)              (None, 33, 13, 48)        0         \n",
            "                                                                 \n",
            " conv2d_4 (Conv2D)           (None, 33, 13, 48)        20784     \n",
            "                                                                 \n",
            " batch_normalization_4 (Batc  (None, 33, 13, 48)       192       \n",
            " hNormalization)                                                 \n",
            "                                                                 \n",
            " re_lu_4 (ReLU)              (None, 33, 13, 48)        0         \n",
            "                                                                 \n",
            " global_max_pooling2d (Globa  (None, 48)               0         \n",
            " lMaxPooling2D)                                                  \n",
            "                                                                 \n",
            " dropout (Dropout)           (None, 48)                0         \n",
            "                                                                 \n",
            " dense (Dense)               (None, 12)                588       \n",
            "                                                                 \n",
            " dense_1 (Dense)             (None, 12)                156       \n",
            "                                                                 \n",
            "=================================================================\n",
            "Total params: 56,184\n",
            "Trainable params: 55,824\n",
            "Non-trainable params: 360\n",
            "_________________________________________________________________\n"
          ]
        }
      ],
      "source": [
        "# set random seeds for reproducibility\n",
        "np.random.seed(42)\n",
        "from tensorflow.random import set_seed\n",
        "set_seed(42)\n",
        "from tensorflow.keras import layers, models\n",
        "\n",
        "\n",
        "input_shape = (257,97,1)\n",
        "initializer = \"glorot_uniform\" # tf.keras.initializers.RandomNormal(mean=0., stddev=0.5)\n",
        "\n",
        "\n",
        "def my_cnn(n_classes=12):\n",
        "  # TODO: your code here\n",
        "  model = models.Sequential()\n",
        "  model.add(layers.Conv2D(n_classes, (3,3), padding=\"same\", kernel_initializer=initializer, input_shape=input_shape))\n",
        "  model.add(layers.BatchNormalization())\n",
        "  model.add(layers.ReLU())\n",
        "\n",
        "  model.add(layers.MaxPooling2D(pool_size=(3,3), strides= 2, padding=\"same\"))\n",
        "\n",
        "  model.add(layers.Conv2D(2 * n_classes, (3,3), padding=\"same\", kernel_initializer=initializer))\n",
        "  model.add(layers.BatchNormalization())\n",
        "  model.add(layers.ReLU())\n",
        "\n",
        "  model.add(layers.MaxPooling2D(pool_size=(3,3), strides= 2, padding=\"same\"))\n",
        "\n",
        "  model.add(layers.Conv2D(4 * n_classes, (3,3), padding=\"same\", kernel_initializer=initializer))\n",
        "  model.add(layers.BatchNormalization())\n",
        "  model.add(layers.ReLU())\n",
        "\n",
        "  model.add(layers.MaxPooling2D(pool_size=(3,3), strides= 2, padding=\"same\"))\n",
        "\n",
        "  model.add(layers.Conv2D(4 * n_classes, (3,3), padding=\"same\", kernel_initializer=initializer))\n",
        "  model.add(layers.BatchNormalization())\n",
        "  model.add(layers.ReLU())\n",
        "\n",
        "  model.add(layers.Conv2D(4 * n_classes, (3,3), padding=\"same\", kernel_initializer=initializer))\n",
        "  model.add(layers.BatchNormalization())\n",
        "  model.add(layers.ReLU())\n",
        "\n",
        "  model.add(layers.GlobalMaxPooling2D())\n",
        "  model.add(layers.Dropout(rate=0.2))\n",
        "\n",
        "  model.add(layers.Dense(n_classes, kernel_initializer=initializer))\n",
        "\n",
        "  model.add(layers.Dense(n_classes, activation='softmax', kernel_initializer=initializer))\n",
        "\n",
        "  model.compile(optimizer=\"adam\", loss=\"sparse_categorical_crossentropy\", metrics=['accuracy'])\n",
        "  return model\n",
        "\n",
        "model = my_cnn()\n",
        "model.summary()"
      ]
    },
    {
      "cell_type": "markdown",
      "metadata": {
        "id": "oIy_me9h63Om"
      },
      "source": [
        "## Problem 4: Train & Test (25 Points)\n",
        "\n",
        "Let's train and test our model."
      ]
    },
    {
      "cell_type": "markdown",
      "metadata": {
        "id": "Nj9_2AC_9VDl"
      },
      "source": [
        "### 4.1 Training (10 Points)\n",
        "\n",
        "Using Colab's GPU, with batch size 128, each epoch took me ~5 minutes. I was able to reach 90% validation accuracy after a few epochs and 95% after a few more. Your resulting model must reach at least 95% to get full credit, or at least 90% for partial credit. \n",
        "\n",
        "Fit your network to the training data. As a tip, we suggest you checkpoint your model based on validation accuracy. Hint: you might not be able to pass the sets in their current form directly into the fit() function. Be sure to print the validation loss of your resulting model.\n",
        "Then, plot the history of the training process with a curve describing the train loss, a curve describing the validation loss, a title of \"History\", y-axis labeled \"Value\", x-axis labeled \"No. epoch\", and a legend to specify which curve is which."
      ]
    },
    {
      "cell_type": "code",
      "execution_count": 11,
      "metadata": {
        "colab": {
          "base_uri": "https://localhost:8080/"
        },
        "id": "cMZv4v9MhSKU",
        "outputId": "03a92183-bd5b-4fc5-e72d-9f0d148af706"
      },
      "outputs": [
        {
          "name": "stdout",
          "output_type": "stream",
          "text": [
            "Epoch 1/10\n",
            "602/602 [==============================] - 377s 607ms/step - loss: 1.2702 - accuracy: 0.6566 - val_loss: 0.6647 - val_accuracy: 0.7685\n",
            "Epoch 2/10\n",
            "602/602 [==============================] - 375s 621ms/step - loss: 0.5480 - accuracy: 0.8195 - val_loss: 0.3211 - val_accuracy: 0.8996\n",
            "Epoch 3/10\n",
            "602/602 [==============================] - 376s 622ms/step - loss: 0.3798 - accuracy: 0.8761 - val_loss: 0.3586 - val_accuracy: 0.8883\n",
            "Epoch 4/10\n",
            "602/602 [==============================] - 377s 624ms/step - loss: 0.3065 - accuracy: 0.9005 - val_loss: 0.2343 - val_accuracy: 0.9253\n",
            "Epoch 5/10\n",
            "602/602 [==============================] - 378s 625ms/step - loss: 0.2597 - accuracy: 0.9168 - val_loss: 0.2171 - val_accuracy: 0.9315\n",
            "Epoch 6/10\n",
            "602/602 [==============================] - 376s 621ms/step - loss: 0.2260 - accuracy: 0.9276 - val_loss: 0.1716 - val_accuracy: 0.9452\n",
            "Epoch 7/10\n",
            "602/602 [==============================] - 376s 622ms/step - loss: 0.2024 - accuracy: 0.9357 - val_loss: 0.1485 - val_accuracy: 0.9553\n",
            "Epoch 8/10\n",
            "602/602 [==============================] - 375s 620ms/step - loss: 0.1822 - accuracy: 0.9421 - val_loss: 0.1849 - val_accuracy: 0.9445\n",
            "Epoch 9/10\n",
            "602/602 [==============================] - 375s 620ms/step - loss: 0.1736 - accuracy: 0.9439 - val_loss: 0.1744 - val_accuracy: 0.9462\n",
            "Epoch 10/10\n",
            "602/602 [==============================] - 376s 622ms/step - loss: 0.1575 - accuracy: 0.9500 - val_loss: 0.1260 - val_accuracy: 0.9631\n"
          ]
        }
      ],
      "source": [
        "# set random seeds for reproducibility\n",
        "np.random.seed(42)\n",
        "from tensorflow.random import set_seed\n",
        "set_seed(42)\n",
        "from keras.callbacks import ModelCheckpoint\n",
        "\n",
        "# TODO: your code here (model training)\n",
        "checkpoint_filepath = '/tmp/checkpoint/'\n",
        "\n",
        "model_checkpoint_callback = ModelCheckpoint(\n",
        "    filepath=checkpoint_filepath,\n",
        "    save_weights_only=True,\n",
        "    monitor='val_accuracy',\n",
        "    mode='max',\n",
        "    save_best_only=True)\n",
        "\n",
        "bt_nm_train_set = nm_train_set.batch(128)\n",
        "bt_nm_valid_set = nm_valid_set.batch(32)\n",
        "\n",
        "\n",
        "history = model.fit(bt_nm_train_set, epochs=10, validation_data=bt_nm_valid_set)\n"
      ]
    },
    {
      "cell_type": "code",
      "execution_count": 13,
      "metadata": {
        "colab": {
          "base_uri": "https://localhost:8080/",
          "height": 591
        },
        "id": "w31vfSDg0iyG",
        "outputId": "c66772c7-c4d0-4837-cd61-72712376b931"
      },
      "outputs": [
        {
          "data": {
            "text/plain": [
              "<matplotlib.legend.Legend at 0x7f4b7f55dc10>"
            ]
          },
          "execution_count": 13,
          "metadata": {},
          "output_type": "execute_result"
        },
        {
          "data": {
            "image/png": "[encoded data removed]",
            "text/plain": [
              "<Figure size 864x288 with 1 Axes>"
            ]
          },
          "metadata": {
            "needs_background": "light"
          },
          "output_type": "display_data"
        },
        {
          "data": {
            "image/png": "[encoded data removed]",
            "text/plain": [
              "<Figure size 864x288 with 1 Axes>"
            ]
          },
          "metadata": {
            "needs_background": "light"
          },
          "output_type": "display_data"
        }
      ],
      "source": [
        "# TODO: your code here (history plot)\n",
        "\n",
        "fsize = plt.rcParams.get('figure.figsize')\n",
        "\n",
        "ax1,_ = plt.subplots(1, figsize=(fsize[0]*2, fsize[1]))\n",
        "plt.semilogy(history.history['loss'], label = \"train loss\")\n",
        "plt.semilogy(history.history['val_loss'], label= \"validation loss\")\n",
        "plt.xlabel('No. epoch')\n",
        "plt.ylabel('Loss')\n",
        "plt.title('History')\n",
        "plt.legend()\n",
        "\n",
        "ax2,_ = plt.subplots(1, figsize=(fsize[0]*2, fsize[1]))\n",
        "plt.semilogy(history.history['accuracy'], label = \"train acc\")\n",
        "plt.semilogy(history.history['val_accuracy'], label= \"validation acc\")\n",
        "plt.xlabel('No. epoch')\n",
        "plt.ylabel('Accuracy')\n",
        "plt.title('History')\n",
        "plt.legend()"
      ]
    },
    {
      "cell_type": "markdown",
      "metadata": {
        "id": "OpJ1bAcUNSGj"
      },
      "source": [
        "### 4.2 Test (15 Points)\n",
        "Let's see how our model performs on the test set. Use Keras' `evaluate` function to get the test loss and test accuracy, and plot the confusion matrix. Your test accuracy must be at least 90% to get full credit and the confusion matrix should have the features shown in the image below, namely the axis labels, ticks, values which are normalized (do not need to be the same values), and a color bar:\n",
        "<center>\n",
        "<img src=\"https://drive.google.com/thumbnail?id=12aSyDa53eBT-os4EJYFYGtwYXo6vy-ib&sz=w700\" alt=\"wave\"/>\n",
        "<br>\n",
        "</center>"
      ]
    },
    {
      "cell_type": "code",
      "execution_count": 36,
      "metadata": {
        "colab": {
          "base_uri": "https://localhost:8080/",
          "height": 868
        },
        "id": "tPcUK_F05K3b",
        "outputId": "d75a4f52-fc89-4421-f3ce-4dfc9b156dd8"
      },
      "outputs": [
        {
          "data": {
            "text/plain": [
              "<sklearn.metrics._plot.confusion_matrix.ConfusionMatrixDisplay at 0x7f4b7c403a10>"
            ]
          },
          "execution_count": 36,
          "metadata": {},
          "output_type": "execute_result"
        },
        {
          "data": {
            "image/png": "[encoded data removed]",
            "text/plain": [
              "<Figure size 432x288 with 2 Axes>"
            ]
          },
          "metadata": {
            "needs_background": "light"
          },
          "output_type": "display_data"
        },
        {
          "data": {
            "image/png": "[encoded data removed]",
            "text/plain": [
              "<Figure size 720x720 with 2 Axes>"
            ]
          },
          "metadata": {
            "needs_background": "light"
          },
          "output_type": "display_data"
        }
      ],
      "source": [
        "class_names = ['down', 'go', 'left', 'no', 'off', 'on', 'right', 'stop', 'up',\n",
        "               'yes','unknown', 'silence']\n",
        "\n",
        "# TODO: your code here (Keras evaluation)\n",
        "# model.evaluate(nm_test_set.batch(8))\n",
        "\n",
        "# TODO: your code here (confusion matrix)\n",
        "from sklearn.metrics import confusion_matrix, plot_confusion_matrix, ConfusionMatrixDisplay\n",
        "import pandas as pd\n",
        "import seaborn as sns\n",
        "\n",
        "true_test_label = np.array([label for signal, label in nm_test_set])\n",
        "predictions = model.predict(nm_test_set.batch(32))\n",
        "\n",
        "predict_test_label = np.array([np.argmax(p) for p in predictions])\n",
        "\n",
        "disp = ConfusionMatrixDisplay.from_predictions(true_test_label, predict_test_label, display_labels=class_names, normalize='true')\n",
        "fig, ax = plt.subplots(figsize=(10,10))\n",
        "disp.plot(ax=ax)\n"
      ]
    },
    {
      "cell_type": "markdown",
      "metadata": {
        "id": "dbg37gkl2Nl9"
      },
      "source": [
        "### 4.3 Fun Test (Ungraded)\n",
        "\n",
        "Let's use the Web Audio API to see if our model can predict correctly when listening to our own voice. Run the cell below to record a 1-second recording of yourself saying one of the target words (e.g. \"up\", \"down\", etc.). Listen to the result to ensure that the recording is good (try speaking right after \"Recording...\" appears). Then, run the next cell to see if your model predicted correctly."
      ]
    },
    {
      "cell_type": "code",
      "execution_count": 75,
      "metadata": {
        "colab": {
          "base_uri": "https://localhost:8080/",
          "height": 136
        },
        "id": "3Bk8GQD73CYe",
        "outputId": "b553fd4c-ec99-44e0-b747-3506410213c8"
      },
      "outputs": [
        {
          "name": "stdout",
          "output_type": "stream",
          "text": [
            "Recording...\n"
          ]
        },
        {
          "data": {
            "application/javascript": "\nconst sleep  = time => new Promise(resolve => setTimeout(resolve, time))\nconst b2text = blob => new Promise(resolve => {\n  const reader = new FileReader()\n  reader.onloadend = e => resolve(e.srcElement.result)\n  reader.readAsDataURL(blob)\n})\nvar record = time => new Promise(async resolve => {\n  stream = await navigator.mediaDevices.getUserMedia({ audio: true })\n  recorder = new MediaRecorder(stream)\n  chunks = []\n  recorder.ondataavailable = e => chunks.push(e.data)\n  recorder.start()\n  await sleep(time)\n  recorder.onstop = async ()=>{\n    blob = new Blob(chunks)\n    text = await b2text(blob)\n    resolve(text)\n  }\n  recorder.stop()\n})\n",
            "text/plain": [
              "<IPython.core.display.Javascript object>"
            ]
          },
          "metadata": {},
          "output_type": "display_data"
        },
        {
          "name": "stdout",
          "output_type": "stream",
          "text": [
            "Done.\n"
          ]
        },
        {
          "name": "stderr",
          "output_type": "stream",
          "text": [
            "/usr/local/lib/python3.7/dist-packages/librosa/core/audio.py:165: UserWarning: PySoundFile failed. Trying audioread instead.\n",
            "  warnings.warn(\"PySoundFile failed. Trying audioread instead.\")\n"
          ]
        },
        {
          "data": {
            "text/html": [
              "\n",
              "                <audio controls=\"controls\" >\n",
              "                    <source src=\"data:audio/wav;base64,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\" type=\"audio/wav\" />\n",
              "                    Your browser does not support the audio element.\n",
              "                </audio>\n",
              "              "
            ],
            "text/plain": [
              "<IPython.lib.display.Audio object>"
            ]
          },
          "metadata": {},
          "output_type": "display_data"
        }
      ],
      "source": [
        "from IPython.display import Javascript\n",
        "from google.colab import output\n",
        "from base64 import b64decode\n",
        "\n",
        "RECORD = \"\"\"\n",
        "const sleep  = time => new Promise(resolve => setTimeout(resolve, time))\n",
        "const b2text = blob => new Promise(resolve => {\n",
        "  const reader = new FileReader()\n",
        "  reader.onloadend = e => resolve(e.srcElement.result)\n",
        "  reader.readAsDataURL(blob)\n",
        "})\n",
        "var record = time => new Promise(async resolve => {\n",
        "  stream = await navigator.mediaDevices.getUserMedia({ audio: true })\n",
        "  recorder = new MediaRecorder(stream)\n",
        "  chunks = []\n",
        "  recorder.ondataavailable = e => chunks.push(e.data)\n",
        "  recorder.start()\n",
        "  await sleep(time)\n",
        "  recorder.onstop = async ()=>{\n",
        "    blob = new Blob(chunks)\n",
        "    text = await b2text(blob)\n",
        "    resolve(text)\n",
        "  }\n",
        "  recorder.stop()\n",
        "})\n",
        "\"\"\"\n",
        "\n",
        "def record(sec=1.1):\n",
        "  print('Recording...')\n",
        "  display.display(Javascript(RECORD))\n",
        "  s = output.eval_js('record(%d)' % (sec*1000))\n",
        "  b = b64decode(s.split(',')[1])\n",
        "  fp = 'my_rec.wav'\n",
        "  with open(fp,'wb') as f:\n",
        "    f.write(b)\n",
        "  print('Done.')\n",
        "  return fp\n",
        "\n",
        "fp = record()\n",
        "signal, sr = librosa.load(fp, sr=16000)\n",
        "signal = signal[-sr:]\n",
        "display.display(Audio(signal, rate=sr))"
      ]
    },
    {
      "cell_type": "markdown",
      "metadata": {
        "id": "c9HhW3_uhBZI"
      },
      "source": [
        "If your recording sounds reasonable, run the next cell to see if the model recognizes your speech!"
      ]
    },
    {
      "cell_type": "code",
      "execution_count": 76,
      "metadata": {
        "colab": {
          "base_uri": "https://localhost:8080/"
        },
        "id": "EbT-70335eAM",
        "outputId": "fc546f49-10ae-4338-aec5-18ed93640e28"
      },
      "outputs": [
        {
          "name": "stdout",
          "output_type": "stream",
          "text": [
            "You said silence\n"
          ]
        }
      ],
      "source": [
        "# predict a single recording\n",
        "spec = normalize(get_db_spec(signal))\n",
        "one_hot_pred = model.predict(np.array([spec]))\n",
        "pred_to_text = class_names[np.argmax(one_hot_pred)]\n",
        "print('You said', pred_to_text)"
      ]
    },
    {
      "cell_type": "markdown",
      "metadata": {
        "id": "tm5I7xr7DZkR"
      },
      "source": [
        "# **Part 2: Computer Vision (Image Classification on CIFAR-10)**\n",
        "\n",
        "In this section, we will explore implementing and improving upon some simple convolutional networks to perform image recognition on the [CIFAR-10](https://www.cs.toronto.edu/~kriz/cifar.html) dataset. This dataset consists of $32 \\times 32$ RGB images of objects from 10 classes: `airplane`, `automobile`, `bird`, `cat`, `deer`, `dog`, `frog`, `horse`, `ship`, and `truck`.\n",
        "\n",
        "We'll be using Colab's GPU to expedite our training, so before we get started, navigate to `Runtime>Change runtime type` and make sure you have GPU selected.\n",
        "\n",
        "<center>\n",
        "<img src=\"https://drive.google.com/thumbnail?id=1wgoaxYIpKCq9Ihu7rfrursmsFgz318HN&sz=w600\" alt=\"block_cnn\"/>\n",
        "<br>\n",
        "<i>The CIFAR-10 Dataset: 10 random images from each class.</i>\n",
        "</center>"
      ]
    },
    {
      "cell_type": "markdown",
      "metadata": {
        "id": "J_ZgU9P4X_5K"
      },
      "source": [
        "### **Imports and Data Preparation**\n",
        "\n",
        "Now, let's load and format the dataset, which is conveniently available directly from Keras, whilst importing any packages we might need."
      ]
    },
    {
      "cell_type": "code",
      "execution_count": 77,
      "metadata": {
        "colab": {
          "base_uri": "https://localhost:8080/"
        },
        "id": "Qk3s70lsEHr4",
        "outputId": "9ec4f2d3-3f86-4507-a5d3-2f41afa83a97"
      },
      "outputs": [
        {
          "name": "stdout",
          "output_type": "stream",
          "text": [
            "Downloading data from https://www.cs.toronto.edu/~kriz/cifar-10-python.tar.gz\n",
            "170500096/170498071 [==============================] - 3s 0us/step\n",
            "170508288/170498071 [==============================] - 3s 0us/step\n"
          ]
        }
      ],
      "source": [
        "# DO NOT MODIFY THIS CELL\n",
        "import numpy as np\n",
        "import tensorflow as tf\n",
        "from tensorflow import keras\n",
        "import imgaug as ia\n",
        "from imgaug import augmenters as iaa\n",
        "import matplotlib\n",
        "import matplotlib.pyplot as plt\n",
        "\n",
        "classes = np.array(['airplane', 'automobile', 'bird', 'cat', 'deer', 'dog',\n",
        "                    'frog', 'horse', 'ship', 'truck'])\n",
        "(train, test) = keras.datasets.cifar10.load_data()\n",
        "\n",
        "# convert uint8 RGB images to float RGB images in range [0,1]\n",
        "train_input = train[0].astype(np.float32) / 255.0\n",
        "test_input = test[0].astype(np.float32) / 255.0\n",
        "# convert class labels to one-hot encoding\n",
        "train_targets = keras.utils.to_categorical(train[1], num_classes=10)\n",
        "test_targets = keras.utils.to_categorical(test[1], num_classes=10)"
      ]
    },
    {
      "cell_type": "markdown",
      "metadata": {
        "id": "noBuJ-fIZJ0m"
      },
      "source": [
        "### **Problem 1: Building a Simple Model (5 Points)**\n",
        "\n",
        "Let's start with a fairly barebones CNN architecture to tackle this learning problem, and dub it \"model 1\". The architecture details are displayed below.\n",
        "\n",
        "$$\n",
        "\\begin{array}{c|c|c}\n",
        "\\text{Layer Type} & \\text{Activation} & \\text{Output Shape} \\\\\n",
        "\\hline\n",
        "\\text{Input} & \\text{N/A} & (32,32,3) \\\\\n",
        "\\text{Conv2D} & \\text{ReLU} & (32,32,8) \\\\\n",
        "\\text{MaxPool2D} & \\text{N/A} & (16,16,8) \\\\\n",
        "\\text{Conv2D} & \\text{ReLU} & (16,16,16) \\\\\n",
        "\\text{MaxPool2D} & \\text{N/A} & (8,8,16) \\\\\n",
        "\\text{Flatten} & \\text{N/A} & (1024,) \\\\\n",
        "\\text{Dense} & \\text{Softmax*} & (10,)\n",
        "\\end{array}\n",
        "$$\n",
        "\n",
        "$\\text{*}$ omit this activation; we'll use a more numerically stable training method that already has this in the loss function.\n",
        "\n",
        "All convolutional filters have $3 \\times 3$ spatial size, and all max pooling is done over a $2 \\times 2$ grid in the spatial dimensions. We always use `same` padding to preserve the spatial dimensions. All trainable layers learn both weights and biases. The batch dimension has been omitted from the \"$\\text{Output Shape}$\" column."
      ]
    },
    {
      "cell_type": "markdown",
      "metadata": {
        "id": "EaQc01c1avts"
      },
      "source": [
        "#### **1.1 Implementation (5 Points)**\n",
        "\n",
        "Implement the above architecture using the Keras API in the function **`model_1`** provided below, which should simply create a Keras model and return it. For weight initialization, pick an appropriate initializer for the layer's activation function. Don't worry about compiling the model; we'll do that later."
      ]
    },
    {
      "cell_type": "code",
      "execution_count": 93,
      "metadata": {
        "id": "5yvYErv5G6vZ"
      },
      "outputs": [],
      "source": [
        "initializer = \"glorot_uniform\" #tf.keras.initializers.RandomNormal(mean=0., stddev=1)\n",
        "\n",
        "def model_1():\n",
        "  model = models.Sequential()\n",
        "  model.add(layers.Conv2D(8, (3,3), padding=\"same\", activation='relu', use_bias=True, kernel_initializer=initializer, input_shape=(32,32,3)))\n",
        "  model.add(layers.MaxPooling2D(pool_size=(2,2), strides=2, padding=\"same\"))\n",
        "  model.add(layers.Conv2D(16, (3,3), padding=\"same\", activation='relu', use_bias=True, kernel_initializer=initializer))\n",
        "  model.add(layers.MaxPooling2D(pool_size=(2,2), strides=2, padding=\"same\"))\n",
        "  model.add(layers.Flatten())\n",
        "  model.add(layers.Dense(10, use_bias=True, kernel_initializer=initializer))\n",
        "  return model\n"
      ]
    },
    {
      "cell_type": "markdown",
      "metadata": {
        "id": "452RUo92HS2M"
      },
      "source": [
        "As a sanity check, let's visualize the implemented model, to confirm that it matches the description above (and that the model can be created without error). Note: the question mark you'll see in each shape, e.g. (?, 32, ...), is simply a placeholder for the amount of training data."
      ]
    },
    {
      "cell_type": "code",
      "execution_count": 94,
      "metadata": {
        "colab": {
          "base_uri": "https://localhost:8080/",
          "height": 754
        },
        "id": "mExOH-YpIenh",
        "outputId": "b661a3d3-a170-4704-dd4b-2a10e36dfd8d"
      },
      "outputs": [
        {
          "data": {
            "image/png": "[encoded data removed]",
            "text/plain": [
              "<IPython.core.display.Image object>"
            ]
          },
          "execution_count": 94,
          "metadata": {},
          "output_type": "execute_result"
        }
      ],
      "source": [
        "# DO NOT MODIFY THIS CELL\n",
        "keras.utils.plot_model(model_1(), show_shapes=True, show_layer_names=False)"
      ]
    },
    {
      "cell_type": "markdown",
      "metadata": {
        "id": "NhdW7nxHKOuC"
      },
      "source": [
        "### **Problem 2: Building a More Complex Model (5 Points)**\n",
        "\n",
        "Next, let's also create a similar, but more complex model that we'll call \"model 2\". Its architecture is displayed below.\n",
        "\n",
        "$$\n",
        "\\begin{array}{c|c|c}\n",
        "\\text{Layer Type} & \\text{Activation} & \\text{Output Shape} \\\\\n",
        "\\hline\n",
        "\\text{Input} & \\text{N/A} & (32,32,3) \\\\\n",
        "\\text{Conv2D} & \\text{ReLU} & (32,32,64) \\\\\n",
        "\\text{Conv2D} & \\text{ReLU} & (32,32,64) \\\\\n",
        "\\text{MaxPool2D} & \\text{N/A} & (16,16,64) \\\\\n",
        "\\text{Conv2D} & \\text{ReLU} & (16,16,128) \\\\\n",
        "\\text{Conv2D} & \\text{ReLU} & (16,16,128) \\\\\n",
        "\\text{MaxPool2D} & \\text{N/A} & (8,8,128) \\\\\n",
        "\\text{Conv2D} & \\text{ReLU} & (8,8,192) \\\\\n",
        "\\text{Conv2D} & \\text{ReLU} & (8,8,192) \\\\\n",
        "\\text{MaxPool2D} & \\text{N/A} & (4,4,192) \\\\\n",
        "\\text{Conv2D} & \\text{ReLU} & (4,4,256) \\\\\n",
        "\\text{Conv2D} & \\text{ReLU} & (4,4,256) \\\\\n",
        "\\text{MaxPool2D} & \\text{N/A} & (2,2,256) \\\\\n",
        "\\text{Flatten} & \\text{N/A} & (1024,) \\\\\n",
        "\\text{Dense} & \\text{ReLU} & (512,) \\\\\n",
        "\\text{Dense} & \\text{Softmax*} & (10,)\n",
        "\\end{array}\n",
        "$$\n",
        "\n",
        "$\\text{*}$ as with model 1, omit this activation.\n",
        "\n",
        "The filter and padding details for the layers are the same as in model 1."
      ]
    },
    {
      "cell_type": "markdown",
      "metadata": {
        "id": "2_yAslRlarTN"
      },
      "source": [
        "#### **2.1 Implementation (5 Points)**\n",
        "\n",
        "Just like you did with model 1, implement model 2 in the function **`model_2`** provided below."
      ]
    },
    {
      "cell_type": "code",
      "execution_count": 95,
      "metadata": {
        "id": "Oi6a4KpskLqY"
      },
      "outputs": [],
      "source": [
        "def model_2():\n",
        "  model = models.Sequential()\n",
        "  model.add(layers.Conv2D(64, (3,3), padding=\"same\", activation='relu', use_bias=True, kernel_initializer=initializer, input_shape=(32,32,3)))\n",
        "  model.add(layers.Conv2D(64, (3,3), padding=\"same\", activation='relu', use_bias=True, kernel_initializer=initializer))\n",
        "  model.add(layers.MaxPooling2D(pool_size=(2,2), strides=2, padding=\"same\"))\n",
        "  model.add(layers.Conv2D(128, (3,3), padding=\"same\", activation='relu', use_bias=True, kernel_initializer=initializer))\n",
        "  model.add(layers.Conv2D(128, (3,3), padding=\"same\", activation='relu', use_bias=True, kernel_initializer=initializer))\n",
        "  model.add(layers.MaxPooling2D(pool_size=(2,2), strides=2, padding=\"same\"))\n",
        "  model.add(layers.Conv2D(192, (3,3), padding=\"same\", activation='relu', use_bias=True, kernel_initializer=initializer))\n",
        "  model.add(layers.Conv2D(192, (3,3), padding=\"same\", activation='relu', use_bias=True, kernel_initializer=initializer))\n",
        "  model.add(layers.MaxPooling2D(pool_size=(2,2), strides=2, padding=\"same\"))\n",
        "  model.add(layers.Conv2D(256, (3,3), padding=\"same\", activation='relu', use_bias=True, kernel_initializer=initializer))\n",
        "  model.add(layers.Conv2D(256, (3,3), padding=\"same\", activation='relu', use_bias=True, kernel_initializer=initializer))\n",
        "  model.add(layers.MaxPooling2D(pool_size=(2,2), strides=2, padding=\"same\"))\n",
        "  model.add(layers.Flatten())\n",
        "  model.add(layers.Dense(512, activation='relu', use_bias=True, kernel_initializer=initializer))\n",
        "  model.add(layers.Dense(10, use_bias=True, kernel_initializer=initializer))\n",
        "  return model\n"
      ]
    },
    {
      "cell_type": "markdown",
      "metadata": {
        "id": "NEYSDDFbLlQk"
      },
      "source": [
        "Again, let's visualize this one, too."
      ]
    },
    {
      "cell_type": "code",
      "execution_count": 96,
      "metadata": {
        "colab": {
          "base_uri": "https://localhost:8080/",
          "height": 1000
        },
        "id": "nuoYjuJBLom-",
        "outputId": "fda3570c-c419-4d74-bc03-92f461fc36da"
      },
      "outputs": [
        {
          "data": {
            "image/png": "[encoded data removed]",
            "text/plain": [
              "<IPython.core.display.Image object>"
            ]
          },
          "execution_count": 96,
          "metadata": {},
          "output_type": "execute_result"
        }
      ],
      "source": [
        "# DO NOT MODIFY THIS CELL\n",
        "keras.utils.plot_model(model_2(), show_shapes=True, show_layer_names=False)"
      ]
    },
    {
      "cell_type": "markdown",
      "metadata": {
        "id": "SlirazgoLyX4"
      },
      "source": [
        "### **Problem 3: Training experiments (10 Points)**\n",
        "\n",
        "To get a sense of how these models perform on our dataset without taking much training time, let's see how the loss and accuracy of each model evolves during the first ten training epochs. Although each image in the dataset is small, there are 50,000 training examples, so this may take a minute or two."
      ]
    },
    {
      "cell_type": "code",
      "execution_count": 97,
      "metadata": {
        "colab": {
          "base_uri": "https://localhost:8080/",
          "height": 1000
        },
        "id": "rvfmVPurA-6V",
        "outputId": "b8278544-6abb-48ef-816b-1f4d3fd626ca"
      },
      "outputs": [
        {
          "name": "stdout",
          "output_type": "stream",
          "text": [
            "Epoch 1/10\n",
            "500/500 - 5s - loss: 1.7053 - categorical_accuracy: 0.3983 - val_loss: 1.4774 - val_categorical_accuracy: 0.4739 - 5s/epoch - 10ms/step\n",
            "Epoch 2/10\n",
            "500/500 - 3s - loss: 1.4215 - categorical_accuracy: 0.4990 - val_loss: 1.3523 - val_categorical_accuracy: 0.5242 - 3s/epoch - 7ms/step\n",
            "Epoch 3/10\n",
            "500/500 - 3s - loss: 1.3235 - categorical_accuracy: 0.5360 - val_loss: 1.2897 - val_categorical_accuracy: 0.5477 - 3s/epoch - 7ms/step\n",
            "Epoch 4/10\n",
            "500/500 - 3s - loss: 1.2568 - categorical_accuracy: 0.5616 - val_loss: 1.2438 - val_categorical_accuracy: 0.5606 - 3s/epoch - 7ms/step\n",
            "Epoch 5/10\n",
            "500/500 - 3s - loss: 1.2032 - categorical_accuracy: 0.5819 - val_loss: 1.2312 - val_categorical_accuracy: 0.5664 - 3s/epoch - 7ms/step\n",
            "Epoch 6/10\n",
            "500/500 - 4s - loss: 1.1629 - categorical_accuracy: 0.5970 - val_loss: 1.1697 - val_categorical_accuracy: 0.5931 - 4s/epoch - 7ms/step\n",
            "Epoch 7/10\n",
            "500/500 - 4s - loss: 1.1287 - categorical_accuracy: 0.6072 - val_loss: 1.1393 - val_categorical_accuracy: 0.6024 - 4s/epoch - 7ms/step\n",
            "Epoch 8/10\n",
            "500/500 - 4s - loss: 1.0991 - categorical_accuracy: 0.6196 - val_loss: 1.1157 - val_categorical_accuracy: 0.6152 - 4s/epoch - 9ms/step\n",
            "Epoch 9/10\n",
            "500/500 - 4s - loss: 1.0731 - categorical_accuracy: 0.6292 - val_loss: 1.1139 - val_categorical_accuracy: 0.6154 - 4s/epoch - 8ms/step\n",
            "Epoch 10/10\n",
            "500/500 - 4s - loss: 1.0533 - categorical_accuracy: 0.6356 - val_loss: 1.0878 - val_categorical_accuracy: 0.6202 - 4s/epoch - 8ms/step\n",
            "Epoch 1/10\n",
            "500/500 - 31s - loss: 1.9582 - categorical_accuracy: 0.2519 - val_loss: 1.5105 - val_categorical_accuracy: 0.4381 - 31s/epoch - 61ms/step\n",
            "Epoch 2/10\n",
            "500/500 - 28s - loss: 1.3660 - categorical_accuracy: 0.5003 - val_loss: 1.1023 - val_categorical_accuracy: 0.6074 - 28s/epoch - 56ms/step\n",
            "Epoch 3/10\n",
            "500/500 - 28s - loss: 1.0079 - categorical_accuracy: 0.6394 - val_loss: 0.9208 - val_categorical_accuracy: 0.6734 - 28s/epoch - 56ms/step\n",
            "Epoch 4/10\n",
            "500/500 - 28s - loss: 0.7790 - categorical_accuracy: 0.7252 - val_loss: 0.8021 - val_categorical_accuracy: 0.7244 - 28s/epoch - 56ms/step\n",
            "Epoch 5/10\n",
            "500/500 - 29s - loss: 0.6111 - categorical_accuracy: 0.7854 - val_loss: 0.6978 - val_categorical_accuracy: 0.7616 - 29s/epoch - 58ms/step\n",
            "Epoch 6/10\n",
            "500/500 - 30s - loss: 0.4889 - categorical_accuracy: 0.8290 - val_loss: 0.7329 - val_categorical_accuracy: 0.7644 - 30s/epoch - 60ms/step\n",
            "Epoch 7/10\n",
            "500/500 - 29s - loss: 0.3833 - categorical_accuracy: 0.8628 - val_loss: 0.7004 - val_categorical_accuracy: 0.7747 - 29s/epoch - 58ms/step\n",
            "Epoch 8/10\n",
            "500/500 - 29s - loss: 0.2969 - categorical_accuracy: 0.8942 - val_loss: 0.7567 - val_categorical_accuracy: 0.7733 - 29s/epoch - 58ms/step\n",
            "Epoch 9/10\n",
            "500/500 - 30s - loss: 0.2363 - categorical_accuracy: 0.9167 - val_loss: 0.7759 - val_categorical_accuracy: 0.7787 - 30s/epoch - 60ms/step\n",
            "Epoch 10/10\n",
            "500/500 - 30s - loss: 0.1854 - categorical_accuracy: 0.9343 - val_loss: 0.9137 - val_categorical_accuracy: 0.7603 - 30s/epoch - 59ms/step\n"
          ]
        },
        {
          "data": {
            "image/png": "[encoded data removed]",
            "text/plain": [
              "<Figure size 864x288 with 2 Axes>"
            ]
          },
          "metadata": {
            "needs_background": "light"
          },
          "output_type": "display_data"
        },
        {
          "data": {
            "image/png": "[encoded data removed]",
            "text/plain": [
              "<Figure size 864x288 with 2 Axes>"
            ]
          },
          "metadata": {
            "needs_background": "light"
          },
          "output_type": "display_data"
        }
      ],
      "source": [
        "# DO NOT MODIFY THIS CELL\n",
        "# get the models\n",
        "m1 = model_1()\n",
        "m2 = model_2()\n",
        "hist = []\n",
        "for (m_i, model) in enumerate([m1, m2]):\n",
        "  opt = keras.optimizers.Nadam() # optimizer\n",
        "  loss = keras.losses.CategoricalCrossentropy(from_logits=True) # loss function\n",
        "  # compile and train, saving the training history (contains losses and metrics)\n",
        "  model.compile(optimizer=opt, loss=loss, metrics=['categorical_accuracy'])\n",
        "  hist.append(model.fit(x=train_input, y=train_targets,\n",
        "                        validation_data=(test_input, test_targets),\n",
        "                        batch_size=100, epochs=10, verbose=2))\n",
        "# generate loss plots\n",
        "fsize = plt.rcParams.get('figure.figsize') # the default figure size for scaling purposes\n",
        "# create the plots side-by-side w/ locked y-axis for better comparison\n",
        "num_plots = len(hist)\n",
        "_, axarr = plt.subplots(1, num_plots, figsize=(fsize[0]*num_plots, fsize[1]), sharey=True)\n",
        "for (m_i, hist_i) in enumerate(hist):\n",
        "  axarr[m_i].semilogy(hist_i.history['loss'], label='model {:d} train loss'.format(m_i + 1))\n",
        "  axarr[m_i].semilogy(hist_i.history['val_loss'], label='model {:d} test loss'.format(m_i + 1))\n",
        "  axarr[m_i].set_xlabel('epoch')\n",
        "  axarr[m_i].set_ylabel('loss')\n",
        "  axarr[m_i].set_title('model {:d} loss'.format(m_i + 1))\n",
        "  axarr[m_i].legend()\n",
        "plt.tight_layout()\n",
        "# generate accuracy plots (pretty much same procedure as with loss plots)\n",
        "_, axarr = plt.subplots(1, num_plots, figsize=(fsize[0]*num_plots, fsize[1]), sharey=True)\n",
        "for (m_i, hist_i) in enumerate(hist):\n",
        "  axarr[m_i].plot(hist_i.history['categorical_accuracy'], label='model {:d} train acc'.format(m_i + 1))\n",
        "  axarr[m_i].plot(hist_i.history['val_categorical_accuracy'], label='model {:d} test acc'.format(m_i + 1))\n",
        "  axarr[m_i].set_xlabel('epoch')\n",
        "  axarr[m_i].set_ylabel('accuracy')\n",
        "  axarr[m_i].set_title('model {:d} accuracy'.format(m_i + 1))\n",
        "  axarr[m_i].legend()\n",
        "plt.tight_layout()"
      ]
    },
    {
      "cell_type": "markdown",
      "metadata": {
        "id": "g6bT_GfyRkIV"
      },
      "source": [
        "To get some numbers, let's also print out the best test accuracies for the models."
      ]
    },
    {
      "cell_type": "code",
      "execution_count": 98,
      "metadata": {
        "colab": {
          "base_uri": "https://localhost:8080/"
        },
        "id": "gt4FbZiWRpJa",
        "outputId": "67841685-dbe4-4b66-bada-8c58a57500c8"
      },
      "outputs": [
        {
          "name": "stdout",
          "output_type": "stream",
          "text": [
            "best test acc:\n",
            "model 1: 62.019998%\n",
            "model 2: 77.869999%\n"
          ]
        }
      ],
      "source": [
        "# DO NOT MODIFY THIS CELL\n",
        "print(\"best test acc:\")\n",
        "for (m_i, hist_i) in enumerate(hist):\n",
        "  print(\"model {:d}: {:f}%\".format(m_i + 1, max(hist_i.history['val_categorical_accuracy']) * 100.0))"
      ]
    },
    {
      "cell_type": "markdown",
      "metadata": {
        "id": "7YWT2aRxMdSl"
      },
      "source": [
        "#### **3.1 Analysis (10 Points)**\n",
        "\n",
        "If you implemented the models correctly, your plots will look similar to the plots we got:\n",
        "\n",
        "<center>\n",
        "<img src=\"https://drive.google.com/thumbnail?id=10cAw3ftiegoWkPExynOrK_21uhZl68eF&sz=w800\" alt=\"wave\"/>\n",
        "<br>\n",
        "</center>\n",
        "\n",
        "Also, here's the output we got when printing the best test accuracies for the models:\n",
        "```\n",
        "best test acc:\n",
        "model 1: 62.760001%\n",
        "model 2: 78.359997%\n",
        "```\n",
        "\n",
        "How well does each model fit to the training and test sets? How well do they perform relative to each other?  Why do you think our models behave this way?"
      ]
    },
    {
      "cell_type": "markdown",
      "metadata": {
        "id": "SV3M31NNM-wn"
      },
      "source": [
        "***your answer here***\n",
        "\n",
        "While both models have accuracies more than 0.5, model 2 are more accurate than model 1, with 78.52% comparing to 62.8% accuracy. I think the reason for model 2 to outperform model 1 is that model 2 is more complex that it is capable of detect more complex features that are needed to classify the images accurately."
      ]
    }
  ],
  "metadata": {
    "accelerator": "GPU",
    "colab": {
      "collapsed_sections": [],
      "name": "Copy of PS8 (CLEAN)",
      "provenance": []
    },
    "kernelspec": {
      "display_name": "Python 3.9.12 ('base')",
      "language": "python",
      "name": "python3"
    },
    "language_info": {
      "name": "python",
      "version": "3.9.12"
    },
    "vscode": {
      "interpreter": {
        "hash": "eae027d4094cd95e753a220d0e6d973638ae808347f54666f2fc9b45a3b1e99c"
      }
    },
    "widgets": {
      "application/vnd.jupyter.widget-state+json": {
        "0beb03eb1c024e3ebf268528bf010817": {
          "model_module": "@jupyter-widgets/base",
          "model_module_version": "1.2.0",
          "model_name": "LayoutModel",
          "state": {
            "_model_module": "@jupyter-widgets/base",
            "_model_module_version": "1.2.0",
            "_model_name": "LayoutModel",
            "_view_count": null,
            "_view_module": "@jupyter-widgets/base",
            "_view_module_version": "1.2.0",
            "_view_name": "LayoutView",
            "align_content": null,
            "align_items": null,
            "align_self": null,
            "border": null,
            "bottom": null,
            "display": null,
            "flex": null,
            "flex_flow": null,
            "grid_area": null,
            "grid_auto_columns": null,
            "grid_auto_flow": null,
            "grid_auto_rows": null,
            "grid_column": null,
            "grid_gap": null,
            "grid_row": null,
            "grid_template_areas": null,
            "grid_template_columns": null,
            "grid_template_rows": null,
            "height": null,
            "justify_content": null,
            "justify_items": null,
            "left": null,
            "margin": null,
            "max_height": null,
            "max_width": null,
            "min_height": null,
            "min_width": null,
            "object_fit": null,
            "object_position": null,
            "order": null,
            "overflow": null,
            "overflow_x": null,
            "overflow_y": null,
            "padding": null,
            "right": null,
            "top": null,
            "visibility": null,
            "width": null
          }
        },
        "0c55f3f4923842b7926ed2cc3af72235": {
          "model_module": "@jupyter-widgets/controls",
          "model_module_version": "1.5.0",
          "model_name": "HBoxModel",
          "state": {
            "_dom_classes": [],
            "_model_module": "@jupyter-widgets/controls",
            "_model_module_version": "1.5.0",
            "_model_name": "HBoxModel",
            "_view_count": null,
            "_view_module": "@jupyter-widgets/controls",
            "_view_module_version": "1.5.0",
            "_view_name": "HBoxView",
            "box_style": "",
            "children": [
              "IPY_MODEL_9d2c76d02a484026b384be01f11e7995",
              "IPY_MODEL_85809d2a49ee45b295af39df1b5151be",
              "IPY_MODEL_86072bc9485742af8d9312b70ded6dfa"
            ],
            "layout": "IPY_MODEL_af78d825916247829720734100d7725c"
          }
        },
        "0d378615715a4dbbbdb51a469ab793dd": {
          "model_module": "@jupyter-widgets/controls",
          "model_module_version": "1.5.0",
          "model_name": "HBoxModel",
          "state": {
            "_dom_classes": [],
            "_model_module": "@jupyter-widgets/controls",
            "_model_module_version": "1.5.0",
            "_model_name": "HBoxModel",
            "_view_count": null,
            "_view_module": "@jupyter-widgets/controls",
            "_view_module_version": "1.5.0",
            "_view_name": "HBoxView",
            "box_style": "",
            "children": [
              "IPY_MODEL_f9a4282b44444462a37f8518e5e243a1",
              "IPY_MODEL_b37b92085f164f3aa4814b2a9ff552fe",
              "IPY_MODEL_d0e7a89fedf84e26b78c0c2cc205bb4f"
            ],
            "layout": "IPY_MODEL_6ab6204202c64d6a9838285f31f71a0a"
          }
        },
        "0dbb53cc04774074b2312c7008596272": {
          "model_module": "@jupyter-widgets/controls",
          "model_module_version": "1.5.0",
          "model_name": "ProgressStyleModel",
          "state": {
            "_model_module": "@jupyter-widgets/controls",
            "_model_module_version": "1.5.0",
            "_model_name": "ProgressStyleModel",
            "_view_count": null,
            "_view_module": "@jupyter-widgets/base",
            "_view_module_version": "1.2.0",
            "_view_name": "StyleView",
            "bar_color": null,
            "description_width": ""
          }
        },
        "12c309c1d5e746cbba9b73b186fa4709": {
          "model_module": "@jupyter-widgets/base",
          "model_module_version": "1.2.0",
          "model_name": "LayoutModel",
          "state": {
            "_model_module": "@jupyter-widgets/base",
            "_model_module_version": "1.2.0",
            "_model_name": "LayoutModel",
            "_view_count": null,
            "_view_module": "@jupyter-widgets/base",
            "_view_module_version": "1.2.0",
            "_view_name": "LayoutView",
            "align_content": null,
            "align_items": null,
            "align_self": null,
            "border": null,
            "bottom": null,
            "display": null,
            "flex": null,
            "flex_flow": null,
            "grid_area": null,
            "grid_auto_columns": null,
            "grid_auto_flow": null,
            "grid_auto_rows": null,
            "grid_column": null,
            "grid_gap": null,
            "grid_row": null,
            "grid_template_areas": null,
            "grid_template_columns": null,
            "grid_template_rows": null,
            "height": null,
            "justify_content": null,
            "justify_items": null,
            "left": null,
            "margin": null,
            "max_height": null,
            "max_width": null,
            "min_height": null,
            "min_width": null,
            "object_fit": null,
            "object_position": null,
            "order": null,
            "overflow": null,
            "overflow_x": null,
            "overflow_y": null,
            "padding": null,
            "right": null,
            "top": null,
            "visibility": null,
            "width": null
          }
        },
        "135e14e00f554858a7ec343b811d171f": {
          "model_module": "@jupyter-widgets/base",
          "model_module_version": "1.2.0",
          "model_name": "LayoutModel",
          "state": {
            "_model_module": "@jupyter-widgets/base",
            "_model_module_version": "1.2.0",
            "_model_name": "LayoutModel",
            "_view_count": null,
            "_view_module": "@jupyter-widgets/base",
            "_view_module_version": "1.2.0",
            "_view_name": "LayoutView",
            "align_content": null,
            "align_items": null,
            "align_self": null,
            "border": null,
            "bottom": null,
            "display": null,
            "flex": null,
            "flex_flow": null,
            "grid_area": null,
            "grid_auto_columns": null,
            "grid_auto_flow": null,
            "grid_auto_rows": null,
            "grid_column": null,
            "grid_gap": null,
            "grid_row": null,
            "grid_template_areas": null,
            "grid_template_columns": null,
            "grid_template_rows": null,
            "height": null,
            "justify_content": null,
            "justify_items": null,
            "left": null,
            "margin": null,
            "max_height": null,
            "max_width": null,
            "min_height": null,
            "min_width": null,
            "object_fit": null,
            "object_position": null,
            "order": null,
            "overflow": null,
            "overflow_x": null,
            "overflow_y": null,
            "padding": null,
            "right": null,
            "top": null,
            "visibility": null,
            "width": null
          }
        },
        "1739ccc1bad541bda4fa82845f6ae59d": {
          "model_module": "@jupyter-widgets/base",
          "model_module_version": "1.2.0",
          "model_name": "LayoutModel",
          "state": {
            "_model_module": "@jupyter-widgets/base",
            "_model_module_version": "1.2.0",
            "_model_name": "LayoutModel",
            "_view_count": null,
            "_view_module": "@jupyter-widgets/base",
            "_view_module_version": "1.2.0",
            "_view_name": "LayoutView",
            "align_content": null,
            "align_items": null,
            "align_self": null,
            "border": null,
            "bottom": null,
            "display": null,
            "flex": null,
            "flex_flow": null,
            "grid_area": null,
            "grid_auto_columns": null,
            "grid_auto_flow": null,
            "grid_auto_rows": null,
            "grid_column": null,
            "grid_gap": null,
            "grid_row": null,
            "grid_template_areas": null,
            "grid_template_columns": null,
            "grid_template_rows": null,
            "height": null,
            "justify_content": null,
            "justify_items": null,
            "left": null,
            "margin": null,
            "max_height": null,
            "max_width": null,
            "min_height": null,
            "min_width": null,
            "object_fit": null,
            "object_position": null,
            "order": null,
            "overflow": null,
            "overflow_x": null,
            "overflow_y": null,
            "padding": null,
            "right": null,
            "top": null,
            "visibility": null,
            "width": null
          }
        },
        "1c0dbe95758f44dabe515d1bd1eb1455": {
          "model_module": "@jupyter-widgets/base",
          "model_module_version": "1.2.0",
          "model_name": "LayoutModel",
          "state": {
            "_model_module": "@jupyter-widgets/base",
            "_model_module_version": "1.2.0",
            "_model_name": "LayoutModel",
            "_view_count": null,
            "_view_module": "@jupyter-widgets/base",
            "_view_module_version": "1.2.0",
            "_view_name": "LayoutView",
            "align_content": null,
            "align_items": null,
            "align_self": null,
            "border": null,
            "bottom": null,
            "display": null,
            "flex": null,
            "flex_flow": null,
            "grid_area": null,
            "grid_auto_columns": null,
            "grid_auto_flow": null,
            "grid_auto_rows": null,
            "grid_column": null,
            "grid_gap": null,
            "grid_row": null,
            "grid_template_areas": null,
            "grid_template_columns": null,
            "grid_template_rows": null,
            "height": null,
            "justify_content": null,
            "justify_items": null,
            "left": null,
            "margin": null,
            "max_height": null,
            "max_width": null,
            "min_height": null,
            "min_width": null,
            "object_fit": null,
            "object_position": null,
            "order": null,
            "overflow": null,
            "overflow_x": null,
            "overflow_y": null,
            "padding": null,
            "right": null,
            "top": null,
            "visibility": null,
            "width": null
          }
        },
        "1d508c532f074e8f827154f62642842d": {
          "model_module": "@jupyter-widgets/controls",
          "model_module_version": "1.5.0",
          "model_name": "HBoxModel",
          "state": {
            "_dom_classes": [],
            "_model_module": "@jupyter-widgets/controls",
            "_model_module_version": "1.5.0",
            "_model_name": "HBoxModel",
            "_view_count": null,
            "_view_module": "@jupyter-widgets/controls",
            "_view_module_version": "1.5.0",
            "_view_name": "HBoxView",
            "box_style": "",
            "children": [
              "IPY_MODEL_db1cea8b51614f4cb52f684305907d6c",
              "IPY_MODEL_adfbc13a11514040884fc4ba622c2416",
              "IPY_MODEL_6e8ac95f050f4a32922f61cb13a297ca"
            ],
            "layout": "IPY_MODEL_b2009413d1724de686c05dddddb46fc4"
          }
        },
        "260617d733f7475fb6cc0beacb3de2c6": {
          "model_module": "@jupyter-widgets/base",
          "model_module_version": "1.2.0",
          "model_name": "LayoutModel",
          "state": {
            "_model_module": "@jupyter-widgets/base",
            "_model_module_version": "1.2.0",
            "_model_name": "LayoutModel",
            "_view_count": null,
            "_view_module": "@jupyter-widgets/base",
            "_view_module_version": "1.2.0",
            "_view_name": "LayoutView",
            "align_content": null,
            "align_items": null,
            "align_self": null,
            "border": null,
            "bottom": null,
            "display": null,
            "flex": null,
            "flex_flow": null,
            "grid_area": null,
            "grid_auto_columns": null,
            "grid_auto_flow": null,
            "grid_auto_rows": null,
            "grid_column": null,
            "grid_gap": null,
            "grid_row": null,
            "grid_template_areas": null,
            "grid_template_columns": null,
            "grid_template_rows": null,
            "height": null,
            "justify_content": null,
            "justify_items": null,
            "left": null,
            "margin": null,
            "max_height": null,
            "max_width": null,
            "min_height": null,
            "min_width": null,
            "object_fit": null,
            "object_position": null,
            "order": null,
            "overflow": null,
            "overflow_x": null,
            "overflow_y": null,
            "padding": null,
            "right": null,
            "top": null,
            "visibility": null,
            "width": null
          }
        },
        "31327cda48c346a8bcba576c70377841": {
          "model_module": "@jupyter-widgets/controls",
          "model_module_version": "1.5.0",
          "model_name": "FloatProgressModel",
          "state": {
            "_dom_classes": [],
            "_model_module": "@jupyter-widgets/controls",
            "_model_module_version": "1.5.0",
            "_model_name": "FloatProgressModel",
            "_view_count": null,
            "_view_module": "@jupyter-widgets/controls",
            "_view_module_version": "1.5.0",
            "_view_name": "ProgressView",
            "bar_style": "success",
            "description": "",
            "description_tooltip": null,
            "layout": "IPY_MODEL_b355fc1f776a43b7a050fe143c8fd6fb",
            "max": 1,
            "min": 0,
            "orientation": "horizontal",
            "style": "IPY_MODEL_0dbb53cc04774074b2312c7008596272",
            "value": 1
          }
        },
        "33e9e26c9a7149888b812c7a7f759884": {
          "model_module": "@jupyter-widgets/controls",
          "model_module_version": "1.5.0",
          "model_name": "DescriptionStyleModel",
          "state": {
            "_model_module": "@jupyter-widgets/controls",
            "_model_module_version": "1.5.0",
            "_model_name": "DescriptionStyleModel",
            "_view_count": null,
            "_view_module": "@jupyter-widgets/base",
            "_view_module_version": "1.2.0",
            "_view_name": "StyleView",
            "description_width": ""
          }
        },
        "3868b8727ade481b8eaafdc0ec58ff31": {
          "model_module": "@jupyter-widgets/controls",
          "model_module_version": "1.5.0",
          "model_name": "DescriptionStyleModel",
          "state": {
            "_model_module": "@jupyter-widgets/controls",
            "_model_module_version": "1.5.0",
            "_model_name": "DescriptionStyleModel",
            "_view_count": null,
            "_view_module": "@jupyter-widgets/base",
            "_view_module_version": "1.2.0",
            "_view_name": "StyleView",
            "description_width": ""
          }
        },
        "38b0f6a86a0f4f5c8978d16d4bb10ac3": {
          "model_module": "@jupyter-widgets/controls",
          "model_module_version": "1.5.0",
          "model_name": "HTMLModel",
          "state": {
            "_dom_classes": [],
            "_model_module": "@jupyter-widgets/controls",
            "_model_module_version": "1.5.0",
            "_model_name": "HTMLModel",
            "_view_count": null,
            "_view_module": "@jupyter-widgets/controls",
            "_view_module_version": "1.5.0",
            "_view_name": "HTMLView",
            "description": "",
            "description_tooltip": null,
            "layout": "IPY_MODEL_5de943c1668b4e1db490943ed0afb3f1",
            "placeholder": "​",
            "style": "IPY_MODEL_33e9e26c9a7149888b812c7a7f759884",
            "value": " 4889/4890 [00:01&lt;00:00, 3301.65 examples/s]"
          }
        },
        "39b9e001ce98402a87f66e7af7bf4735": {
          "model_module": "@jupyter-widgets/base",
          "model_module_version": "1.2.0",
          "model_name": "LayoutModel",
          "state": {
            "_model_module": "@jupyter-widgets/base",
            "_model_module_version": "1.2.0",
            "_model_name": "LayoutModel",
            "_view_count": null,
            "_view_module": "@jupyter-widgets/base",
            "_view_module_version": "1.2.0",
            "_view_name": "LayoutView",
            "align_content": null,
            "align_items": null,
            "align_self": null,
            "border": null,
            "bottom": null,
            "display": null,
            "flex": null,
            "flex_flow": null,
            "grid_area": null,
            "grid_auto_columns": null,
            "grid_auto_flow": null,
            "grid_auto_rows": null,
            "grid_column": null,
            "grid_gap": null,
            "grid_row": null,
            "grid_template_areas": null,
            "grid_template_columns": null,
            "grid_template_rows": null,
            "height": null,
            "justify_content": null,
            "justify_items": null,
            "left": null,
            "margin": null,
            "max_height": null,
            "max_width": null,
            "min_height": null,
            "min_width": null,
            "object_fit": null,
            "object_position": null,
            "order": null,
            "overflow": null,
            "overflow_x": null,
            "overflow_y": null,
            "padding": null,
            "right": null,
            "top": null,
            "visibility": null,
            "width": null
          }
        },
        "3ffa6890bdfc49f7b27f6ef6b652e032": {
          "model_module": "@jupyter-widgets/controls",
          "model_module_version": "1.5.0",
          "model_name": "ProgressStyleModel",
          "state": {
            "_model_module": "@jupyter-widgets/controls",
            "_model_module_version": "1.5.0",
            "_model_name": "ProgressStyleModel",
            "_view_count": null,
            "_view_module": "@jupyter-widgets/base",
            "_view_module_version": "1.2.0",
            "_view_name": "StyleView",
            "bar_color": null,
            "description_width": ""
          }
        },
        "41d3d3975dba4e50b0711372fe7e0edd": {
          "model_module": "@jupyter-widgets/base",
          "model_module_version": "1.2.0",
          "model_name": "LayoutModel",
          "state": {
            "_model_module": "@jupyter-widgets/base",
            "_model_module_version": "1.2.0",
            "_model_name": "LayoutModel",
            "_view_count": null,
            "_view_module": "@jupyter-widgets/base",
            "_view_module_version": "1.2.0",
            "_view_name": "LayoutView",
            "align_content": null,
            "align_items": null,
            "align_self": null,
            "border": null,
            "bottom": null,
            "display": null,
            "flex": null,
            "flex_flow": null,
            "grid_area": null,
            "grid_auto_columns": null,
            "grid_auto_flow": null,
            "grid_auto_rows": null,
            "grid_column": null,
            "grid_gap": null,
            "grid_row": null,
            "grid_template_areas": null,
            "grid_template_columns": null,
            "grid_template_rows": null,
            "height": null,
            "justify_content": null,
            "justify_items": null,
            "left": null,
            "margin": null,
            "max_height": null,
            "max_width": null,
            "min_height": null,
            "min_width": null,
            "object_fit": null,
            "object_position": null,
            "order": null,
            "overflow": null,
            "overflow_x": null,
            "overflow_y": null,
            "padding": null,
            "right": null,
            "top": null,
            "visibility": null,
            "width": null
          }
        },
        "4317cc8b9da4411381302c0879109bf6": {
          "model_module": "@jupyter-widgets/base",
          "model_module_version": "1.2.0",
          "model_name": "LayoutModel",
          "state": {
            "_model_module": "@jupyter-widgets/base",
            "_model_module_version": "1.2.0",
            "_model_name": "LayoutModel",
            "_view_count": null,
            "_view_module": "@jupyter-widgets/base",
            "_view_module_version": "1.2.0",
            "_view_name": "LayoutView",
            "align_content": null,
            "align_items": null,
            "align_self": null,
            "border": null,
            "bottom": null,
            "display": null,
            "flex": null,
            "flex_flow": null,
            "grid_area": null,
            "grid_auto_columns": null,
            "grid_auto_flow": null,
            "grid_auto_rows": null,
            "grid_column": null,
            "grid_gap": null,
            "grid_row": null,
            "grid_template_areas": null,
            "grid_template_columns": null,
            "grid_template_rows": null,
            "height": null,
            "justify_content": null,
            "justify_items": null,
            "left": null,
            "margin": null,
            "max_height": null,
            "max_width": null,
            "min_height": null,
            "min_width": null,
            "object_fit": null,
            "object_position": null,
            "order": null,
            "overflow": null,
            "overflow_x": null,
            "overflow_y": null,
            "padding": null,
            "right": null,
            "top": null,
            "visibility": null,
            "width": null
          }
        },
        "465c18d465b44cd6a1b8a04fce09ddaa": {
          "model_module": "@jupyter-widgets/controls",
          "model_module_version": "1.5.0",
          "model_name": "HTMLModel",
          "state": {
            "_dom_classes": [],
            "_model_module": "@jupyter-widgets/controls",
            "_model_module_version": "1.5.0",
            "_model_name": "HTMLModel",
            "_view_count": null,
            "_view_module": "@jupyter-widgets/controls",
            "_view_module_version": "1.5.0",
            "_view_name": "HTMLView",
            "description": "",
            "description_tooltip": null,
            "layout": "IPY_MODEL_6748e3a866c145cab68d0a54af74786c",
            "placeholder": "​",
            "style": "IPY_MODEL_48857cb650d541458448b0b833e75173",
            "value": " 4877/0 [00:32&lt;00:00, 167.35 examples/s]"
          }
        },
        "48857cb650d541458448b0b833e75173": {
          "model_module": "@jupyter-widgets/controls",
          "model_module_version": "1.5.0",
          "model_name": "DescriptionStyleModel",
          "state": {
            "_model_module": "@jupyter-widgets/controls",
            "_model_module_version": "1.5.0",
            "_model_name": "DescriptionStyleModel",
            "_view_count": null,
            "_view_module": "@jupyter-widgets/base",
            "_view_module_version": "1.2.0",
            "_view_name": "StyleView",
            "description_width": ""
          }
        },
        "493b0af289954412afb6ec73e68838b7": {
          "model_module": "@jupyter-widgets/controls",
          "model_module_version": "1.5.0",
          "model_name": "ProgressStyleModel",
          "state": {
            "_model_module": "@jupyter-widgets/controls",
            "_model_module_version": "1.5.0",
            "_model_name": "ProgressStyleModel",
            "_view_count": null,
            "_view_module": "@jupyter-widgets/base",
            "_view_module_version": "1.2.0",
            "_view_name": "StyleView",
            "bar_color": null,
            "description_width": ""
          }
        },
        "4e83f532541e442abeca55342e57ffe5": {
          "model_module": "@jupyter-widgets/base",
          "model_module_version": "1.2.0",
          "model_name": "LayoutModel",
          "state": {
            "_model_module": "@jupyter-widgets/base",
            "_model_module_version": "1.2.0",
            "_model_name": "LayoutModel",
            "_view_count": null,
            "_view_module": "@jupyter-widgets/base",
            "_view_module_version": "1.2.0",
            "_view_name": "LayoutView",
            "align_content": null,
            "align_items": null,
            "align_self": null,
            "border": null,
            "bottom": null,
            "display": null,
            "flex": null,
            "flex_flow": null,
            "grid_area": null,
            "grid_auto_columns": null,
            "grid_auto_flow": null,
            "grid_auto_rows": null,
            "grid_column": null,
            "grid_gap": null,
            "grid_row": null,
            "grid_template_areas": null,
            "grid_template_columns": null,
            "grid_template_rows": null,
            "height": null,
            "justify_content": null,
            "justify_items": null,
            "left": null,
            "margin": null,
            "max_height": null,
            "max_width": null,
            "min_height": null,
            "min_width": null,
            "object_fit": null,
            "object_position": null,
            "order": null,
            "overflow": null,
            "overflow_x": null,
            "overflow_y": null,
            "padding": null,
            "right": null,
            "top": null,
            "visibility": null,
            "width": null
          }
        },
        "4f21db695259403c8bed92d0cbdee841": {
          "model_module": "@jupyter-widgets/base",
          "model_module_version": "1.2.0",
          "model_name": "LayoutModel",
          "state": {
            "_model_module": "@jupyter-widgets/base",
            "_model_module_version": "1.2.0",
            "_model_name": "LayoutModel",
            "_view_count": null,
            "_view_module": "@jupyter-widgets/base",
            "_view_module_version": "1.2.0",
            "_view_name": "LayoutView",
            "align_content": null,
            "align_items": null,
            "align_self": null,
            "border": null,
            "bottom": null,
            "display": null,
            "flex": null,
            "flex_flow": null,
            "grid_area": null,
            "grid_auto_columns": null,
            "grid_auto_flow": null,
            "grid_auto_rows": null,
            "grid_column": null,
            "grid_gap": null,
            "grid_row": null,
            "grid_template_areas": null,
            "grid_template_columns": null,
            "grid_template_rows": null,
            "height": null,
            "justify_content": null,
            "justify_items": null,
            "left": null,
            "margin": null,
            "max_height": null,
            "max_width": null,
            "min_height": null,
            "min_width": null,
            "object_fit": null,
            "object_position": null,
            "order": null,
            "overflow": null,
            "overflow_x": null,
            "overflow_y": null,
            "padding": null,
            "right": null,
            "top": null,
            "visibility": null,
            "width": null
          }
        },
        "5284eb3e52a34cdabf47fa33ddccc5a6": {
          "model_module": "@jupyter-widgets/controls",
          "model_module_version": "1.5.0",
          "model_name": "HTMLModel",
          "state": {
            "_dom_classes": [],
            "_model_module": "@jupyter-widgets/controls",
            "_model_module_version": "1.5.0",
            "_model_name": "HTMLModel",
            "_view_count": null,
            "_view_module": "@jupyter-widgets/controls",
            "_view_module_version": "1.5.0",
            "_view_name": "HTMLView",
            "description": "",
            "description_tooltip": null,
            "layout": "IPY_MODEL_260617d733f7475fb6cc0beacb3de2c6",
            "placeholder": "​",
            "style": "IPY_MODEL_567b7c12019942daadd3e72315dc0262",
            "value": "100%"
          }
        },
        "567b7c12019942daadd3e72315dc0262": {
          "model_module": "@jupyter-widgets/controls",
          "model_module_version": "1.5.0",
          "model_name": "DescriptionStyleModel",
          "state": {
            "_model_module": "@jupyter-widgets/controls",
            "_model_module_version": "1.5.0",
            "_model_name": "DescriptionStyleModel",
            "_view_count": null,
            "_view_module": "@jupyter-widgets/base",
            "_view_module_version": "1.2.0",
            "_view_name": "StyleView",
            "description_width": ""
          }
        },
        "5cc01491322c43a69e279b116e5058d7": {
          "model_module": "@jupyter-widgets/base",
          "model_module_version": "1.2.0",
          "model_name": "LayoutModel",
          "state": {
            "_model_module": "@jupyter-widgets/base",
            "_model_module_version": "1.2.0",
            "_model_name": "LayoutModel",
            "_view_count": null,
            "_view_module": "@jupyter-widgets/base",
            "_view_module_version": "1.2.0",
            "_view_name": "LayoutView",
            "align_content": null,
            "align_items": null,
            "align_self": null,
            "border": null,
            "bottom": null,
            "display": null,
            "flex": null,
            "flex_flow": null,
            "grid_area": null,
            "grid_auto_columns": null,
            "grid_auto_flow": null,
            "grid_auto_rows": null,
            "grid_column": null,
            "grid_gap": null,
            "grid_row": null,
            "grid_template_areas": null,
            "grid_template_columns": null,
            "grid_template_rows": null,
            "height": null,
            "justify_content": null,
            "justify_items": null,
            "left": null,
            "margin": null,
            "max_height": null,
            "max_width": null,
            "min_height": null,
            "min_width": null,
            "object_fit": null,
            "object_position": null,
            "order": null,
            "overflow": null,
            "overflow_x": null,
            "overflow_y": null,
            "padding": null,
            "right": null,
            "top": null,
            "visibility": null,
            "width": null
          }
        },
        "5de943c1668b4e1db490943ed0afb3f1": {
          "model_module": "@jupyter-widgets/base",
          "model_module_version": "1.2.0",
          "model_name": "LayoutModel",
          "state": {
            "_model_module": "@jupyter-widgets/base",
            "_model_module_version": "1.2.0",
            "_model_name": "LayoutModel",
            "_view_count": null,
            "_view_module": "@jupyter-widgets/base",
            "_view_module_version": "1.2.0",
            "_view_name": "LayoutView",
            "align_content": null,
            "align_items": null,
            "align_self": null,
            "border": null,
            "bottom": null,
            "display": null,
            "flex": null,
            "flex_flow": null,
            "grid_area": null,
            "grid_auto_columns": null,
            "grid_auto_flow": null,
            "grid_auto_rows": null,
            "grid_column": null,
            "grid_gap": null,
            "grid_row": null,
            "grid_template_areas": null,
            "grid_template_columns": null,
            "grid_template_rows": null,
            "height": null,
            "justify_content": null,
            "justify_items": null,
            "left": null,
            "margin": null,
            "max_height": null,
            "max_width": null,
            "min_height": null,
            "min_width": null,
            "object_fit": null,
            "object_position": null,
            "order": null,
            "overflow": null,
            "overflow_x": null,
            "overflow_y": null,
            "padding": null,
            "right": null,
            "top": null,
            "visibility": null,
            "width": null
          }
        },
        "62b38efbd3104d8c8c2dc3f875bb9282": {
          "model_module": "@jupyter-widgets/controls",
          "model_module_version": "1.5.0",
          "model_name": "DescriptionStyleModel",
          "state": {
            "_model_module": "@jupyter-widgets/controls",
            "_model_module_version": "1.5.0",
            "_model_name": "DescriptionStyleModel",
            "_view_count": null,
            "_view_module": "@jupyter-widgets/base",
            "_view_module_version": "1.2.0",
            "_view_name": "StyleView",
            "description_width": ""
          }
        },
        "662c3f18ed6745aa985f846ed075cf29": {
          "model_module": "@jupyter-widgets/controls",
          "model_module_version": "1.5.0",
          "model_name": "ProgressStyleModel",
          "state": {
            "_model_module": "@jupyter-widgets/controls",
            "_model_module_version": "1.5.0",
            "_model_name": "ProgressStyleModel",
            "_view_count": null,
            "_view_module": "@jupyter-widgets/base",
            "_view_module_version": "1.2.0",
            "_view_name": "StyleView",
            "bar_color": null,
            "description_width": ""
          }
        },
        "663a74508562499cbdf007d8c3c039e3": {
          "model_module": "@jupyter-widgets/controls",
          "model_module_version": "1.5.0",
          "model_name": "HBoxModel",
          "state": {
            "_dom_classes": [],
            "_model_module": "@jupyter-widgets/controls",
            "_model_module_version": "1.5.0",
            "_model_name": "HBoxModel",
            "_view_count": null,
            "_view_module": "@jupyter-widgets/controls",
            "_view_module_version": "1.5.0",
            "_view_name": "HBoxView",
            "box_style": "",
            "children": [
              "IPY_MODEL_cc4dd14728df4f358500bead8dbd90d9",
              "IPY_MODEL_8187fd653fd545a1a6001766fb7f6899",
              "IPY_MODEL_762ee4c554c64a5eab9bcb23bcd0942a"
            ],
            "layout": "IPY_MODEL_e93077a7b38343e8ad9d649094aab8fa"
          }
        },
        "6748e3a866c145cab68d0a54af74786c": {
          "model_module": "@jupyter-widgets/base",
          "model_module_version": "1.2.0",
          "model_name": "LayoutModel",
          "state": {
            "_model_module": "@jupyter-widgets/base",
            "_model_module_version": "1.2.0",
            "_model_name": "LayoutModel",
            "_view_count": null,
            "_view_module": "@jupyter-widgets/base",
            "_view_module_version": "1.2.0",
            "_view_name": "LayoutView",
            "align_content": null,
            "align_items": null,
            "align_self": null,
            "border": null,
            "bottom": null,
            "display": null,
            "flex": null,
            "flex_flow": null,
            "grid_area": null,
            "grid_auto_columns": null,
            "grid_auto_flow": null,
            "grid_auto_rows": null,
            "grid_column": null,
            "grid_gap": null,
            "grid_row": null,
            "grid_template_areas": null,
            "grid_template_columns": null,
            "grid_template_rows": null,
            "height": null,
            "justify_content": null,
            "justify_items": null,
            "left": null,
            "margin": null,
            "max_height": null,
            "max_width": null,
            "min_height": null,
            "min_width": null,
            "object_fit": null,
            "object_position": null,
            "order": null,
            "overflow": null,
            "overflow_x": null,
            "overflow_y": null,
            "padding": null,
            "right": null,
            "top": null,
            "visibility": null,
            "width": null
          }
        },
        "6828d973a5694a53a6a3c0b17eacd324": {
          "model_module": "@jupyter-widgets/controls",
          "model_module_version": "1.5.0",
          "model_name": "HBoxModel",
          "state": {
            "_dom_classes": [],
            "_model_module": "@jupyter-widgets/controls",
            "_model_module_version": "1.5.0",
            "_model_name": "HBoxModel",
            "_view_count": null,
            "_view_module": "@jupyter-widgets/controls",
            "_view_module_version": "1.5.0",
            "_view_name": "HBoxView",
            "box_style": "",
            "children": [
              "IPY_MODEL_af1ebf3bd9184ef7b096acc05fab2ed9",
              "IPY_MODEL_31327cda48c346a8bcba576c70377841",
              "IPY_MODEL_7ba6dbec42024376a72e87cb3d159c43"
            ],
            "layout": "IPY_MODEL_5cc01491322c43a69e279b116e5058d7"
          }
        },
        "6a16d3c1e4304764bfd0575dfebc9ff7": {
          "model_module": "@jupyter-widgets/controls",
          "model_module_version": "1.5.0",
          "model_name": "DescriptionStyleModel",
          "state": {
            "_model_module": "@jupyter-widgets/controls",
            "_model_module_version": "1.5.0",
            "_model_name": "DescriptionStyleModel",
            "_view_count": null,
            "_view_module": "@jupyter-widgets/base",
            "_view_module_version": "1.2.0",
            "_view_name": "StyleView",
            "description_width": ""
          }
        },
        "6ab6204202c64d6a9838285f31f71a0a": {
          "model_module": "@jupyter-widgets/base",
          "model_module_version": "1.2.0",
          "model_name": "LayoutModel",
          "state": {
            "_model_module": "@jupyter-widgets/base",
            "_model_module_version": "1.2.0",
            "_model_name": "LayoutModel",
            "_view_count": null,
            "_view_module": "@jupyter-widgets/base",
            "_view_module_version": "1.2.0",
            "_view_name": "LayoutView",
            "align_content": null,
            "align_items": null,
            "align_self": null,
            "border": null,
            "bottom": null,
            "display": null,
            "flex": null,
            "flex_flow": null,
            "grid_area": null,
            "grid_auto_columns": null,
            "grid_auto_flow": null,
            "grid_auto_rows": null,
            "grid_column": null,
            "grid_gap": null,
            "grid_row": null,
            "grid_template_areas": null,
            "grid_template_columns": null,
            "grid_template_rows": null,
            "height": null,
            "justify_content": null,
            "justify_items": null,
            "left": null,
            "margin": null,
            "max_height": null,
            "max_width": null,
            "min_height": null,
            "min_width": null,
            "object_fit": null,
            "object_position": null,
            "order": null,
            "overflow": null,
            "overflow_x": null,
            "overflow_y": null,
            "padding": null,
            "right": null,
            "top": null,
            "visibility": null,
            "width": null
          }
        },
        "6b1b1c9adcf3431993c18260edb33a6f": {
          "model_module": "@jupyter-widgets/controls",
          "model_module_version": "1.5.0",
          "model_name": "DescriptionStyleModel",
          "state": {
            "_model_module": "@jupyter-widgets/controls",
            "_model_module_version": "1.5.0",
            "_model_name": "DescriptionStyleModel",
            "_view_count": null,
            "_view_module": "@jupyter-widgets/base",
            "_view_module_version": "1.2.0",
            "_view_name": "StyleView",
            "description_width": ""
          }
        },
        "6bb74e77551a4e648e2b0445bff1dd53": {
          "model_module": "@jupyter-widgets/controls",
          "model_module_version": "1.5.0",
          "model_name": "HBoxModel",
          "state": {
            "_dom_classes": [],
            "_model_module": "@jupyter-widgets/controls",
            "_model_module_version": "1.5.0",
            "_model_name": "HBoxModel",
            "_view_count": null,
            "_view_module": "@jupyter-widgets/controls",
            "_view_module_version": "1.5.0",
            "_view_name": "HBoxView",
            "box_style": "",
            "children": [
              "IPY_MODEL_9ac9839b0acc464a82468496f2c8f81c",
              "IPY_MODEL_b017748607814aef81814d41d5b7b3ac",
              "IPY_MODEL_465c18d465b44cd6a1b8a04fce09ddaa"
            ],
            "layout": "IPY_MODEL_135e14e00f554858a7ec343b811d171f"
          }
        },
        "6e8ac95f050f4a32922f61cb13a297ca": {
          "model_module": "@jupyter-widgets/controls",
          "model_module_version": "1.5.0",
          "model_name": "HTMLModel",
          "state": {
            "_dom_classes": [],
            "_model_module": "@jupyter-widgets/controls",
            "_model_module_version": "1.5.0",
            "_model_name": "HTMLModel",
            "_view_count": null,
            "_view_module": "@jupyter-widgets/controls",
            "_view_module_version": "1.5.0",
            "_view_name": "HTMLView",
            "description": "",
            "description_tooltip": null,
            "layout": "IPY_MODEL_8c21ce6fc433430c8690df81235d245d",
            "placeholder": "​",
            "style": "IPY_MODEL_e76939afb0384539a7ccf00e6116a706",
            "value": " 2423/2423 [00:45&lt;00:00, 58.38 MiB/s]"
          }
        },
        "7418f17c761a440e9294c2d5268e24da": {
          "model_module": "@jupyter-widgets/controls",
          "model_module_version": "1.5.0",
          "model_name": "DescriptionStyleModel",
          "state": {
            "_model_module": "@jupyter-widgets/controls",
            "_model_module_version": "1.5.0",
            "_model_name": "DescriptionStyleModel",
            "_view_count": null,
            "_view_module": "@jupyter-widgets/base",
            "_view_module_version": "1.2.0",
            "_view_name": "StyleView",
            "description_width": ""
          }
        },
        "762ee4c554c64a5eab9bcb23bcd0942a": {
          "model_module": "@jupyter-widgets/controls",
          "model_module_version": "1.5.0",
          "model_name": "HTMLModel",
          "state": {
            "_dom_classes": [],
            "_model_module": "@jupyter-widgets/controls",
            "_model_module_version": "1.5.0",
            "_model_name": "HTMLModel",
            "_view_count": null,
            "_view_module": "@jupyter-widgets/controls",
            "_view_module_version": "1.5.0",
            "_view_name": "HTMLView",
            "description": "",
            "description_tooltip": null,
            "layout": "IPY_MODEL_b79010206bfb41e98439d718e51172f3",
            "placeholder": "​",
            "style": "IPY_MODEL_6a16d3c1e4304764bfd0575dfebc9ff7",
            "value": " 85502/0 [09:15&lt;00:00, 163.77 examples/s]"
          }
        },
        "790d0c69f84b4baebad2f6f644bf67d8": {
          "model_module": "@jupyter-widgets/controls",
          "model_module_version": "1.5.0",
          "model_name": "HBoxModel",
          "state": {
            "_dom_classes": [],
            "_model_module": "@jupyter-widgets/controls",
            "_model_module_version": "1.5.0",
            "_model_name": "HBoxModel",
            "_view_count": null,
            "_view_module": "@jupyter-widgets/controls",
            "_view_module_version": "1.5.0",
            "_view_name": "HBoxView",
            "box_style": "",
            "children": [
              "IPY_MODEL_9fd1f97ffe774002aefd3fd6f79747fc",
              "IPY_MODEL_7cb5ff5d4d0847c7bb07c697505f3524",
              "IPY_MODEL_bcb3c6f364224ff0901f01a0e1d852b6"
            ],
            "layout": "IPY_MODEL_1c0dbe95758f44dabe515d1bd1eb1455"
          }
        },
        "7ba6dbec42024376a72e87cb3d159c43": {
          "model_module": "@jupyter-widgets/controls",
          "model_module_version": "1.5.0",
          "model_name": "HTMLModel",
          "state": {
            "_dom_classes": [],
            "_model_module": "@jupyter-widgets/controls",
            "_model_module_version": "1.5.0",
            "_model_name": "HTMLModel",
            "_view_count": null,
            "_view_module": "@jupyter-widgets/controls",
            "_view_module_version": "1.5.0",
            "_view_name": "HTMLView",
            "description": "",
            "description_tooltip": null,
            "layout": "IPY_MODEL_0beb03eb1c024e3ebf268528bf010817",
            "placeholder": "​",
            "style": "IPY_MODEL_829c7913db3e4a319740e0f5f68037c5",
            "value": " 2/2 [00:45&lt;00:00, 25.57s/ url]"
          }
        },
        "7cb5ff5d4d0847c7bb07c697505f3524": {
          "model_module": "@jupyter-widgets/controls",
          "model_module_version": "1.5.0",
          "model_name": "FloatProgressModel",
          "state": {
            "_dom_classes": [],
            "_model_module": "@jupyter-widgets/controls",
            "_model_module_version": "1.5.0",
            "_model_name": "FloatProgressModel",
            "_view_count": null,
            "_view_module": "@jupyter-widgets/controls",
            "_view_module_version": "1.5.0",
            "_view_name": "ProgressView",
            "bar_style": "danger",
            "description": "",
            "description_tooltip": null,
            "layout": "IPY_MODEL_9ed5f02ff03548db83d554bedd170379",
            "max": 85511,
            "min": 0,
            "orientation": "horizontal",
            "style": "IPY_MODEL_8acd7d16037b4cc28e13b40c5346c6a5",
            "value": 85510
          }
        },
        "8187fd653fd545a1a6001766fb7f6899": {
          "model_module": "@jupyter-widgets/controls",
          "model_module_version": "1.5.0",
          "model_name": "FloatProgressModel",
          "state": {
            "_dom_classes": [],
            "_model_module": "@jupyter-widgets/controls",
            "_model_module_version": "1.5.0",
            "_model_name": "FloatProgressModel",
            "_view_count": null,
            "_view_module": "@jupyter-widgets/controls",
            "_view_module_version": "1.5.0",
            "_view_name": "ProgressView",
            "bar_style": "info",
            "description": "",
            "description_tooltip": null,
            "layout": "IPY_MODEL_8fe99b930baf4622a0f743b79934dc73",
            "max": 1,
            "min": 0,
            "orientation": "horizontal",
            "style": "IPY_MODEL_493b0af289954412afb6ec73e68838b7",
            "value": 1
          }
        },
        "81f9840b12a044e784bb67ed8ea348f9": {
          "model_module": "@jupyter-widgets/base",
          "model_module_version": "1.2.0",
          "model_name": "LayoutModel",
          "state": {
            "_model_module": "@jupyter-widgets/base",
            "_model_module_version": "1.2.0",
            "_model_name": "LayoutModel",
            "_view_count": null,
            "_view_module": "@jupyter-widgets/base",
            "_view_module_version": "1.2.0",
            "_view_name": "LayoutView",
            "align_content": null,
            "align_items": null,
            "align_self": null,
            "border": null,
            "bottom": null,
            "display": null,
            "flex": null,
            "flex_flow": null,
            "grid_area": null,
            "grid_auto_columns": null,
            "grid_auto_flow": null,
            "grid_auto_rows": null,
            "grid_column": null,
            "grid_gap": null,
            "grid_row": null,
            "grid_template_areas": null,
            "grid_template_columns": null,
            "grid_template_rows": null,
            "height": null,
            "justify_content": null,
            "justify_items": null,
            "left": null,
            "margin": null,
            "max_height": null,
            "max_width": null,
            "min_height": null,
            "min_width": null,
            "object_fit": null,
            "object_position": null,
            "order": null,
            "overflow": null,
            "overflow_x": null,
            "overflow_y": null,
            "padding": null,
            "right": null,
            "top": null,
            "visibility": null,
            "width": null
          }
        },
        "829c7913db3e4a319740e0f5f68037c5": {
          "model_module": "@jupyter-widgets/controls",
          "model_module_version": "1.5.0",
          "model_name": "DescriptionStyleModel",
          "state": {
            "_model_module": "@jupyter-widgets/controls",
            "_model_module_version": "1.5.0",
            "_model_name": "DescriptionStyleModel",
            "_view_count": null,
            "_view_module": "@jupyter-widgets/base",
            "_view_module_version": "1.2.0",
            "_view_name": "StyleView",
            "description_width": ""
          }
        },
        "85809d2a49ee45b295af39df1b5151be": {
          "model_module": "@jupyter-widgets/controls",
          "model_module_version": "1.5.0",
          "model_name": "FloatProgressModel",
          "state": {
            "_dom_classes": [],
            "_model_module": "@jupyter-widgets/controls",
            "_model_module_version": "1.5.0",
            "_model_name": "FloatProgressModel",
            "_view_count": null,
            "_view_module": "@jupyter-widgets/controls",
            "_view_module_version": "1.5.0",
            "_view_name": "ProgressView",
            "bar_style": "info",
            "description": "",
            "description_tooltip": null,
            "layout": "IPY_MODEL_b5dca379daa242a88336735662faf521",
            "max": 1,
            "min": 0,
            "orientation": "horizontal",
            "style": "IPY_MODEL_662c3f18ed6745aa985f846ed075cf29",
            "value": 1
          }
        },
        "86072bc9485742af8d9312b70ded6dfa": {
          "model_module": "@jupyter-widgets/controls",
          "model_module_version": "1.5.0",
          "model_name": "HTMLModel",
          "state": {
            "_dom_classes": [],
            "_model_module": "@jupyter-widgets/controls",
            "_model_module_version": "1.5.0",
            "_model_name": "HTMLModel",
            "_view_count": null,
            "_view_module": "@jupyter-widgets/controls",
            "_view_module_version": "1.5.0",
            "_view_name": "HTMLView",
            "description": "",
            "description_tooltip": null,
            "layout": "IPY_MODEL_81f9840b12a044e784bb67ed8ea348f9",
            "placeholder": "​",
            "style": "IPY_MODEL_c52b3a8964c34107bb693692f82fd0e9",
            "value": " 10095/0 [02:00&lt;00:00, 81.63 examples/s]"
          }
        },
        "8acd7d16037b4cc28e13b40c5346c6a5": {
          "model_module": "@jupyter-widgets/controls",
          "model_module_version": "1.5.0",
          "model_name": "ProgressStyleModel",
          "state": {
            "_model_module": "@jupyter-widgets/controls",
            "_model_module_version": "1.5.0",
            "_model_name": "ProgressStyleModel",
            "_view_count": null,
            "_view_module": "@jupyter-widgets/base",
            "_view_module_version": "1.2.0",
            "_view_name": "StyleView",
            "bar_color": null,
            "description_width": ""
          }
        },
        "8c21ce6fc433430c8690df81235d245d": {
          "model_module": "@jupyter-widgets/base",
          "model_module_version": "1.2.0",
          "model_name": "LayoutModel",
          "state": {
            "_model_module": "@jupyter-widgets/base",
            "_model_module_version": "1.2.0",
            "_model_name": "LayoutModel",
            "_view_count": null,
            "_view_module": "@jupyter-widgets/base",
            "_view_module_version": "1.2.0",
            "_view_name": "LayoutView",
            "align_content": null,
            "align_items": null,
            "align_self": null,
            "border": null,
            "bottom": null,
            "display": null,
            "flex": null,
            "flex_flow": null,
            "grid_area": null,
            "grid_auto_columns": null,
            "grid_auto_flow": null,
            "grid_auto_rows": null,
            "grid_column": null,
            "grid_gap": null,
            "grid_row": null,
            "grid_template_areas": null,
            "grid_template_columns": null,
            "grid_template_rows": null,
            "height": null,
            "justify_content": null,
            "justify_items": null,
            "left": null,
            "margin": null,
            "max_height": null,
            "max_width": null,
            "min_height": null,
            "min_width": null,
            "object_fit": null,
            "object_position": null,
            "order": null,
            "overflow": null,
            "overflow_x": null,
            "overflow_y": null,
            "padding": null,
            "right": null,
            "top": null,
            "visibility": null,
            "width": null
          }
        },
        "8fe99b930baf4622a0f743b79934dc73": {
          "model_module": "@jupyter-widgets/base",
          "model_module_version": "1.2.0",
          "model_name": "LayoutModel",
          "state": {
            "_model_module": "@jupyter-widgets/base",
            "_model_module_version": "1.2.0",
            "_model_name": "LayoutModel",
            "_view_count": null,
            "_view_module": "@jupyter-widgets/base",
            "_view_module_version": "1.2.0",
            "_view_name": "LayoutView",
            "align_content": null,
            "align_items": null,
            "align_self": null,
            "border": null,
            "bottom": null,
            "display": null,
            "flex": null,
            "flex_flow": null,
            "grid_area": null,
            "grid_auto_columns": null,
            "grid_auto_flow": null,
            "grid_auto_rows": null,
            "grid_column": null,
            "grid_gap": null,
            "grid_row": null,
            "grid_template_areas": null,
            "grid_template_columns": null,
            "grid_template_rows": null,
            "height": null,
            "justify_content": null,
            "justify_items": null,
            "left": null,
            "margin": null,
            "max_height": null,
            "max_width": null,
            "min_height": null,
            "min_width": null,
            "object_fit": null,
            "object_position": null,
            "order": null,
            "overflow": null,
            "overflow_x": null,
            "overflow_y": null,
            "padding": null,
            "right": null,
            "top": null,
            "visibility": null,
            "width": "20px"
          }
        },
        "9ac9839b0acc464a82468496f2c8f81c": {
          "model_module": "@jupyter-widgets/controls",
          "model_module_version": "1.5.0",
          "model_name": "HTMLModel",
          "state": {
            "_dom_classes": [],
            "_model_module": "@jupyter-widgets/controls",
            "_model_module_version": "1.5.0",
            "_model_name": "HTMLModel",
            "_view_count": null,
            "_view_module": "@jupyter-widgets/controls",
            "_view_module_version": "1.5.0",
            "_view_name": "HTMLView",
            "description": "",
            "description_tooltip": null,
            "layout": "IPY_MODEL_4e83f532541e442abeca55342e57ffe5",
            "placeholder": "​",
            "style": "IPY_MODEL_62b38efbd3104d8c8c2dc3f875bb9282",
            "value": ""
          }
        },
        "9c62790793a449bf9ac9a78224863d03": {
          "model_module": "@jupyter-widgets/controls",
          "model_module_version": "1.5.0",
          "model_name": "ProgressStyleModel",
          "state": {
            "_model_module": "@jupyter-widgets/controls",
            "_model_module_version": "1.5.0",
            "_model_name": "ProgressStyleModel",
            "_view_count": null,
            "_view_module": "@jupyter-widgets/base",
            "_view_module_version": "1.2.0",
            "_view_name": "StyleView",
            "bar_color": null,
            "description_width": ""
          }
        },
        "9d2c76d02a484026b384be01f11e7995": {
          "model_module": "@jupyter-widgets/controls",
          "model_module_version": "1.5.0",
          "model_name": "HTMLModel",
          "state": {
            "_dom_classes": [],
            "_model_module": "@jupyter-widgets/controls",
            "_model_module_version": "1.5.0",
            "_model_name": "HTMLModel",
            "_view_count": null,
            "_view_module": "@jupyter-widgets/controls",
            "_view_module_version": "1.5.0",
            "_view_name": "HTMLView",
            "description": "",
            "description_tooltip": null,
            "layout": "IPY_MODEL_c2cbd1aa0b5047b4a611791e127483fe",
            "placeholder": "​",
            "style": "IPY_MODEL_b2a76e2aa42b46f09ff00165df3afb75",
            "value": ""
          }
        },
        "9ed5f02ff03548db83d554bedd170379": {
          "model_module": "@jupyter-widgets/base",
          "model_module_version": "1.2.0",
          "model_name": "LayoutModel",
          "state": {
            "_model_module": "@jupyter-widgets/base",
            "_model_module_version": "1.2.0",
            "_model_name": "LayoutModel",
            "_view_count": null,
            "_view_module": "@jupyter-widgets/base",
            "_view_module_version": "1.2.0",
            "_view_name": "LayoutView",
            "align_content": null,
            "align_items": null,
            "align_self": null,
            "border": null,
            "bottom": null,
            "display": null,
            "flex": null,
            "flex_flow": null,
            "grid_area": null,
            "grid_auto_columns": null,
            "grid_auto_flow": null,
            "grid_auto_rows": null,
            "grid_column": null,
            "grid_gap": null,
            "grid_row": null,
            "grid_template_areas": null,
            "grid_template_columns": null,
            "grid_template_rows": null,
            "height": null,
            "justify_content": null,
            "justify_items": null,
            "left": null,
            "margin": null,
            "max_height": null,
            "max_width": null,
            "min_height": null,
            "min_width": null,
            "object_fit": null,
            "object_position": null,
            "order": null,
            "overflow": null,
            "overflow_x": null,
            "overflow_y": null,
            "padding": null,
            "right": null,
            "top": null,
            "visibility": null,
            "width": null
          }
        },
        "9f57c6ca4eab468790b2e359058a7aa5": {
          "model_module": "@jupyter-widgets/base",
          "model_module_version": "1.2.0",
          "model_name": "LayoutModel",
          "state": {
            "_model_module": "@jupyter-widgets/base",
            "_model_module_version": "1.2.0",
            "_model_name": "LayoutModel",
            "_view_count": null,
            "_view_module": "@jupyter-widgets/base",
            "_view_module_version": "1.2.0",
            "_view_name": "LayoutView",
            "align_content": null,
            "align_items": null,
            "align_self": null,
            "border": null,
            "bottom": null,
            "display": null,
            "flex": null,
            "flex_flow": null,
            "grid_area": null,
            "grid_auto_columns": null,
            "grid_auto_flow": null,
            "grid_auto_rows": null,
            "grid_column": null,
            "grid_gap": null,
            "grid_row": null,
            "grid_template_areas": null,
            "grid_template_columns": null,
            "grid_template_rows": null,
            "height": null,
            "justify_content": null,
            "justify_items": null,
            "left": null,
            "margin": null,
            "max_height": null,
            "max_width": null,
            "min_height": null,
            "min_width": null,
            "object_fit": null,
            "object_position": null,
            "order": null,
            "overflow": null,
            "overflow_x": null,
            "overflow_y": null,
            "padding": null,
            "right": null,
            "top": null,
            "visibility": null,
            "width": null
          }
        },
        "9fd1f97ffe774002aefd3fd6f79747fc": {
          "model_module": "@jupyter-widgets/controls",
          "model_module_version": "1.5.0",
          "model_name": "HTMLModel",
          "state": {
            "_dom_classes": [],
            "_model_module": "@jupyter-widgets/controls",
            "_model_module_version": "1.5.0",
            "_model_name": "HTMLModel",
            "_view_count": null,
            "_view_module": "@jupyter-widgets/controls",
            "_view_module_version": "1.5.0",
            "_view_name": "HTMLView",
            "description": "",
            "description_tooltip": null,
            "layout": "IPY_MODEL_9f57c6ca4eab468790b2e359058a7aa5",
            "placeholder": "​",
            "style": "IPY_MODEL_6b1b1c9adcf3431993c18260edb33a6f",
            "value": "100%"
          }
        },
        "abaa176c894d4505aced78f41ce3895b": {
          "model_module": "@jupyter-widgets/base",
          "model_module_version": "1.2.0",
          "model_name": "LayoutModel",
          "state": {
            "_model_module": "@jupyter-widgets/base",
            "_model_module_version": "1.2.0",
            "_model_name": "LayoutModel",
            "_view_count": null,
            "_view_module": "@jupyter-widgets/base",
            "_view_module_version": "1.2.0",
            "_view_name": "LayoutView",
            "align_content": null,
            "align_items": null,
            "align_self": null,
            "border": null,
            "bottom": null,
            "display": null,
            "flex": null,
            "flex_flow": null,
            "grid_area": null,
            "grid_auto_columns": null,
            "grid_auto_flow": null,
            "grid_auto_rows": null,
            "grid_column": null,
            "grid_gap": null,
            "grid_row": null,
            "grid_template_areas": null,
            "grid_template_columns": null,
            "grid_template_rows": null,
            "height": null,
            "justify_content": null,
            "justify_items": null,
            "left": null,
            "margin": null,
            "max_height": null,
            "max_width": null,
            "min_height": null,
            "min_width": null,
            "object_fit": null,
            "object_position": null,
            "order": null,
            "overflow": null,
            "overflow_x": null,
            "overflow_y": null,
            "padding": null,
            "right": null,
            "top": null,
            "visibility": null,
            "width": null
          }
        },
        "adfbc13a11514040884fc4ba622c2416": {
          "model_module": "@jupyter-widgets/controls",
          "model_module_version": "1.5.0",
          "model_name": "FloatProgressModel",
          "state": {
            "_dom_classes": [],
            "_model_module": "@jupyter-widgets/controls",
            "_model_module_version": "1.5.0",
            "_model_name": "FloatProgressModel",
            "_view_count": null,
            "_view_module": "@jupyter-widgets/controls",
            "_view_module_version": "1.5.0",
            "_view_name": "ProgressView",
            "bar_style": "success",
            "description": "",
            "description_tooltip": null,
            "layout": "IPY_MODEL_c7f3b1534c04448db97fc3e7e7eb46cf",
            "max": 1,
            "min": 0,
            "orientation": "horizontal",
            "style": "IPY_MODEL_9c62790793a449bf9ac9a78224863d03",
            "value": 1
          }
        },
        "af1ebf3bd9184ef7b096acc05fab2ed9": {
          "model_module": "@jupyter-widgets/controls",
          "model_module_version": "1.5.0",
          "model_name": "HTMLModel",
          "state": {
            "_dom_classes": [],
            "_model_module": "@jupyter-widgets/controls",
            "_model_module_version": "1.5.0",
            "_model_name": "HTMLModel",
            "_view_count": null,
            "_view_module": "@jupyter-widgets/controls",
            "_view_module_version": "1.5.0",
            "_view_name": "HTMLView",
            "description": "",
            "description_tooltip": null,
            "layout": "IPY_MODEL_41d3d3975dba4e50b0711372fe7e0edd",
            "placeholder": "​",
            "style": "IPY_MODEL_eadb9a1c92e3435083f03e974b601cbd",
            "value": "Dl Completed...: 100%"
          }
        },
        "af78d825916247829720734100d7725c": {
          "model_module": "@jupyter-widgets/base",
          "model_module_version": "1.2.0",
          "model_name": "LayoutModel",
          "state": {
            "_model_module": "@jupyter-widgets/base",
            "_model_module_version": "1.2.0",
            "_model_name": "LayoutModel",
            "_view_count": null,
            "_view_module": "@jupyter-widgets/base",
            "_view_module_version": "1.2.0",
            "_view_name": "LayoutView",
            "align_content": null,
            "align_items": null,
            "align_self": null,
            "border": null,
            "bottom": null,
            "display": null,
            "flex": null,
            "flex_flow": null,
            "grid_area": null,
            "grid_auto_columns": null,
            "grid_auto_flow": null,
            "grid_auto_rows": null,
            "grid_column": null,
            "grid_gap": null,
            "grid_row": null,
            "grid_template_areas": null,
            "grid_template_columns": null,
            "grid_template_rows": null,
            "height": null,
            "justify_content": null,
            "justify_items": null,
            "left": null,
            "margin": null,
            "max_height": null,
            "max_width": null,
            "min_height": null,
            "min_width": null,
            "object_fit": null,
            "object_position": null,
            "order": null,
            "overflow": null,
            "overflow_x": null,
            "overflow_y": null,
            "padding": null,
            "right": null,
            "top": null,
            "visibility": null,
            "width": null
          }
        },
        "b017748607814aef81814d41d5b7b3ac": {
          "model_module": "@jupyter-widgets/controls",
          "model_module_version": "1.5.0",
          "model_name": "FloatProgressModel",
          "state": {
            "_dom_classes": [],
            "_model_module": "@jupyter-widgets/controls",
            "_model_module_version": "1.5.0",
            "_model_name": "FloatProgressModel",
            "_view_count": null,
            "_view_module": "@jupyter-widgets/controls",
            "_view_module_version": "1.5.0",
            "_view_name": "ProgressView",
            "bar_style": "info",
            "description": "",
            "description_tooltip": null,
            "layout": "IPY_MODEL_e947778cc51448ba852248e4e2565259",
            "max": 1,
            "min": 0,
            "orientation": "horizontal",
            "style": "IPY_MODEL_d8477ef06ef34c6ab20f2650b8c84447",
            "value": 1
          }
        },
        "b2009413d1724de686c05dddddb46fc4": {
          "model_module": "@jupyter-widgets/base",
          "model_module_version": "1.2.0",
          "model_name": "LayoutModel",
          "state": {
            "_model_module": "@jupyter-widgets/base",
            "_model_module_version": "1.2.0",
            "_model_name": "LayoutModel",
            "_view_count": null,
            "_view_module": "@jupyter-widgets/base",
            "_view_module_version": "1.2.0",
            "_view_name": "LayoutView",
            "align_content": null,
            "align_items": null,
            "align_self": null,
            "border": null,
            "bottom": null,
            "display": null,
            "flex": null,
            "flex_flow": null,
            "grid_area": null,
            "grid_auto_columns": null,
            "grid_auto_flow": null,
            "grid_auto_rows": null,
            "grid_column": null,
            "grid_gap": null,
            "grid_row": null,
            "grid_template_areas": null,
            "grid_template_columns": null,
            "grid_template_rows": null,
            "height": null,
            "justify_content": null,
            "justify_items": null,
            "left": null,
            "margin": null,
            "max_height": null,
            "max_width": null,
            "min_height": null,
            "min_width": null,
            "object_fit": null,
            "object_position": null,
            "order": null,
            "overflow": null,
            "overflow_x": null,
            "overflow_y": null,
            "padding": null,
            "right": null,
            "top": null,
            "visibility": null,
            "width": null
          }
        },
        "b2a76e2aa42b46f09ff00165df3afb75": {
          "model_module": "@jupyter-widgets/controls",
          "model_module_version": "1.5.0",
          "model_name": "DescriptionStyleModel",
          "state": {
            "_model_module": "@jupyter-widgets/controls",
            "_model_module_version": "1.5.0",
            "_model_name": "DescriptionStyleModel",
            "_view_count": null,
            "_view_module": "@jupyter-widgets/base",
            "_view_module_version": "1.2.0",
            "_view_name": "StyleView",
            "description_width": ""
          }
        },
        "b355fc1f776a43b7a050fe143c8fd6fb": {
          "model_module": "@jupyter-widgets/base",
          "model_module_version": "1.2.0",
          "model_name": "LayoutModel",
          "state": {
            "_model_module": "@jupyter-widgets/base",
            "_model_module_version": "1.2.0",
            "_model_name": "LayoutModel",
            "_view_count": null,
            "_view_module": "@jupyter-widgets/base",
            "_view_module_version": "1.2.0",
            "_view_name": "LayoutView",
            "align_content": null,
            "align_items": null,
            "align_self": null,
            "border": null,
            "bottom": null,
            "display": null,
            "flex": null,
            "flex_flow": null,
            "grid_area": null,
            "grid_auto_columns": null,
            "grid_auto_flow": null,
            "grid_auto_rows": null,
            "grid_column": null,
            "grid_gap": null,
            "grid_row": null,
            "grid_template_areas": null,
            "grid_template_columns": null,
            "grid_template_rows": null,
            "height": null,
            "justify_content": null,
            "justify_items": null,
            "left": null,
            "margin": null,
            "max_height": null,
            "max_width": null,
            "min_height": null,
            "min_width": null,
            "object_fit": null,
            "object_position": null,
            "order": null,
            "overflow": null,
            "overflow_x": null,
            "overflow_y": null,
            "padding": null,
            "right": null,
            "top": null,
            "visibility": null,
            "width": "20px"
          }
        },
        "b37b92085f164f3aa4814b2a9ff552fe": {
          "model_module": "@jupyter-widgets/controls",
          "model_module_version": "1.5.0",
          "model_name": "FloatProgressModel",
          "state": {
            "_dom_classes": [],
            "_model_module": "@jupyter-widgets/controls",
            "_model_module_version": "1.5.0",
            "_model_name": "FloatProgressModel",
            "_view_count": null,
            "_view_module": "@jupyter-widgets/controls",
            "_view_module_version": "1.5.0",
            "_view_name": "ProgressView",
            "bar_style": "danger",
            "description": "",
            "description_tooltip": null,
            "layout": "IPY_MODEL_12c309c1d5e746cbba9b73b186fa4709",
            "max": 10102,
            "min": 0,
            "orientation": "horizontal",
            "style": "IPY_MODEL_3ffa6890bdfc49f7b27f6ef6b652e032",
            "value": 10101
          }
        },
        "b5dca379daa242a88336735662faf521": {
          "model_module": "@jupyter-widgets/base",
          "model_module_version": "1.2.0",
          "model_name": "LayoutModel",
          "state": {
            "_model_module": "@jupyter-widgets/base",
            "_model_module_version": "1.2.0",
            "_model_name": "LayoutModel",
            "_view_count": null,
            "_view_module": "@jupyter-widgets/base",
            "_view_module_version": "1.2.0",
            "_view_name": "LayoutView",
            "align_content": null,
            "align_items": null,
            "align_self": null,
            "border": null,
            "bottom": null,
            "display": null,
            "flex": null,
            "flex_flow": null,
            "grid_area": null,
            "grid_auto_columns": null,
            "grid_auto_flow": null,
            "grid_auto_rows": null,
            "grid_column": null,
            "grid_gap": null,
            "grid_row": null,
            "grid_template_areas": null,
            "grid_template_columns": null,
            "grid_template_rows": null,
            "height": null,
            "justify_content": null,
            "justify_items": null,
            "left": null,
            "margin": null,
            "max_height": null,
            "max_width": null,
            "min_height": null,
            "min_width": null,
            "object_fit": null,
            "object_position": null,
            "order": null,
            "overflow": null,
            "overflow_x": null,
            "overflow_y": null,
            "padding": null,
            "right": null,
            "top": null,
            "visibility": null,
            "width": "20px"
          }
        },
        "b79010206bfb41e98439d718e51172f3": {
          "model_module": "@jupyter-widgets/base",
          "model_module_version": "1.2.0",
          "model_name": "LayoutModel",
          "state": {
            "_model_module": "@jupyter-widgets/base",
            "_model_module_version": "1.2.0",
            "_model_name": "LayoutModel",
            "_view_count": null,
            "_view_module": "@jupyter-widgets/base",
            "_view_module_version": "1.2.0",
            "_view_name": "LayoutView",
            "align_content": null,
            "align_items": null,
            "align_self": null,
            "border": null,
            "bottom": null,
            "display": null,
            "flex": null,
            "flex_flow": null,
            "grid_area": null,
            "grid_auto_columns": null,
            "grid_auto_flow": null,
            "grid_auto_rows": null,
            "grid_column": null,
            "grid_gap": null,
            "grid_row": null,
            "grid_template_areas": null,
            "grid_template_columns": null,
            "grid_template_rows": null,
            "height": null,
            "justify_content": null,
            "justify_items": null,
            "left": null,
            "margin": null,
            "max_height": null,
            "max_width": null,
            "min_height": null,
            "min_width": null,
            "object_fit": null,
            "object_position": null,
            "order": null,
            "overflow": null,
            "overflow_x": null,
            "overflow_y": null,
            "padding": null,
            "right": null,
            "top": null,
            "visibility": null,
            "width": null
          }
        },
        "bcb3c6f364224ff0901f01a0e1d852b6": {
          "model_module": "@jupyter-widgets/controls",
          "model_module_version": "1.5.0",
          "model_name": "HTMLModel",
          "state": {
            "_dom_classes": [],
            "_model_module": "@jupyter-widgets/controls",
            "_model_module_version": "1.5.0",
            "_model_name": "HTMLModel",
            "_view_count": null,
            "_view_module": "@jupyter-widgets/controls",
            "_view_module_version": "1.5.0",
            "_view_name": "HTMLView",
            "description": "",
            "description_tooltip": null,
            "layout": "IPY_MODEL_abaa176c894d4505aced78f41ce3895b",
            "placeholder": "​",
            "style": "IPY_MODEL_e669290ee13a4c83a09dbb2f4ff22259",
            "value": " 85510/85511 [02:21&lt;00:00, 421.37 examples/s]"
          }
        },
        "c2cbd1aa0b5047b4a611791e127483fe": {
          "model_module": "@jupyter-widgets/base",
          "model_module_version": "1.2.0",
          "model_name": "LayoutModel",
          "state": {
            "_model_module": "@jupyter-widgets/base",
            "_model_module_version": "1.2.0",
            "_model_name": "LayoutModel",
            "_view_count": null,
            "_view_module": "@jupyter-widgets/base",
            "_view_module_version": "1.2.0",
            "_view_name": "LayoutView",
            "align_content": null,
            "align_items": null,
            "align_self": null,
            "border": null,
            "bottom": null,
            "display": null,
            "flex": null,
            "flex_flow": null,
            "grid_area": null,
            "grid_auto_columns": null,
            "grid_auto_flow": null,
            "grid_auto_rows": null,
            "grid_column": null,
            "grid_gap": null,
            "grid_row": null,
            "grid_template_areas": null,
            "grid_template_columns": null,
            "grid_template_rows": null,
            "height": null,
            "justify_content": null,
            "justify_items": null,
            "left": null,
            "margin": null,
            "max_height": null,
            "max_width": null,
            "min_height": null,
            "min_width": null,
            "object_fit": null,
            "object_position": null,
            "order": null,
            "overflow": null,
            "overflow_x": null,
            "overflow_y": null,
            "padding": null,
            "right": null,
            "top": null,
            "visibility": null,
            "width": null
          }
        },
        "c3cb5b0a32474434ab12677e795ed9d2": {
          "model_module": "@jupyter-widgets/controls",
          "model_module_version": "1.5.0",
          "model_name": "HBoxModel",
          "state": {
            "_dom_classes": [],
            "_model_module": "@jupyter-widgets/controls",
            "_model_module_version": "1.5.0",
            "_model_name": "HBoxModel",
            "_view_count": null,
            "_view_module": "@jupyter-widgets/controls",
            "_view_module_version": "1.5.0",
            "_view_name": "HBoxView",
            "box_style": "",
            "children": [
              "IPY_MODEL_5284eb3e52a34cdabf47fa33ddccc5a6",
              "IPY_MODEL_d315e00dd3ca46c3b19976152d32aecb",
              "IPY_MODEL_38b0f6a86a0f4f5c8978d16d4bb10ac3"
            ],
            "layout": "IPY_MODEL_d04479ee155649c6be447033ccf831b0"
          }
        },
        "c52b3a8964c34107bb693692f82fd0e9": {
          "model_module": "@jupyter-widgets/controls",
          "model_module_version": "1.5.0",
          "model_name": "DescriptionStyleModel",
          "state": {
            "_model_module": "@jupyter-widgets/controls",
            "_model_module_version": "1.5.0",
            "_model_name": "DescriptionStyleModel",
            "_view_count": null,
            "_view_module": "@jupyter-widgets/base",
            "_view_module_version": "1.2.0",
            "_view_name": "StyleView",
            "description_width": ""
          }
        },
        "c7f3b1534c04448db97fc3e7e7eb46cf": {
          "model_module": "@jupyter-widgets/base",
          "model_module_version": "1.2.0",
          "model_name": "LayoutModel",
          "state": {
            "_model_module": "@jupyter-widgets/base",
            "_model_module_version": "1.2.0",
            "_model_name": "LayoutModel",
            "_view_count": null,
            "_view_module": "@jupyter-widgets/base",
            "_view_module_version": "1.2.0",
            "_view_name": "LayoutView",
            "align_content": null,
            "align_items": null,
            "align_self": null,
            "border": null,
            "bottom": null,
            "display": null,
            "flex": null,
            "flex_flow": null,
            "grid_area": null,
            "grid_auto_columns": null,
            "grid_auto_flow": null,
            "grid_auto_rows": null,
            "grid_column": null,
            "grid_gap": null,
            "grid_row": null,
            "grid_template_areas": null,
            "grid_template_columns": null,
            "grid_template_rows": null,
            "height": null,
            "justify_content": null,
            "justify_items": null,
            "left": null,
            "margin": null,
            "max_height": null,
            "max_width": null,
            "min_height": null,
            "min_width": null,
            "object_fit": null,
            "object_position": null,
            "order": null,
            "overflow": null,
            "overflow_x": null,
            "overflow_y": null,
            "padding": null,
            "right": null,
            "top": null,
            "visibility": null,
            "width": "20px"
          }
        },
        "c8d62017f43348849b20c61edd6f152e": {
          "model_module": "@jupyter-widgets/controls",
          "model_module_version": "1.5.0",
          "model_name": "DescriptionStyleModel",
          "state": {
            "_model_module": "@jupyter-widgets/controls",
            "_model_module_version": "1.5.0",
            "_model_name": "DescriptionStyleModel",
            "_view_count": null,
            "_view_module": "@jupyter-widgets/base",
            "_view_module_version": "1.2.0",
            "_view_name": "StyleView",
            "description_width": ""
          }
        },
        "cc4dd14728df4f358500bead8dbd90d9": {
          "model_module": "@jupyter-widgets/controls",
          "model_module_version": "1.5.0",
          "model_name": "HTMLModel",
          "state": {
            "_dom_classes": [],
            "_model_module": "@jupyter-widgets/controls",
            "_model_module_version": "1.5.0",
            "_model_name": "HTMLModel",
            "_view_count": null,
            "_view_module": "@jupyter-widgets/controls",
            "_view_module_version": "1.5.0",
            "_view_name": "HTMLView",
            "description": "",
            "description_tooltip": null,
            "layout": "IPY_MODEL_39b9e001ce98402a87f66e7af7bf4735",
            "placeholder": "​",
            "style": "IPY_MODEL_7418f17c761a440e9294c2d5268e24da",
            "value": ""
          }
        },
        "cd1ef18a37fe4114ad3fca225858b998": {
          "model_module": "@jupyter-widgets/controls",
          "model_module_version": "1.5.0",
          "model_name": "DescriptionStyleModel",
          "state": {
            "_model_module": "@jupyter-widgets/controls",
            "_model_module_version": "1.5.0",
            "_model_name": "DescriptionStyleModel",
            "_view_count": null,
            "_view_module": "@jupyter-widgets/base",
            "_view_module_version": "1.2.0",
            "_view_name": "StyleView",
            "description_width": ""
          }
        },
        "d04479ee155649c6be447033ccf831b0": {
          "model_module": "@jupyter-widgets/base",
          "model_module_version": "1.2.0",
          "model_name": "LayoutModel",
          "state": {
            "_model_module": "@jupyter-widgets/base",
            "_model_module_version": "1.2.0",
            "_model_name": "LayoutModel",
            "_view_count": null,
            "_view_module": "@jupyter-widgets/base",
            "_view_module_version": "1.2.0",
            "_view_name": "LayoutView",
            "align_content": null,
            "align_items": null,
            "align_self": null,
            "border": null,
            "bottom": null,
            "display": null,
            "flex": null,
            "flex_flow": null,
            "grid_area": null,
            "grid_auto_columns": null,
            "grid_auto_flow": null,
            "grid_auto_rows": null,
            "grid_column": null,
            "grid_gap": null,
            "grid_row": null,
            "grid_template_areas": null,
            "grid_template_columns": null,
            "grid_template_rows": null,
            "height": null,
            "justify_content": null,
            "justify_items": null,
            "left": null,
            "margin": null,
            "max_height": null,
            "max_width": null,
            "min_height": null,
            "min_width": null,
            "object_fit": null,
            "object_position": null,
            "order": null,
            "overflow": null,
            "overflow_x": null,
            "overflow_y": null,
            "padding": null,
            "right": null,
            "top": null,
            "visibility": null,
            "width": null
          }
        },
        "d0e7a89fedf84e26b78c0c2cc205bb4f": {
          "model_module": "@jupyter-widgets/controls",
          "model_module_version": "1.5.0",
          "model_name": "HTMLModel",
          "state": {
            "_dom_classes": [],
            "_model_module": "@jupyter-widgets/controls",
            "_model_module_version": "1.5.0",
            "_model_name": "HTMLModel",
            "_view_count": null,
            "_view_module": "@jupyter-widgets/controls",
            "_view_module_version": "1.5.0",
            "_view_name": "HTMLView",
            "description": "",
            "description_tooltip": null,
            "layout": "IPY_MODEL_4317cc8b9da4411381302c0879109bf6",
            "placeholder": "​",
            "style": "IPY_MODEL_c8d62017f43348849b20c61edd6f152e",
            "value": " 10101/10102 [00:03&lt;00:00, 2357.94 examples/s]"
          }
        },
        "d315e00dd3ca46c3b19976152d32aecb": {
          "model_module": "@jupyter-widgets/controls",
          "model_module_version": "1.5.0",
          "model_name": "FloatProgressModel",
          "state": {
            "_dom_classes": [],
            "_model_module": "@jupyter-widgets/controls",
            "_model_module_version": "1.5.0",
            "_model_name": "FloatProgressModel",
            "_view_count": null,
            "_view_module": "@jupyter-widgets/controls",
            "_view_module_version": "1.5.0",
            "_view_name": "ProgressView",
            "bar_style": "danger",
            "description": "",
            "description_tooltip": null,
            "layout": "IPY_MODEL_4f21db695259403c8bed92d0cbdee841",
            "max": 4890,
            "min": 0,
            "orientation": "horizontal",
            "style": "IPY_MODEL_f05d9fcc79d44e7588fdb2c44c0bba7a",
            "value": 4889
          }
        },
        "d8477ef06ef34c6ab20f2650b8c84447": {
          "model_module": "@jupyter-widgets/controls",
          "model_module_version": "1.5.0",
          "model_name": "ProgressStyleModel",
          "state": {
            "_model_module": "@jupyter-widgets/controls",
            "_model_module_version": "1.5.0",
            "_model_name": "ProgressStyleModel",
            "_view_count": null,
            "_view_module": "@jupyter-widgets/base",
            "_view_module_version": "1.2.0",
            "_view_name": "StyleView",
            "bar_color": null,
            "description_width": ""
          }
        },
        "db1cea8b51614f4cb52f684305907d6c": {
          "model_module": "@jupyter-widgets/controls",
          "model_module_version": "1.5.0",
          "model_name": "HTMLModel",
          "state": {
            "_dom_classes": [],
            "_model_module": "@jupyter-widgets/controls",
            "_model_module_version": "1.5.0",
            "_model_name": "HTMLModel",
            "_view_count": null,
            "_view_module": "@jupyter-widgets/controls",
            "_view_module_version": "1.5.0",
            "_view_name": "HTMLView",
            "description": "",
            "description_tooltip": null,
            "layout": "IPY_MODEL_1739ccc1bad541bda4fa82845f6ae59d",
            "placeholder": "​",
            "style": "IPY_MODEL_3868b8727ade481b8eaafdc0ec58ff31",
            "value": "Dl Size...: 100%"
          }
        },
        "e24755becc894c5da703d3b3e2ec2ab9": {
          "model_module": "@jupyter-widgets/base",
          "model_module_version": "1.2.0",
          "model_name": "LayoutModel",
          "state": {
            "_model_module": "@jupyter-widgets/base",
            "_model_module_version": "1.2.0",
            "_model_name": "LayoutModel",
            "_view_count": null,
            "_view_module": "@jupyter-widgets/base",
            "_view_module_version": "1.2.0",
            "_view_name": "LayoutView",
            "align_content": null,
            "align_items": null,
            "align_self": null,
            "border": null,
            "bottom": null,
            "display": null,
            "flex": null,
            "flex_flow": null,
            "grid_area": null,
            "grid_auto_columns": null,
            "grid_auto_flow": null,
            "grid_auto_rows": null,
            "grid_column": null,
            "grid_gap": null,
            "grid_row": null,
            "grid_template_areas": null,
            "grid_template_columns": null,
            "grid_template_rows": null,
            "height": null,
            "justify_content": null,
            "justify_items": null,
            "left": null,
            "margin": null,
            "max_height": null,
            "max_width": null,
            "min_height": null,
            "min_width": null,
            "object_fit": null,
            "object_position": null,
            "order": null,
            "overflow": null,
            "overflow_x": null,
            "overflow_y": null,
            "padding": null,
            "right": null,
            "top": null,
            "visibility": null,
            "width": null
          }
        },
        "e669290ee13a4c83a09dbb2f4ff22259": {
          "model_module": "@jupyter-widgets/controls",
          "model_module_version": "1.5.0",
          "model_name": "DescriptionStyleModel",
          "state": {
            "_model_module": "@jupyter-widgets/controls",
            "_model_module_version": "1.5.0",
            "_model_name": "DescriptionStyleModel",
            "_view_count": null,
            "_view_module": "@jupyter-widgets/base",
            "_view_module_version": "1.2.0",
            "_view_name": "StyleView",
            "description_width": ""
          }
        },
        "e76939afb0384539a7ccf00e6116a706": {
          "model_module": "@jupyter-widgets/controls",
          "model_module_version": "1.5.0",
          "model_name": "DescriptionStyleModel",
          "state": {
            "_model_module": "@jupyter-widgets/controls",
            "_model_module_version": "1.5.0",
            "_model_name": "DescriptionStyleModel",
            "_view_count": null,
            "_view_module": "@jupyter-widgets/base",
            "_view_module_version": "1.2.0",
            "_view_name": "StyleView",
            "description_width": ""
          }
        },
        "e93077a7b38343e8ad9d649094aab8fa": {
          "model_module": "@jupyter-widgets/base",
          "model_module_version": "1.2.0",
          "model_name": "LayoutModel",
          "state": {
            "_model_module": "@jupyter-widgets/base",
            "_model_module_version": "1.2.0",
            "_model_name": "LayoutModel",
            "_view_count": null,
            "_view_module": "@jupyter-widgets/base",
            "_view_module_version": "1.2.0",
            "_view_name": "LayoutView",
            "align_content": null,
            "align_items": null,
            "align_self": null,
            "border": null,
            "bottom": null,
            "display": null,
            "flex": null,
            "flex_flow": null,
            "grid_area": null,
            "grid_auto_columns": null,
            "grid_auto_flow": null,
            "grid_auto_rows": null,
            "grid_column": null,
            "grid_gap": null,
            "grid_row": null,
            "grid_template_areas": null,
            "grid_template_columns": null,
            "grid_template_rows": null,
            "height": null,
            "justify_content": null,
            "justify_items": null,
            "left": null,
            "margin": null,
            "max_height": null,
            "max_width": null,
            "min_height": null,
            "min_width": null,
            "object_fit": null,
            "object_position": null,
            "order": null,
            "overflow": null,
            "overflow_x": null,
            "overflow_y": null,
            "padding": null,
            "right": null,
            "top": null,
            "visibility": null,
            "width": null
          }
        },
        "e947778cc51448ba852248e4e2565259": {
          "model_module": "@jupyter-widgets/base",
          "model_module_version": "1.2.0",
          "model_name": "LayoutModel",
          "state": {
            "_model_module": "@jupyter-widgets/base",
            "_model_module_version": "1.2.0",
            "_model_name": "LayoutModel",
            "_view_count": null,
            "_view_module": "@jupyter-widgets/base",
            "_view_module_version": "1.2.0",
            "_view_name": "LayoutView",
            "align_content": null,
            "align_items": null,
            "align_self": null,
            "border": null,
            "bottom": null,
            "display": null,
            "flex": null,
            "flex_flow": null,
            "grid_area": null,
            "grid_auto_columns": null,
            "grid_auto_flow": null,
            "grid_auto_rows": null,
            "grid_column": null,
            "grid_gap": null,
            "grid_row": null,
            "grid_template_areas": null,
            "grid_template_columns": null,
            "grid_template_rows": null,
            "height": null,
            "justify_content": null,
            "justify_items": null,
            "left": null,
            "margin": null,
            "max_height": null,
            "max_width": null,
            "min_height": null,
            "min_width": null,
            "object_fit": null,
            "object_position": null,
            "order": null,
            "overflow": null,
            "overflow_x": null,
            "overflow_y": null,
            "padding": null,
            "right": null,
            "top": null,
            "visibility": null,
            "width": "20px"
          }
        },
        "eadb9a1c92e3435083f03e974b601cbd": {
          "model_module": "@jupyter-widgets/controls",
          "model_module_version": "1.5.0",
          "model_name": "DescriptionStyleModel",
          "state": {
            "_model_module": "@jupyter-widgets/controls",
            "_model_module_version": "1.5.0",
            "_model_name": "DescriptionStyleModel",
            "_view_count": null,
            "_view_module": "@jupyter-widgets/base",
            "_view_module_version": "1.2.0",
            "_view_name": "StyleView",
            "description_width": ""
          }
        },
        "f05d9fcc79d44e7588fdb2c44c0bba7a": {
          "model_module": "@jupyter-widgets/controls",
          "model_module_version": "1.5.0",
          "model_name": "ProgressStyleModel",
          "state": {
            "_model_module": "@jupyter-widgets/controls",
            "_model_module_version": "1.5.0",
            "_model_name": "ProgressStyleModel",
            "_view_count": null,
            "_view_module": "@jupyter-widgets/base",
            "_view_module_version": "1.2.0",
            "_view_name": "StyleView",
            "bar_color": null,
            "description_width": ""
          }
        },
        "f9a4282b44444462a37f8518e5e243a1": {
          "model_module": "@jupyter-widgets/controls",
          "model_module_version": "1.5.0",
          "model_name": "HTMLModel",
          "state": {
            "_dom_classes": [],
            "_model_module": "@jupyter-widgets/controls",
            "_model_module_version": "1.5.0",
            "_model_name": "HTMLModel",
            "_view_count": null,
            "_view_module": "@jupyter-widgets/controls",
            "_view_module_version": "1.5.0",
            "_view_name": "HTMLView",
            "description": "",
            "description_tooltip": null,
            "layout": "IPY_MODEL_e24755becc894c5da703d3b3e2ec2ab9",
            "placeholder": "​",
            "style": "IPY_MODEL_cd1ef18a37fe4114ad3fca225858b998",
            "value": "100%"
          }
        }
      }
    }
  },
  "nbformat": 4,
  "nbformat_minor": 0
}
